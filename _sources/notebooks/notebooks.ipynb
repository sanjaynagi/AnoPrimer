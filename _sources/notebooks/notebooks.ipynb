{
 "cells": [
  {
   "attachments": {},
   "cell_type": "markdown",
   "id": "cce4eedb",
   "metadata": {},
   "source": [
    "# Notebooks\n",
    "\n",
    "As well as a standalone python package, AnoPrimer is organised into two jupyter notebooks, intended to be run in google colab:\n",
    "\n",
    "<br>\n",
    "</br>\n",
    "\n",
    "<div align=\"center\">\n",
    "\n",
    "[![Custom badge](https://img.shields.io/endpoint?color=white&logo=Google%20Colab&url=https%3A%2F%2Fraw.githubusercontent.com%2Fsanjaynagi%2FAnoPrimer%2Fmain%2Fgraphics%2Fbadge.json)](https://colab.research.google.com/github/sanjaynagi/AnoPrimer/blob/main/notebooks/AnoPrimer-long.ipynb)\n",
    "\n",
    "[![Custom badge](https://img.shields.io/endpoint?color=red&logo=Google%20Colab&url=https%3A%2F%2Fraw.githubusercontent.com%2Fsanjaynagi%2FAnoPrimer%2Fmain%2Fgraphics%2Fbadge-short.json)](https://colab.research.google.com/github/sanjaynagi/AnoPrimer/blob/main/notebooks/AnoPrimer-short.ipynb)\n",
    "\n",
    "</div>\n"
   ]
  }
 ],
 "metadata": {
  "kernelspec": {
   "display_name": "Python 3 (ipykernel)",
   "language": "python",
   "name": "python3"
  },
  "language_info": {
   "codemirror_mode": {
    "name": "ipython",
    "version": 3
   },
   "file_extension": ".py",
   "mimetype": "text/x-python",
   "name": "python",
   "nbconvert_exporter": "python",
   "pygments_lexer": "ipython3",
   "version": "3.6.9 (default, Nov 25 2022, 14:10:45) \n[GCC 8.4.0]"
  },
  "vscode": {
   "interpreter": {
    "hash": "31f2aee4e71d21fbe5cf8b01ff0e069b9275f58929596ceb00d14d90e3e16cd6"
   }
  }
 },
 "nbformat": 4,
 "nbformat_minor": 5
}
