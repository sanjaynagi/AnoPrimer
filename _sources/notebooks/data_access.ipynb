{
 "cells": [
  {
   "attachments": {},
   "cell_type": "markdown",
   "id": "cce4eedb",
   "metadata": {},
   "source": [
    "# Data Access\n",
    "\n",
    "## Accessing MalariaGEN Vector Observatory Data\n",
    "\n",
    "AnoPrimer relies on the malariagen_data package to access genetic variation data from wild whole-genome sequenced specimens of *An. gambiae* and *An. funestus*. Recently, the access process for the MalariaGEN Vector Observatory data has been updated. \n",
    "\n",
    "If using AnoPrimer within Google Colab, you will be asked to sign-in with your malariagen_data associated credentials. If using AnoPrimer elsewhere, you will need to set up your credentials as described in the [malariagen_data documentation](https://malariagen.github.io/vector-data/vobs/vobs-data-access.html).\n",
    "\n"
   ]
  }
 ],
 "metadata": {
  "kernelspec": {
   "display_name": "Python 3 (ipykernel)",
   "language": "python",
   "name": "python3"
  },
  "language_info": {
   "codemirror_mode": {
    "name": "ipython",
    "version": 3
   },
   "file_extension": ".py",
   "mimetype": "text/x-python",
   "name": "python",
   "nbconvert_exporter": "python",
   "pygments_lexer": "ipython3",
   "version": "3.6.9 (default, Nov 25 2022, 14:10:45) \n[GCC 8.4.0]"
  },
  "vscode": {
   "interpreter": {
    "hash": "31f2aee4e71d21fbe5cf8b01ff0e069b9275f58929596ceb00d14d90e3e16cd6"
   }
  }
 },
 "nbformat": 4,
 "nbformat_minor": 5
}
