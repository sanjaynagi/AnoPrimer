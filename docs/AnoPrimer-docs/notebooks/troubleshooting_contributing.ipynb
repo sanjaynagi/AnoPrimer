{
 "cells": [
  {
   "attachments": {},
   "cell_type": "markdown",
   "id": "cce4eedb",
   "metadata": {},
   "source": [
    "# Troubleshooting\n",
    "\n",
    "If you run into a problem or find a bug in the notebooks, please raise an issue to the [issue tracker](https://github.com/sanjaynagi/AnoPrimer/issues). \n",
    "\n",
    "If its not for a bug, but for general help and guidance, you may also [email](mailto:sanjay.c.nagi@gmail.com) me directly.\n",
    "\n",
    "\n",
    "# Contributing\n",
    "\n",
    "We encourage contributions to AnoPrimer.\n",
    "\n",
    "If you have any feedback on how the repo may be improved, please do get in touch by emailing or raising an [issue on github](https://github.com/sanjaynagi/AnoPrimer/issues), or fork the github repository and create a pull request for any additional features you would like to implement."
   ]
  }
 ],
 "metadata": {
  "kernelspec": {
   "display_name": "Python 3 (ipykernel)",
   "language": "python",
   "name": "python3"
  },
  "language_info": {
   "codemirror_mode": {
    "name": "ipython",
    "version": 3
   },
   "file_extension": ".py",
   "mimetype": "text/x-python",
   "name": "python",
   "nbconvert_exporter": "python",
   "pygments_lexer": "ipython3",
   "version": "3.6.9 (default, Nov 25 2022, 14:10:45) \n[GCC 8.4.0]"
  },
  "vscode": {
   "interpreter": {
    "hash": "31f2aee4e71d21fbe5cf8b01ff0e069b9275f58929596ceb00d14d90e3e16cd6"
   }
  }
 },
 "nbformat": 4,
 "nbformat_minor": 5
}
