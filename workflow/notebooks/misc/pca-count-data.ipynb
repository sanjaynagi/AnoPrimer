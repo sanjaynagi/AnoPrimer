{
  "nbformat": 4,
  "nbformat_minor": 0,
  "metadata": {
    "colab": {
      "provenance": [],
      "include_colab_link": true
    },
    "kernelspec": {
      "name": "python3",
      "display_name": "Python 3"
    },
    "language_info": {
      "name": "python"
    },
    "gpuClass": "standard"
  },
  "cells": [
    {
      "cell_type": "markdown",
      "metadata": {
        "id": "view-in-github",
        "colab_type": "text"
      },
      "source": [
        "<a href=\"https://colab.research.google.com/github/sanjaynagi/AgamPrimer/blob/main/workflow/notebooks/misc/pca-count-data.ipynb\" target=\"_parent\"><img src=\"https://colab.research.google.com/assets/colab-badge.svg\" alt=\"Open In Colab\"/></a>"
      ]
    },
    {
      "cell_type": "code",
      "source": [
        "!pip install Ano_express"
      ],
      "metadata": {
        "id": "3PmSRGa122aL"
      },
      "execution_count": null,
      "outputs": []
    },
    {
      "cell_type": "code",
      "source": [
        "import pandas as pd\n",
        "import numpy as np\n",
        "import plotly.express as px"
      ],
      "metadata": {
        "id": "Az2nLmd3VGpx"
      },
      "execution_count": 2,
      "outputs": []
    },
    {
      "cell_type": "code",
      "source": [
        "import Ano_express as xpress"
      ],
      "metadata": {
        "id": "Wl1JPDD6246j"
      },
      "execution_count": 3,
      "outputs": []
    },
    {
      "cell_type": "markdown",
      "source": [
        "# Principal components analysis"
      ],
      "metadata": {
        "id": "oBm76PlYASKB"
      }
    },
    {
      "cell_type": "code",
      "source": [
        "### TODO - fix subsetting metadata when full dataset is not used "
      ],
      "metadata": {
        "id": "U9xm7dBabGPA"
      },
      "execution_count": null,
      "outputs": []
    },
    {
      "cell_type": "code",
      "source": [
        "xpress.data?"
      ],
      "metadata": {
        "id": "O3-cTpNF3H_6"
      },
      "execution_count": 5,
      "outputs": []
    },
    {
      "cell_type": "code",
      "source": [
        "  comp_metadata, sample_metadata = xpress.metadata(analysis=analysis, microarray=microarray, sample_metadata=True)\n"
      ],
      "metadata": {
        "id": "t-GrXV28i-q7"
      },
      "execution_count": 40,
      "outputs": []
    },
    {
      "cell_type": "code",
      "source": [
        "sample_metadata"
      ],
      "metadata": {
        "id": "-BwaSbT6jIF2",
        "outputId": "1721eacb-2d81-4eee-ed02-de624897164b",
        "colab": {
          "base_uri": "https://localhost:8080/",
          "height": 423
        }
      },
      "execution_count": 43,
      "outputs": [
        {
          "output_type": "execute_result",
          "data": {
            "text/plain": [
              "        sampleID   condition resistance   species  batch       country\n",
              "0           Tie1     Tiefora  resistant  coluzzii      1  Burkina Faso\n",
              "1           Tie2     Tiefora  resistant  coluzzii      1  Burkina Faso\n",
              "2           Tie3     Tiefora  resistant  coluzzii      1  Burkina Faso\n",
              "3           Ban1         Ban  resistant  coluzzii      2  Burkina Faso\n",
              "4           Ban2         Ban  resistant  coluzzii      2  Burkina Faso\n",
              "..           ...         ...        ...       ...    ...           ...\n",
              "193  Uganda_fun5  Uganda_fun  resistant  funestus      7        Uganda\n",
              "194  Uganda_fun6  Uganda_fun  resistant  funestus      7        Uganda\n",
              "195  Uganda_fun7  Uganda_fun  resistant  funestus      7        Uganda\n",
              "196  Uganda_fun8  Uganda_fun  resistant  funestus      7        Uganda\n",
              "197  Uganda_fun9  Uganda_fun  resistant  funestus      7        Uganda\n",
              "\n",
              "[198 rows x 6 columns]"
            ],
            "text/html": [
              "\n",
              "  <div id=\"df-c7277ea9-543c-4d71-9f72-c9d43f90bc28\">\n",
              "    <div class=\"colab-df-container\">\n",
              "      <div>\n",
              "<style scoped>\n",
              "    .dataframe tbody tr th:only-of-type {\n",
              "        vertical-align: middle;\n",
              "    }\n",
              "\n",
              "    .dataframe tbody tr th {\n",
              "        vertical-align: top;\n",
              "    }\n",
              "\n",
              "    .dataframe thead th {\n",
              "        text-align: right;\n",
              "    }\n",
              "</style>\n",
              "<table border=\"1\" class=\"dataframe\">\n",
              "  <thead>\n",
              "    <tr style=\"text-align: right;\">\n",
              "      <th></th>\n",
              "      <th>sampleID</th>\n",
              "      <th>condition</th>\n",
              "      <th>resistance</th>\n",
              "      <th>species</th>\n",
              "      <th>batch</th>\n",
              "      <th>country</th>\n",
              "    </tr>\n",
              "  </thead>\n",
              "  <tbody>\n",
              "    <tr>\n",
              "      <th>0</th>\n",
              "      <td>Tie1</td>\n",
              "      <td>Tiefora</td>\n",
              "      <td>resistant</td>\n",
              "      <td>coluzzii</td>\n",
              "      <td>1</td>\n",
              "      <td>Burkina Faso</td>\n",
              "    </tr>\n",
              "    <tr>\n",
              "      <th>1</th>\n",
              "      <td>Tie2</td>\n",
              "      <td>Tiefora</td>\n",
              "      <td>resistant</td>\n",
              "      <td>coluzzii</td>\n",
              "      <td>1</td>\n",
              "      <td>Burkina Faso</td>\n",
              "    </tr>\n",
              "    <tr>\n",
              "      <th>2</th>\n",
              "      <td>Tie3</td>\n",
              "      <td>Tiefora</td>\n",
              "      <td>resistant</td>\n",
              "      <td>coluzzii</td>\n",
              "      <td>1</td>\n",
              "      <td>Burkina Faso</td>\n",
              "    </tr>\n",
              "    <tr>\n",
              "      <th>3</th>\n",
              "      <td>Ban1</td>\n",
              "      <td>Ban</td>\n",
              "      <td>resistant</td>\n",
              "      <td>coluzzii</td>\n",
              "      <td>2</td>\n",
              "      <td>Burkina Faso</td>\n",
              "    </tr>\n",
              "    <tr>\n",
              "      <th>4</th>\n",
              "      <td>Ban2</td>\n",
              "      <td>Ban</td>\n",
              "      <td>resistant</td>\n",
              "      <td>coluzzii</td>\n",
              "      <td>2</td>\n",
              "      <td>Burkina Faso</td>\n",
              "    </tr>\n",
              "    <tr>\n",
              "      <th>...</th>\n",
              "      <td>...</td>\n",
              "      <td>...</td>\n",
              "      <td>...</td>\n",
              "      <td>...</td>\n",
              "      <td>...</td>\n",
              "      <td>...</td>\n",
              "    </tr>\n",
              "    <tr>\n",
              "      <th>193</th>\n",
              "      <td>Uganda_fun5</td>\n",
              "      <td>Uganda_fun</td>\n",
              "      <td>resistant</td>\n",
              "      <td>funestus</td>\n",
              "      <td>7</td>\n",
              "      <td>Uganda</td>\n",
              "    </tr>\n",
              "    <tr>\n",
              "      <th>194</th>\n",
              "      <td>Uganda_fun6</td>\n",
              "      <td>Uganda_fun</td>\n",
              "      <td>resistant</td>\n",
              "      <td>funestus</td>\n",
              "      <td>7</td>\n",
              "      <td>Uganda</td>\n",
              "    </tr>\n",
              "    <tr>\n",
              "      <th>195</th>\n",
              "      <td>Uganda_fun7</td>\n",
              "      <td>Uganda_fun</td>\n",
              "      <td>resistant</td>\n",
              "      <td>funestus</td>\n",
              "      <td>7</td>\n",
              "      <td>Uganda</td>\n",
              "    </tr>\n",
              "    <tr>\n",
              "      <th>196</th>\n",
              "      <td>Uganda_fun8</td>\n",
              "      <td>Uganda_fun</td>\n",
              "      <td>resistant</td>\n",
              "      <td>funestus</td>\n",
              "      <td>7</td>\n",
              "      <td>Uganda</td>\n",
              "    </tr>\n",
              "    <tr>\n",
              "      <th>197</th>\n",
              "      <td>Uganda_fun9</td>\n",
              "      <td>Uganda_fun</td>\n",
              "      <td>resistant</td>\n",
              "      <td>funestus</td>\n",
              "      <td>7</td>\n",
              "      <td>Uganda</td>\n",
              "    </tr>\n",
              "  </tbody>\n",
              "</table>\n",
              "<p>198 rows × 6 columns</p>\n",
              "</div>\n",
              "      <button class=\"colab-df-convert\" onclick=\"convertToInteractive('df-c7277ea9-543c-4d71-9f72-c9d43f90bc28')\"\n",
              "              title=\"Convert this dataframe to an interactive table.\"\n",
              "              style=\"display:none;\">\n",
              "        \n",
              "  <svg xmlns=\"http://www.w3.org/2000/svg\" height=\"24px\"viewBox=\"0 0 24 24\"\n",
              "       width=\"24px\">\n",
              "    <path d=\"M0 0h24v24H0V0z\" fill=\"none\"/>\n",
              "    <path d=\"M18.56 5.44l.94 2.06.94-2.06 2.06-.94-2.06-.94-.94-2.06-.94 2.06-2.06.94zm-11 1L8.5 8.5l.94-2.06 2.06-.94-2.06-.94L8.5 2.5l-.94 2.06-2.06.94zm10 10l.94 2.06.94-2.06 2.06-.94-2.06-.94-.94-2.06-.94 2.06-2.06.94z\"/><path d=\"M17.41 7.96l-1.37-1.37c-.4-.4-.92-.59-1.43-.59-.52 0-1.04.2-1.43.59L10.3 9.45l-7.72 7.72c-.78.78-.78 2.05 0 2.83L4 21.41c.39.39.9.59 1.41.59.51 0 1.02-.2 1.41-.59l7.78-7.78 2.81-2.81c.8-.78.8-2.07 0-2.86zM5.41 20L4 18.59l7.72-7.72 1.47 1.35L5.41 20z\"/>\n",
              "  </svg>\n",
              "      </button>\n",
              "      \n",
              "  <style>\n",
              "    .colab-df-container {\n",
              "      display:flex;\n",
              "      flex-wrap:wrap;\n",
              "      gap: 12px;\n",
              "    }\n",
              "\n",
              "    .colab-df-convert {\n",
              "      background-color: #E8F0FE;\n",
              "      border: none;\n",
              "      border-radius: 50%;\n",
              "      cursor: pointer;\n",
              "      display: none;\n",
              "      fill: #1967D2;\n",
              "      height: 32px;\n",
              "      padding: 0 0 0 0;\n",
              "      width: 32px;\n",
              "    }\n",
              "\n",
              "    .colab-df-convert:hover {\n",
              "      background-color: #E2EBFA;\n",
              "      box-shadow: 0px 1px 2px rgba(60, 64, 67, 0.3), 0px 1px 3px 1px rgba(60, 64, 67, 0.15);\n",
              "      fill: #174EA6;\n",
              "    }\n",
              "\n",
              "    [theme=dark] .colab-df-convert {\n",
              "      background-color: #3B4455;\n",
              "      fill: #D2E3FC;\n",
              "    }\n",
              "\n",
              "    [theme=dark] .colab-df-convert:hover {\n",
              "      background-color: #434B5C;\n",
              "      box-shadow: 0px 1px 3px 1px rgba(0, 0, 0, 0.15);\n",
              "      filter: drop-shadow(0px 1px 2px rgba(0, 0, 0, 0.3));\n",
              "      fill: #FFFFFF;\n",
              "    }\n",
              "  </style>\n",
              "\n",
              "      <script>\n",
              "        const buttonEl =\n",
              "          document.querySelector('#df-c7277ea9-543c-4d71-9f72-c9d43f90bc28 button.colab-df-convert');\n",
              "        buttonEl.style.display =\n",
              "          google.colab.kernel.accessAllowed ? 'block' : 'none';\n",
              "\n",
              "        async function convertToInteractive(key) {\n",
              "          const element = document.querySelector('#df-c7277ea9-543c-4d71-9f72-c9d43f90bc28');\n",
              "          const dataTable =\n",
              "            await google.colab.kernel.invokeFunction('convertToInteractive',\n",
              "                                                     [key], {});\n",
              "          if (!dataTable) return;\n",
              "\n",
              "          const docLinkHtml = 'Like what you see? Visit the ' +\n",
              "            '<a target=\"_blank\" href=https://colab.research.google.com/notebooks/data_table.ipynb>data table notebook</a>'\n",
              "            + ' to learn more about interactive tables.';\n",
              "          element.innerHTML = '';\n",
              "          dataTable['output_type'] = 'display_data';\n",
              "          await google.colab.output.renderOutput(dataTable, element);\n",
              "          const docLink = document.createElement('div');\n",
              "          docLink.innerHTML = docLinkHtml;\n",
              "          element.appendChild(docLink);\n",
              "        }\n",
              "      </script>\n",
              "    </div>\n",
              "  </div>\n",
              "  "
            ]
          },
          "metadata": {},
          "execution_count": 43
        }
      ]
    },
    {
      "cell_type": "code",
      "source": [
        "def pca(analysis, data_type, microarray=False, x=\"PC1\", y=\"PC2\"):\n",
        "  from sklearn.decomposition import PCA\n",
        "\n",
        "  comp_metadata, sample_metadata = xpress.metadata(analysis=analysis, microarray=microarray, sample_metadata=True)\n",
        "  results_df = xpress.data(data_type=data_type, analysis=analysis, microarray=microarray)\n",
        "\n",
        "  pca = PCA(n_components=6)\n",
        "  principalComponents = pca.fit_transform(results_df.dropna().T)\n",
        "  pc = pd.DataFrame(data = principalComponents, columns = ['PC1', 'PC2', 'PC3', 'PC4', 'PC5', 'PC6'])\n",
        "\n",
        "  if data_type == 'log2counts':\n",
        "    pca_df = pd.concat([sample_metadata, pc], axis=1)\n",
        "    fig = px.scatter(data_frame=pca_df, x=x, y=y, color='species', hover_data = ['sampleID', 'condition',  'resistance', 'country', 'species'], template=\"ggplot2\", width=800, height=600)\n",
        "  else:\n",
        "    pca_df = pd.concat([comp_metadata, pc], axis=1)\n",
        "    fig = px.scatter(data_frame=pca_df, x=x, y=y, color='species', hover_data = ['comparison', 'resistant', 'susceptible', 'country', 'species', 'technology'], template=\"ggplot2\", width=800, height=600)\n",
        "\n",
        "\n",
        "  pc_df = pd.DataFrame({'PC':['PC1', 'PC2', 'PC3', 'PC4', 'PC5', 'PC6'], \n",
        "              'explained_variance':pca.explained_variance_ratio_})\n",
        "\n",
        "  var_fig=px.bar(pc_df, x='PC', y='explained_variance', width=800, height=400)  \n",
        "  var_fig.show()\n",
        "  return(fig)\n"
      ],
      "metadata": {
        "id": "4mwawklRH1qb"
      },
      "execution_count": 49,
      "outputs": []
    },
    {
      "cell_type": "code",
      "source": [
        "analysis='gamb_colu_arab_fun'\n",
        "microarray=True\n",
        "data_type='fcs'"
      ],
      "metadata": {
        "id": "Igty5jhvhyr8"
      },
      "execution_count": 47,
      "outputs": []
    },
    {
      "cell_type": "code",
      "source": [
        "pca(analysis='gamb_colu_arab_fun', data_type='fcs', microarray=True)"
      ],
      "metadata": {
        "id": "SVUZE1oM3hlx",
        "outputId": "cb7add35-d5d8-4902-a09f-633f9b19642a",
        "colab": {
          "base_uri": "https://localhost:8080/",
          "height": 1000
        }
      },
      "execution_count": 50,
      "outputs": [
        {
          "output_type": "stream",
          "name": "stderr",
          "text": [
            "/usr/local/lib/python3.8/dist-packages/sklearn/utils/validation.py:1688: FutureWarning:\n",
            "\n",
            "Feature names only support names that are all strings. Got feature names with dtypes: ['tuple']. An error will be raised in 1.2.\n",
            "\n"
          ]
        },
        {
          "output_type": "display_data",
          "data": {
            "text/html": [
              "<html>\n",
              "<head><meta charset=\"utf-8\" /></head>\n",
              "<body>\n",
              "    <div>            <script src=\"https://cdnjs.cloudflare.com/ajax/libs/mathjax/2.7.5/MathJax.js?config=TeX-AMS-MML_SVG\"></script><script type=\"text/javascript\">if (window.MathJax) {MathJax.Hub.Config({SVG: {font: \"STIX-Web\"}});}</script>                <script type=\"text/javascript\">window.PlotlyConfig = {MathJaxConfig: 'local'};</script>\n",
              "        <script src=\"https://cdn.plot.ly/plotly-2.8.3.min.js\"></script>                <div id=\"847d0e73-f023-4aab-994e-9f244dd2fea1\" class=\"plotly-graph-div\" style=\"height:400px; width:800px;\"></div>            <script type=\"text/javascript\">                                    window.PLOTLYENV=window.PLOTLYENV || {};                                    if (document.getElementById(\"847d0e73-f023-4aab-994e-9f244dd2fea1\")) {                    Plotly.newPlot(                        \"847d0e73-f023-4aab-994e-9f244dd2fea1\",                        [{\"alignmentgroup\":\"True\",\"hovertemplate\":\"PC=%{x}<br>explained_variance=%{y}<extra></extra>\",\"legendgroup\":\"\",\"marker\":{\"color\":\"#636efa\",\"pattern\":{\"shape\":\"\"}},\"name\":\"\",\"offsetgroup\":\"\",\"orientation\":\"v\",\"showlegend\":false,\"textposition\":\"auto\",\"x\":[\"PC1\",\"PC2\",\"PC3\",\"PC4\",\"PC5\",\"PC6\"],\"xaxis\":\"x\",\"y\":[0.16674635327781295,0.10416691562950478,0.08757582974388987,0.07216039215055829,0.059349891398157,0.05326766791957909],\"yaxis\":\"y\",\"type\":\"bar\"}],                        {\"template\":{\"data\":{\"bar\":[{\"error_x\":{\"color\":\"#2a3f5f\"},\"error_y\":{\"color\":\"#2a3f5f\"},\"marker\":{\"line\":{\"color\":\"#E5ECF6\",\"width\":0.5},\"pattern\":{\"fillmode\":\"overlay\",\"size\":10,\"solidity\":0.2}},\"type\":\"bar\"}],\"barpolar\":[{\"marker\":{\"line\":{\"color\":\"#E5ECF6\",\"width\":0.5},\"pattern\":{\"fillmode\":\"overlay\",\"size\":10,\"solidity\":0.2}},\"type\":\"barpolar\"}],\"carpet\":[{\"aaxis\":{\"endlinecolor\":\"#2a3f5f\",\"gridcolor\":\"white\",\"linecolor\":\"white\",\"minorgridcolor\":\"white\",\"startlinecolor\":\"#2a3f5f\"},\"baxis\":{\"endlinecolor\":\"#2a3f5f\",\"gridcolor\":\"white\",\"linecolor\":\"white\",\"minorgridcolor\":\"white\",\"startlinecolor\":\"#2a3f5f\"},\"type\":\"carpet\"}],\"choropleth\":[{\"colorbar\":{\"outlinewidth\":0,\"ticks\":\"\"},\"type\":\"choropleth\"}],\"contour\":[{\"colorbar\":{\"outlinewidth\":0,\"ticks\":\"\"},\"colorscale\":[[0.0,\"#0d0887\"],[0.1111111111111111,\"#46039f\"],[0.2222222222222222,\"#7201a8\"],[0.3333333333333333,\"#9c179e\"],[0.4444444444444444,\"#bd3786\"],[0.5555555555555556,\"#d8576b\"],[0.6666666666666666,\"#ed7953\"],[0.7777777777777778,\"#fb9f3a\"],[0.8888888888888888,\"#fdca26\"],[1.0,\"#f0f921\"]],\"type\":\"contour\"}],\"contourcarpet\":[{\"colorbar\":{\"outlinewidth\":0,\"ticks\":\"\"},\"type\":\"contourcarpet\"}],\"heatmap\":[{\"colorbar\":{\"outlinewidth\":0,\"ticks\":\"\"},\"colorscale\":[[0.0,\"#0d0887\"],[0.1111111111111111,\"#46039f\"],[0.2222222222222222,\"#7201a8\"],[0.3333333333333333,\"#9c179e\"],[0.4444444444444444,\"#bd3786\"],[0.5555555555555556,\"#d8576b\"],[0.6666666666666666,\"#ed7953\"],[0.7777777777777778,\"#fb9f3a\"],[0.8888888888888888,\"#fdca26\"],[1.0,\"#f0f921\"]],\"type\":\"heatmap\"}],\"heatmapgl\":[{\"colorbar\":{\"outlinewidth\":0,\"ticks\":\"\"},\"colorscale\":[[0.0,\"#0d0887\"],[0.1111111111111111,\"#46039f\"],[0.2222222222222222,\"#7201a8\"],[0.3333333333333333,\"#9c179e\"],[0.4444444444444444,\"#bd3786\"],[0.5555555555555556,\"#d8576b\"],[0.6666666666666666,\"#ed7953\"],[0.7777777777777778,\"#fb9f3a\"],[0.8888888888888888,\"#fdca26\"],[1.0,\"#f0f921\"]],\"type\":\"heatmapgl\"}],\"histogram\":[{\"marker\":{\"pattern\":{\"fillmode\":\"overlay\",\"size\":10,\"solidity\":0.2}},\"type\":\"histogram\"}],\"histogram2d\":[{\"colorbar\":{\"outlinewidth\":0,\"ticks\":\"\"},\"colorscale\":[[0.0,\"#0d0887\"],[0.1111111111111111,\"#46039f\"],[0.2222222222222222,\"#7201a8\"],[0.3333333333333333,\"#9c179e\"],[0.4444444444444444,\"#bd3786\"],[0.5555555555555556,\"#d8576b\"],[0.6666666666666666,\"#ed7953\"],[0.7777777777777778,\"#fb9f3a\"],[0.8888888888888888,\"#fdca26\"],[1.0,\"#f0f921\"]],\"type\":\"histogram2d\"}],\"histogram2dcontour\":[{\"colorbar\":{\"outlinewidth\":0,\"ticks\":\"\"},\"colorscale\":[[0.0,\"#0d0887\"],[0.1111111111111111,\"#46039f\"],[0.2222222222222222,\"#7201a8\"],[0.3333333333333333,\"#9c179e\"],[0.4444444444444444,\"#bd3786\"],[0.5555555555555556,\"#d8576b\"],[0.6666666666666666,\"#ed7953\"],[0.7777777777777778,\"#fb9f3a\"],[0.8888888888888888,\"#fdca26\"],[1.0,\"#f0f921\"]],\"type\":\"histogram2dcontour\"}],\"mesh3d\":[{\"colorbar\":{\"outlinewidth\":0,\"ticks\":\"\"},\"type\":\"mesh3d\"}],\"parcoords\":[{\"line\":{\"colorbar\":{\"outlinewidth\":0,\"ticks\":\"\"}},\"type\":\"parcoords\"}],\"pie\":[{\"automargin\":true,\"type\":\"pie\"}],\"scatter\":[{\"marker\":{\"colorbar\":{\"outlinewidth\":0,\"ticks\":\"\"}},\"type\":\"scatter\"}],\"scatter3d\":[{\"line\":{\"colorbar\":{\"outlinewidth\":0,\"ticks\":\"\"}},\"marker\":{\"colorbar\":{\"outlinewidth\":0,\"ticks\":\"\"}},\"type\":\"scatter3d\"}],\"scattercarpet\":[{\"marker\":{\"colorbar\":{\"outlinewidth\":0,\"ticks\":\"\"}},\"type\":\"scattercarpet\"}],\"scattergeo\":[{\"marker\":{\"colorbar\":{\"outlinewidth\":0,\"ticks\":\"\"}},\"type\":\"scattergeo\"}],\"scattergl\":[{\"marker\":{\"colorbar\":{\"outlinewidth\":0,\"ticks\":\"\"}},\"type\":\"scattergl\"}],\"scattermapbox\":[{\"marker\":{\"colorbar\":{\"outlinewidth\":0,\"ticks\":\"\"}},\"type\":\"scattermapbox\"}],\"scatterpolar\":[{\"marker\":{\"colorbar\":{\"outlinewidth\":0,\"ticks\":\"\"}},\"type\":\"scatterpolar\"}],\"scatterpolargl\":[{\"marker\":{\"colorbar\":{\"outlinewidth\":0,\"ticks\":\"\"}},\"type\":\"scatterpolargl\"}],\"scatterternary\":[{\"marker\":{\"colorbar\":{\"outlinewidth\":0,\"ticks\":\"\"}},\"type\":\"scatterternary\"}],\"surface\":[{\"colorbar\":{\"outlinewidth\":0,\"ticks\":\"\"},\"colorscale\":[[0.0,\"#0d0887\"],[0.1111111111111111,\"#46039f\"],[0.2222222222222222,\"#7201a8\"],[0.3333333333333333,\"#9c179e\"],[0.4444444444444444,\"#bd3786\"],[0.5555555555555556,\"#d8576b\"],[0.6666666666666666,\"#ed7953\"],[0.7777777777777778,\"#fb9f3a\"],[0.8888888888888888,\"#fdca26\"],[1.0,\"#f0f921\"]],\"type\":\"surface\"}],\"table\":[{\"cells\":{\"fill\":{\"color\":\"#EBF0F8\"},\"line\":{\"color\":\"white\"}},\"header\":{\"fill\":{\"color\":\"#C8D4E3\"},\"line\":{\"color\":\"white\"}},\"type\":\"table\"}]},\"layout\":{\"annotationdefaults\":{\"arrowcolor\":\"#2a3f5f\",\"arrowhead\":0,\"arrowwidth\":1},\"autotypenumbers\":\"strict\",\"coloraxis\":{\"colorbar\":{\"outlinewidth\":0,\"ticks\":\"\"}},\"colorscale\":{\"diverging\":[[0,\"#8e0152\"],[0.1,\"#c51b7d\"],[0.2,\"#de77ae\"],[0.3,\"#f1b6da\"],[0.4,\"#fde0ef\"],[0.5,\"#f7f7f7\"],[0.6,\"#e6f5d0\"],[0.7,\"#b8e186\"],[0.8,\"#7fbc41\"],[0.9,\"#4d9221\"],[1,\"#276419\"]],\"sequential\":[[0.0,\"#0d0887\"],[0.1111111111111111,\"#46039f\"],[0.2222222222222222,\"#7201a8\"],[0.3333333333333333,\"#9c179e\"],[0.4444444444444444,\"#bd3786\"],[0.5555555555555556,\"#d8576b\"],[0.6666666666666666,\"#ed7953\"],[0.7777777777777778,\"#fb9f3a\"],[0.8888888888888888,\"#fdca26\"],[1.0,\"#f0f921\"]],\"sequentialminus\":[[0.0,\"#0d0887\"],[0.1111111111111111,\"#46039f\"],[0.2222222222222222,\"#7201a8\"],[0.3333333333333333,\"#9c179e\"],[0.4444444444444444,\"#bd3786\"],[0.5555555555555556,\"#d8576b\"],[0.6666666666666666,\"#ed7953\"],[0.7777777777777778,\"#fb9f3a\"],[0.8888888888888888,\"#fdca26\"],[1.0,\"#f0f921\"]]},\"colorway\":[\"#636efa\",\"#EF553B\",\"#00cc96\",\"#ab63fa\",\"#FFA15A\",\"#19d3f3\",\"#FF6692\",\"#B6E880\",\"#FF97FF\",\"#FECB52\"],\"font\":{\"color\":\"#2a3f5f\"},\"geo\":{\"bgcolor\":\"white\",\"lakecolor\":\"white\",\"landcolor\":\"#E5ECF6\",\"showlakes\":true,\"showland\":true,\"subunitcolor\":\"white\"},\"hoverlabel\":{\"align\":\"left\"},\"hovermode\":\"closest\",\"mapbox\":{\"style\":\"light\"},\"paper_bgcolor\":\"white\",\"plot_bgcolor\":\"#E5ECF6\",\"polar\":{\"angularaxis\":{\"gridcolor\":\"white\",\"linecolor\":\"white\",\"ticks\":\"\"},\"bgcolor\":\"#E5ECF6\",\"radialaxis\":{\"gridcolor\":\"white\",\"linecolor\":\"white\",\"ticks\":\"\"}},\"scene\":{\"xaxis\":{\"backgroundcolor\":\"#E5ECF6\",\"gridcolor\":\"white\",\"gridwidth\":2,\"linecolor\":\"white\",\"showbackground\":true,\"ticks\":\"\",\"zerolinecolor\":\"white\"},\"yaxis\":{\"backgroundcolor\":\"#E5ECF6\",\"gridcolor\":\"white\",\"gridwidth\":2,\"linecolor\":\"white\",\"showbackground\":true,\"ticks\":\"\",\"zerolinecolor\":\"white\"},\"zaxis\":{\"backgroundcolor\":\"#E5ECF6\",\"gridcolor\":\"white\",\"gridwidth\":2,\"linecolor\":\"white\",\"showbackground\":true,\"ticks\":\"\",\"zerolinecolor\":\"white\"}},\"shapedefaults\":{\"line\":{\"color\":\"#2a3f5f\"}},\"ternary\":{\"aaxis\":{\"gridcolor\":\"white\",\"linecolor\":\"white\",\"ticks\":\"\"},\"baxis\":{\"gridcolor\":\"white\",\"linecolor\":\"white\",\"ticks\":\"\"},\"bgcolor\":\"#E5ECF6\",\"caxis\":{\"gridcolor\":\"white\",\"linecolor\":\"white\",\"ticks\":\"\"}},\"title\":{\"x\":0.05},\"xaxis\":{\"automargin\":true,\"gridcolor\":\"white\",\"linecolor\":\"white\",\"ticks\":\"\",\"title\":{\"standoff\":15},\"zerolinecolor\":\"white\",\"zerolinewidth\":2},\"yaxis\":{\"automargin\":true,\"gridcolor\":\"white\",\"linecolor\":\"white\",\"ticks\":\"\",\"title\":{\"standoff\":15},\"zerolinecolor\":\"white\",\"zerolinewidth\":2}}},\"xaxis\":{\"anchor\":\"y\",\"domain\":[0.0,1.0],\"title\":{\"text\":\"PC\"}},\"yaxis\":{\"anchor\":\"x\",\"domain\":[0.0,1.0],\"title\":{\"text\":\"explained_variance\"}},\"legend\":{\"tracegroupgap\":0},\"margin\":{\"t\":60},\"barmode\":\"relative\",\"height\":400,\"width\":800},                        {\"responsive\": true}                    ).then(function(){\n",
              "                            \n",
              "var gd = document.getElementById('847d0e73-f023-4aab-994e-9f244dd2fea1');\n",
              "var x = new MutationObserver(function (mutations, observer) {{\n",
              "        var display = window.getComputedStyle(gd).display;\n",
              "        if (!display || display === 'none') {{\n",
              "            console.log([gd, 'removed!']);\n",
              "            Plotly.purge(gd);\n",
              "            observer.disconnect();\n",
              "        }}\n",
              "}});\n",
              "\n",
              "// Listen for the removal of the full notebook cells\n",
              "var notebookContainer = gd.closest('#notebook-container');\n",
              "if (notebookContainer) {{\n",
              "    x.observe(notebookContainer, {childList: true});\n",
              "}}\n",
              "\n",
              "// Listen for the clearing of the current output cell\n",
              "var outputEl = gd.closest('.output');\n",
              "if (outputEl) {{\n",
              "    x.observe(outputEl, {childList: true});\n",
              "}}\n",
              "\n",
              "                        })                };                            </script>        </div>\n",
              "</body>\n",
              "</html>"
            ]
          },
          "metadata": {}
        },
        {
          "output_type": "display_data",
          "data": {
            "text/html": [
              "<html>\n",
              "<head><meta charset=\"utf-8\" /></head>\n",
              "<body>\n",
              "    <div>            <script src=\"https://cdnjs.cloudflare.com/ajax/libs/mathjax/2.7.5/MathJax.js?config=TeX-AMS-MML_SVG\"></script><script type=\"text/javascript\">if (window.MathJax) {MathJax.Hub.Config({SVG: {font: \"STIX-Web\"}});}</script>                <script type=\"text/javascript\">window.PlotlyConfig = {MathJaxConfig: 'local'};</script>\n",
              "        <script src=\"https://cdn.plot.ly/plotly-2.8.3.min.js\"></script>                <div id=\"394f3e48-ccf8-4b88-b155-dd9920bc3be5\" class=\"plotly-graph-div\" style=\"height:600px; width:800px;\"></div>            <script type=\"text/javascript\">                                    window.PLOTLYENV=window.PLOTLYENV || {};                                    if (document.getElementById(\"394f3e48-ccf8-4b88-b155-dd9920bc3be5\")) {                    Plotly.newPlot(                        \"394f3e48-ccf8-4b88-b155-dd9920bc3be5\",                        [{\"customdata\":[[\"Tiefora_v_Ngousso\",\"Tiefora\",\"Ngousso\",\"Burkina Faso\",\"coluzzii\",\"rnaseq\"],[\"Ban_v_BanS\",\"Ban\",\"BanS\",\"Burkina Faso\",\"coluzzii\",\"rnaseq\"],[\"BanRe_v_BanS\",\"BanRe\",\"BanS\",\"Burkina Faso\",\"coluzzii\",\"rnaseq\"],[\"VK7_v_Kisumu\",\"VK7\",\"Kisumu\",\"Burkina Faso\",\"coluzzii\",\"rnaseq\"],[\"Cameroon_v_Ngousso\",\"Cameroon\",\"Ngousso\",\"Cameroon\",\"coluzzii\",\"rnaseq\"],[\"Chad_v_Ngousso\",\"Chad\",\"Ngousso\",\"Chad\",\"coluzzii\",\"rnaseq\"],[\"Niger_v_Ngousso\",\"Niger\",\"Ngousso\",\"Niger\",\"coluzzii\",\"rnaseq\"],[\"Nigeria_v_Ngousso\",\"Nigeria\",\"Ngousso\",\"Nigeria\",\"coluzzii\",\"rnaseq\"],[\"Agboville_v_Mali\",\"Agboville\",\"Mali\",\"Cote d'Ivoire\",\"coluzzii\",\"rnaseq\"],[\"Agboville_v_Ngousso\",\"Agboville\",\"Ngousso\",\"Cote d'Ivoire\",\"coluzzii\",\"rnaseq\"],[\"Dabou_v_Mali\",\"Dabou\",\"Mali\",\"Cote d'Ivoire\",\"coluzzii\",\"rnaseq\"],[\"Dabou_v_Ngousso\",\"Dabou\",\"Ngousso\",\"Cote d'Ivoire\",\"coluzzii\",\"rnaseq\"],[\"Tiassale_v_Mali\",\"Tiassale\",\"Mali\",\"Cote d'Ivoire\",\"coluzzii\",\"rnaseq\"],[\"Tiassale_v_Ngousso\",\"Tiassale\",\"Ngousso\",\"Cote d'Ivoire\",\"coluzzii\",\"rnaseq\"],[\"Bouake_colu_unexp_v_Ngousso\",\"Bouake_colu_unexp\",\"Ngousso\",\"Cote d'Ivoire\",\"coluzzii\",\"rnaseq\"],[\"Garre\",\"Garre\",\"Ngousso\",\"Cameroon\",\"coluzzii\",\"microarray\"],[\"Messa\",\"Messa\",\"Ngousso\",\"Cameroon\",\"coluzzii\",\"microarray\"],[\"Bioko\",\"Bioko\",\"Ngousso\",\"Equatorial Guinea\",\"coluzzii\",\"microarray\"],[\"Bouake\",\"Bouake\",\"Ngousso\",\"Cote d'Ivoire\",\"coluzzii\",\"microarray\"],[\"MBe\",\"MBe\",\"Ngousso\",\"Cote d'Ivoire\",\"coluzzii\",\"microarray\"],[\"Tiassale\",\"Tiassale\",\"Ngousso\",\"Cote d'Ivoire\",\"coluzzii\",\"microarray\"],[\"VK6\",\"VK6\",\"Ngousso\",\"Burkina Faso\",\"coluzzii\",\"microarray\"],[\"Banfora\",\"Banfora\",\"Ngousso\",\"Burkina Faso\",\"coluzzii\",\"microarray\"],[\"Tengrela\",\"Tengrela\",\"Mali\",\"Burkina Faso\",\"coluzzii\",\"microarray\"],[\"VK72012\",\"VK72012\",\"Ngousso\",\"Burkina Faso\",\"coluzzii\",\"microarray\"],[\"VK72011\",\"VK72011\",\"Mali\",\"Burkina Faso\",\"coluzzii\",\"microarray\"],[\"TiassaleMali\",\"TiassaleMali\",\"Mali\",\"Cote d'Ivoire\",\"coluzzii\",\"microarray\"],[\"TiassaleOkyero\",\"TiassaleOkyero\",\"Okyero\",\"Cote d'Ivoire\",\"coluzzii\",\"microarray\"],[\"Tiassale2011\",\"Tiassale2011\",\"Ngousso\",\"Cote d'Ivoire\",\"coluzzii\",\"microarray\"],[\"KovieOkyero\",\"KovieOkyero\",\"Okyero\",\"Togo\",\"coluzzii\",\"microarray\"],[\"KovieMalanville\",\"KovieMalanville\",\"Malanville\",\"Togo\",\"coluzzii\",\"microarray\"]],\"hovertemplate\":\"species=%{customdata[4]}<br>PC1=%{x}<br>PC2=%{y}<br>comparison=%{customdata[0]}<br>resistant=%{customdata[1]}<br>susceptible=%{customdata[2]}<br>country=%{customdata[3]}<br>technology=%{customdata[5]}<extra></extra>\",\"legendgroup\":\"coluzzii\",\"marker\":{\"color\":\"#F8766D\",\"symbol\":\"circle\"},\"mode\":\"markers\",\"name\":\"coluzzii\",\"orientation\":\"v\",\"showlegend\":true,\"x\":[6.203297957446885,1.7327209040769114,-30.16240533141769,-1.0007642429468193,-24.96684133726441,-33.99628822663702,-30.36038554577129,-36.074564470519896,23.11611343044265,66.08176192651051,31.12377421092578,74.03116623600756,35.254674364251805,77.8057029857147,14.76470683944098,-2.3739727940847457,-10.553522807562448,-16.913800167348022,-0.5029595647317537,2.6455334042498526,-1.8820392607846637,8.332952524048746,-5.372606657564706,-1.605394163580162,-14.680694462998742,-11.483465499048123,2.3032101853245055,-2.9671260495425593,9.479657623366672,-21.579283291219824,-24.42689731443818],\"xaxis\":\"x\",\"y\":[-3.191769993265891,-3.9571158202665004,-3.167216562159276,-8.233649977863667,26.374282635230355,42.95206679419651,61.25943121506573,62.06456038754733,-28.302818776742726,5.8263987310224525,-18.274569810243104,15.76829136711498,-18.412133559708472,15.725953138017582,1.7793933545258402,-5.636048001449689,-23.440122931349926,-6.3762171047261,-0.4750510182178241,8.57807256826053,7.537851575172967,-6.631078486720134,-4.768722632421651,12.397717926842448,-7.7297797881423165,8.526925692547318,4.240254435032801,-8.703311524252776,-10.207548868630708,-6.988959644988462,-14.247696506480052],\"yaxis\":\"y\",\"type\":\"scatter\"},{\"customdata\":[[\"Gou_v_Moz\",\"Gou\",\"Moz\",\"Burkina Faso\",\"arabiensis\",\"rnaseq\"],[\"Asendabo_v_Moz\",\"Asendabo\",\"Moz\",\"Ethiopia\",\"arabiensis\",\"rnaseq\"],[\"Chewaka_v_Moz\",\"Chewaka\",\"Moz\",\"Ethiopia\",\"arabiensis\",\"rnaseq\"],[\"Tolay_v_Moz\",\"Tolay\",\"Moz\",\"Ethiopia\",\"arabiensis\",\"rnaseq\"],[\"Ethiopia_v_Dongola\",\"Ethiopia\",\"Dongola\",\"Ethiopia\",\"arabiensis\",\"rnaseq\"],[\"PembaMoz\",\"PembaMoz\",\"Moz\",\"Tanzania\",\"arabiensis\",\"microarray\"],[\"PembaUnguja\",\"PembaUnguja\",\"Unguja\",\"Tanzania\",\"arabiensis\",\"microarray\"],[\"PembaDar\",\"PembaDar\",\"Dar\",\"Tanzania\",\"arabiensis\",\"microarray\"],[\"WadMedani\",\"WadMedani\",\"Medani\",\"Sudan\",\"arabiensis\",\"microarray\"],[\"JinjaMoz\",\"JinjaMoz\",\"Moz\",\"Uganda\",\"arabiensis\",\"microarray\"],[\"JinjaDong\",\"JinjaDong\",\"Dong\",\"Uganda\",\"arabiensis\",\"microarray\"],[\"DSSBA\",\"DSSBA\",\"Moz\",\"Burkina Faso\",\"arabiensis\",\"microarray\"],[\"Hai\",\"Hai\",\"Ifakara\",\"Tanzania\",\"arabiensis\",\"microarray\"],[\"Muheza\",\"Muheza\",\"Ifakara\",\"Tanzania\",\"arabiensis\",\"microarray\"],[\"Dar\",\"Dar\",\"Ifakara\",\"Tanzania\",\"arabiensis\",\"microarray\"]],\"hovertemplate\":\"species=%{customdata[4]}<br>PC1=%{x}<br>PC2=%{y}<br>comparison=%{customdata[0]}<br>resistant=%{customdata[1]}<br>susceptible=%{customdata[2]}<br>country=%{customdata[3]}<br>technology=%{customdata[5]}<extra></extra>\",\"legendgroup\":\"arabiensis\",\"marker\":{\"color\":\"#A3A500\",\"symbol\":\"circle\"},\"mode\":\"markers\",\"name\":\"arabiensis\",\"orientation\":\"v\",\"showlegend\":true,\"x\":[1.7795411392038112,1.4325129742064644,2.1128666390615303,8.879225693279409,6.706391357792095,-9.486053952135606,-11.947829780121275,-9.106003947688654,-8.062067092447727,0.01803177105856328,11.544290176584497,14.239880271202415,25.272447267632014,0.08436107291165125,15.676398349804513],\"xaxis\":\"x\",\"y\":[16.740118973195457,6.370021415729517,-3.599238282282033,5.067413581050929,22.025672681039563,3.0919821265726672,-1.8492257388516327,4.5246803247539225,-17.869829377062842,5.788059685961735,1.3075663981682102,-5.342060207132525,8.998572514592588,-9.24683421146268,-1.6229245165520017],\"yaxis\":\"y\",\"type\":\"scatter\"},{\"customdata\":[[\"Bak_v_Kisumu\",\"Bak\",\"Kisumu\",\"Burkina Faso\",\"gambiae\",\"rnaseq\"],[\"Bouake_gamb_unexp_v_Kisumu\",\"Bouake_gamb_unexp\",\"Kisumu\",\"Cote d'Ivoire\",\"gambiae\",\"rnaseq\"],[\"BusiaSurvivors_v_Kisumu\",\"BusiaSurvivors\",\"Kisumu\",\"Uganda\",\"gambiae\",\"rnaseq\"],[\"Nkolondom\",\"Nkolondom\",\"Kisumu\",\"Cameroon\",\"gambiae\",\"microarray\"],[\"Kitwe\",\"Kitwe\",\"Kisumu\",\"Zambia\",\"gambiae\",\"microarray\"],[\"Tiefora13\",\"Tiefora13\",\"Kisumu\",\"Burkina Faso\",\"gambiae\",\"microarray\"],[\"Tiefora14\",\"Tiefora14\",\"Kisumu\",\"Burkina Faso\",\"gambiae\",\"microarray\"],[\"Youande\",\"Youande\",\"Kisumu\",\"Cameroon\",\"gambiae\",\"microarray\"]],\"hovertemplate\":\"species=%{customdata[4]}<br>PC1=%{x}<br>PC2=%{y}<br>comparison=%{customdata[0]}<br>resistant=%{customdata[1]}<br>susceptible=%{customdata[2]}<br>country=%{customdata[3]}<br>technology=%{customdata[5]}<extra></extra>\",\"legendgroup\":\"gambiae\",\"marker\":{\"color\":\"#00BF7D\",\"symbol\":\"circle\"},\"mode\":\"markers\",\"name\":\"gambiae\",\"orientation\":\"v\",\"showlegend\":true,\"x\":[4.81259524639395,10.510739419100673,-57.25798801458751,18.106003932412175,-2.017628290343406,11.163498391921806,5.114180388771487,4.75670702420868],\"xaxis\":\"x\",\"y\":[-3.451237018061237,-9.614187030686407,4.143495903367703,3.6207577169185416,-15.506956719735612,25.935634260240302,26.13274797750218,-7.442802650769876],\"yaxis\":\"y\",\"type\":\"scatter\"},{\"customdata\":[[\"Cam_fun_v_Fang\",\"Cam_fun\",\"Fang\",\"Cameroon\",\"funestus\",\"rnaseq\"],[\"Fumoz_v_Fang\",\"Fumoz\",\"Fang\",\"Mozambique\",\"funestus\",\"rnaseq\"],[\"Ghana_fun_v_Fang\",\"Ghana_fun\",\"Fang\",\"Ghana\",\"funestus\",\"rnaseq\"],[\"Malawi_fun_v_Fang\",\"Malawi_fun\",\"Fang\",\"Malawi\",\"funestus\",\"rnaseq\"],[\"Uganda_fun_v_Fang\",\"Uganda_fun\",\"Fang\",\"Uganda\",\"funestus\",\"rnaseq\"]],\"hovertemplate\":\"species=%{customdata[4]}<br>PC1=%{x}<br>PC2=%{y}<br>comparison=%{customdata[0]}<br>resistant=%{customdata[1]}<br>susceptible=%{customdata[2]}<br>country=%{customdata[3]}<br>technology=%{customdata[5]}<extra></extra>\",\"legendgroup\":\"funestus\",\"marker\":{\"color\":\"#00B0F6\",\"symbol\":\"circle\"},\"mode\":\"markers\",\"name\":\"funestus\",\"orientation\":\"v\",\"showlegend\":true,\"x\":[-29.069300149560405,-24.676311205915493,-22.68139083275652,-21.09498173955924,-28.782377514776393],\"xaxis\":\"x\",\"y\":[-27.29797676746501,-28.29855628416988,-31.884030676081633,-32.06536327419169,-32.94288961753582],\"yaxis\":\"y\",\"type\":\"scatter\"}],                        {\"template\":{\"data\":{\"barpolar\":[{\"marker\":{\"line\":{\"color\":\"rgb(237,237,237)\",\"width\":0.5},\"pattern\":{\"fillmode\":\"overlay\",\"size\":10,\"solidity\":0.2}},\"type\":\"barpolar\"}],\"bar\":[{\"error_x\":{\"color\":\"rgb(51,51,51)\"},\"error_y\":{\"color\":\"rgb(51,51,51)\"},\"marker\":{\"line\":{\"color\":\"rgb(237,237,237)\",\"width\":0.5},\"pattern\":{\"fillmode\":\"overlay\",\"size\":10,\"solidity\":0.2}},\"type\":\"bar\"}],\"carpet\":[{\"aaxis\":{\"endlinecolor\":\"rgb(51,51,51)\",\"gridcolor\":\"white\",\"linecolor\":\"white\",\"minorgridcolor\":\"white\",\"startlinecolor\":\"rgb(51,51,51)\"},\"baxis\":{\"endlinecolor\":\"rgb(51,51,51)\",\"gridcolor\":\"white\",\"linecolor\":\"white\",\"minorgridcolor\":\"white\",\"startlinecolor\":\"rgb(51,51,51)\"},\"type\":\"carpet\"}],\"choropleth\":[{\"colorbar\":{\"outlinewidth\":0,\"tickcolor\":\"rgb(237,237,237)\",\"ticklen\":6,\"ticks\":\"inside\"},\"type\":\"choropleth\"}],\"contourcarpet\":[{\"colorbar\":{\"outlinewidth\":0,\"tickcolor\":\"rgb(237,237,237)\",\"ticklen\":6,\"ticks\":\"inside\"},\"type\":\"contourcarpet\"}],\"contour\":[{\"colorbar\":{\"outlinewidth\":0,\"tickcolor\":\"rgb(237,237,237)\",\"ticklen\":6,\"ticks\":\"inside\"},\"colorscale\":[[0,\"rgb(20,44,66)\"],[1,\"rgb(90,179,244)\"]],\"type\":\"contour\"}],\"heatmapgl\":[{\"colorbar\":{\"outlinewidth\":0,\"tickcolor\":\"rgb(237,237,237)\",\"ticklen\":6,\"ticks\":\"inside\"},\"colorscale\":[[0,\"rgb(20,44,66)\"],[1,\"rgb(90,179,244)\"]],\"type\":\"heatmapgl\"}],\"heatmap\":[{\"colorbar\":{\"outlinewidth\":0,\"tickcolor\":\"rgb(237,237,237)\",\"ticklen\":6,\"ticks\":\"inside\"},\"colorscale\":[[0,\"rgb(20,44,66)\"],[1,\"rgb(90,179,244)\"]],\"type\":\"heatmap\"}],\"histogram2dcontour\":[{\"colorbar\":{\"outlinewidth\":0,\"tickcolor\":\"rgb(237,237,237)\",\"ticklen\":6,\"ticks\":\"inside\"},\"colorscale\":[[0,\"rgb(20,44,66)\"],[1,\"rgb(90,179,244)\"]],\"type\":\"histogram2dcontour\"}],\"histogram2d\":[{\"colorbar\":{\"outlinewidth\":0,\"tickcolor\":\"rgb(237,237,237)\",\"ticklen\":6,\"ticks\":\"inside\"},\"colorscale\":[[0,\"rgb(20,44,66)\"],[1,\"rgb(90,179,244)\"]],\"type\":\"histogram2d\"}],\"histogram\":[{\"marker\":{\"pattern\":{\"fillmode\":\"overlay\",\"size\":10,\"solidity\":0.2}},\"type\":\"histogram\"}],\"mesh3d\":[{\"colorbar\":{\"outlinewidth\":0,\"tickcolor\":\"rgb(237,237,237)\",\"ticklen\":6,\"ticks\":\"inside\"},\"type\":\"mesh3d\"}],\"parcoords\":[{\"line\":{\"colorbar\":{\"outlinewidth\":0,\"tickcolor\":\"rgb(237,237,237)\",\"ticklen\":6,\"ticks\":\"inside\"}},\"type\":\"parcoords\"}],\"pie\":[{\"automargin\":true,\"type\":\"pie\"}],\"scatter3d\":[{\"line\":{\"colorbar\":{\"outlinewidth\":0,\"tickcolor\":\"rgb(237,237,237)\",\"ticklen\":6,\"ticks\":\"inside\"}},\"marker\":{\"colorbar\":{\"outlinewidth\":0,\"tickcolor\":\"rgb(237,237,237)\",\"ticklen\":6,\"ticks\":\"inside\"}},\"type\":\"scatter3d\"}],\"scattercarpet\":[{\"marker\":{\"colorbar\":{\"outlinewidth\":0,\"tickcolor\":\"rgb(237,237,237)\",\"ticklen\":6,\"ticks\":\"inside\"}},\"type\":\"scattercarpet\"}],\"scattergeo\":[{\"marker\":{\"colorbar\":{\"outlinewidth\":0,\"tickcolor\":\"rgb(237,237,237)\",\"ticklen\":6,\"ticks\":\"inside\"}},\"type\":\"scattergeo\"}],\"scattergl\":[{\"marker\":{\"colorbar\":{\"outlinewidth\":0,\"tickcolor\":\"rgb(237,237,237)\",\"ticklen\":6,\"ticks\":\"inside\"}},\"type\":\"scattergl\"}],\"scattermapbox\":[{\"marker\":{\"colorbar\":{\"outlinewidth\":0,\"tickcolor\":\"rgb(237,237,237)\",\"ticklen\":6,\"ticks\":\"inside\"}},\"type\":\"scattermapbox\"}],\"scatterpolargl\":[{\"marker\":{\"colorbar\":{\"outlinewidth\":0,\"tickcolor\":\"rgb(237,237,237)\",\"ticklen\":6,\"ticks\":\"inside\"}},\"type\":\"scatterpolargl\"}],\"scatterpolar\":[{\"marker\":{\"colorbar\":{\"outlinewidth\":0,\"tickcolor\":\"rgb(237,237,237)\",\"ticklen\":6,\"ticks\":\"inside\"}},\"type\":\"scatterpolar\"}],\"scatter\":[{\"marker\":{\"colorbar\":{\"outlinewidth\":0,\"tickcolor\":\"rgb(237,237,237)\",\"ticklen\":6,\"ticks\":\"inside\"}},\"type\":\"scatter\"}],\"scatterternary\":[{\"marker\":{\"colorbar\":{\"outlinewidth\":0,\"tickcolor\":\"rgb(237,237,237)\",\"ticklen\":6,\"ticks\":\"inside\"}},\"type\":\"scatterternary\"}],\"surface\":[{\"colorbar\":{\"outlinewidth\":0,\"tickcolor\":\"rgb(237,237,237)\",\"ticklen\":6,\"ticks\":\"inside\"},\"colorscale\":[[0,\"rgb(20,44,66)\"],[1,\"rgb(90,179,244)\"]],\"type\":\"surface\"}],\"table\":[{\"cells\":{\"fill\":{\"color\":\"rgb(237,237,237)\"},\"line\":{\"color\":\"white\"}},\"header\":{\"fill\":{\"color\":\"rgb(217,217,217)\"},\"line\":{\"color\":\"white\"}},\"type\":\"table\"}]},\"layout\":{\"annotationdefaults\":{\"arrowhead\":0,\"arrowwidth\":1},\"autotypenumbers\":\"strict\",\"coloraxis\":{\"colorbar\":{\"outlinewidth\":0,\"tickcolor\":\"rgb(237,237,237)\",\"ticklen\":6,\"ticks\":\"inside\"}},\"colorscale\":{\"sequential\":[[0,\"rgb(20,44,66)\"],[1,\"rgb(90,179,244)\"]],\"sequentialminus\":[[0,\"rgb(20,44,66)\"],[1,\"rgb(90,179,244)\"]]},\"colorway\":[\"#F8766D\",\"#A3A500\",\"#00BF7D\",\"#00B0F6\",\"#E76BF3\"],\"font\":{\"color\":\"rgb(51,51,51)\"},\"geo\":{\"bgcolor\":\"white\",\"lakecolor\":\"white\",\"landcolor\":\"rgb(237,237,237)\",\"showlakes\":true,\"showland\":true,\"subunitcolor\":\"white\"},\"hoverlabel\":{\"align\":\"left\"},\"hovermode\":\"closest\",\"paper_bgcolor\":\"white\",\"plot_bgcolor\":\"rgb(237,237,237)\",\"polar\":{\"angularaxis\":{\"gridcolor\":\"white\",\"linecolor\":\"white\",\"showgrid\":true,\"tickcolor\":\"rgb(51,51,51)\",\"ticks\":\"outside\"},\"bgcolor\":\"rgb(237,237,237)\",\"radialaxis\":{\"gridcolor\":\"white\",\"linecolor\":\"white\",\"showgrid\":true,\"tickcolor\":\"rgb(51,51,51)\",\"ticks\":\"outside\"}},\"scene\":{\"xaxis\":{\"backgroundcolor\":\"rgb(237,237,237)\",\"gridcolor\":\"white\",\"gridwidth\":2,\"linecolor\":\"white\",\"showbackground\":true,\"showgrid\":true,\"tickcolor\":\"rgb(51,51,51)\",\"ticks\":\"outside\",\"zerolinecolor\":\"white\"},\"yaxis\":{\"backgroundcolor\":\"rgb(237,237,237)\",\"gridcolor\":\"white\",\"gridwidth\":2,\"linecolor\":\"white\",\"showbackground\":true,\"showgrid\":true,\"tickcolor\":\"rgb(51,51,51)\",\"ticks\":\"outside\",\"zerolinecolor\":\"white\"},\"zaxis\":{\"backgroundcolor\":\"rgb(237,237,237)\",\"gridcolor\":\"white\",\"gridwidth\":2,\"linecolor\":\"white\",\"showbackground\":true,\"showgrid\":true,\"tickcolor\":\"rgb(51,51,51)\",\"ticks\":\"outside\",\"zerolinecolor\":\"white\"}},\"shapedefaults\":{\"fillcolor\":\"black\",\"line\":{\"width\":0},\"opacity\":0.3},\"ternary\":{\"aaxis\":{\"gridcolor\":\"white\",\"linecolor\":\"white\",\"showgrid\":true,\"tickcolor\":\"rgb(51,51,51)\",\"ticks\":\"outside\"},\"baxis\":{\"gridcolor\":\"white\",\"linecolor\":\"white\",\"showgrid\":true,\"tickcolor\":\"rgb(51,51,51)\",\"ticks\":\"outside\"},\"bgcolor\":\"rgb(237,237,237)\",\"caxis\":{\"gridcolor\":\"white\",\"linecolor\":\"white\",\"showgrid\":true,\"tickcolor\":\"rgb(51,51,51)\",\"ticks\":\"outside\"}},\"xaxis\":{\"automargin\":true,\"gridcolor\":\"white\",\"linecolor\":\"white\",\"showgrid\":true,\"tickcolor\":\"rgb(51,51,51)\",\"ticks\":\"outside\",\"title\":{\"standoff\":15},\"zerolinecolor\":\"white\"},\"yaxis\":{\"automargin\":true,\"gridcolor\":\"white\",\"linecolor\":\"white\",\"showgrid\":true,\"tickcolor\":\"rgb(51,51,51)\",\"ticks\":\"outside\",\"title\":{\"standoff\":15},\"zerolinecolor\":\"white\"}}},\"xaxis\":{\"anchor\":\"y\",\"domain\":[0.0,1.0],\"title\":{\"text\":\"PC1\"}},\"yaxis\":{\"anchor\":\"x\",\"domain\":[0.0,1.0],\"title\":{\"text\":\"PC2\"}},\"legend\":{\"title\":{\"text\":\"species\"},\"tracegroupgap\":0},\"margin\":{\"t\":60},\"height\":600,\"width\":800},                        {\"responsive\": true}                    ).then(function(){\n",
              "                            \n",
              "var gd = document.getElementById('394f3e48-ccf8-4b88-b155-dd9920bc3be5');\n",
              "var x = new MutationObserver(function (mutations, observer) {{\n",
              "        var display = window.getComputedStyle(gd).display;\n",
              "        if (!display || display === 'none') {{\n",
              "            console.log([gd, 'removed!']);\n",
              "            Plotly.purge(gd);\n",
              "            observer.disconnect();\n",
              "        }}\n",
              "}});\n",
              "\n",
              "// Listen for the removal of the full notebook cells\n",
              "var notebookContainer = gd.closest('#notebook-container');\n",
              "if (notebookContainer) {{\n",
              "    x.observe(notebookContainer, {childList: true});\n",
              "}}\n",
              "\n",
              "// Listen for the clearing of the current output cell\n",
              "var outputEl = gd.closest('.output');\n",
              "if (outputEl) {{\n",
              "    x.observe(outputEl, {childList: true});\n",
              "}}\n",
              "\n",
              "                        })                };                            </script>        </div>\n",
              "</body>\n",
              "</html>"
            ]
          },
          "metadata": {}
        }
      ]
    },
    {
      "cell_type": "markdown",
      "source": [
        "### PC1 V PC2"
      ],
      "metadata": {
        "id": "cPZja7V7xiuF"
      }
    },
    {
      "cell_type": "code",
      "source": [
        "### plot interactive PCA data \n",
        "pca(analysis='gamb_colu_arab_fun', data_type='log2counts')"
      ],
      "metadata": {
        "colab": {
          "base_uri": "https://localhost:8080/",
          "height": 1000
        },
        "id": "LMgyhUOggLJl",
        "outputId": "c8149a1d-61fd-4d4e-aa4b-4d8dbf9c7c2e"
      },
      "execution_count": 52,
      "outputs": [
        {
          "output_type": "display_data",
          "data": {
            "text/html": [
              "<html>\n",
              "<head><meta charset=\"utf-8\" /></head>\n",
              "<body>\n",
              "    <div>            <script src=\"https://cdnjs.cloudflare.com/ajax/libs/mathjax/2.7.5/MathJax.js?config=TeX-AMS-MML_SVG\"></script><script type=\"text/javascript\">if (window.MathJax) {MathJax.Hub.Config({SVG: {font: \"STIX-Web\"}});}</script>                <script type=\"text/javascript\">window.PlotlyConfig = {MathJaxConfig: 'local'};</script>\n",
              "        <script src=\"https://cdn.plot.ly/plotly-2.8.3.min.js\"></script>                <div id=\"b004aa4c-080d-4179-b6af-6dd996e110f5\" class=\"plotly-graph-div\" style=\"height:400px; width:800px;\"></div>            <script type=\"text/javascript\">                                    window.PLOTLYENV=window.PLOTLYENV || {};                                    if (document.getElementById(\"b004aa4c-080d-4179-b6af-6dd996e110f5\")) {                    Plotly.newPlot(                        \"b004aa4c-080d-4179-b6af-6dd996e110f5\",                        [{\"alignmentgroup\":\"True\",\"hovertemplate\":\"PC=%{x}<br>explained_variance=%{y}<extra></extra>\",\"legendgroup\":\"\",\"marker\":{\"color\":\"#636efa\",\"pattern\":{\"shape\":\"\"}},\"name\":\"\",\"offsetgroup\":\"\",\"orientation\":\"v\",\"showlegend\":false,\"textposition\":\"auto\",\"x\":[\"PC1\",\"PC2\",\"PC3\",\"PC4\",\"PC5\",\"PC6\"],\"xaxis\":\"x\",\"y\":[0.40754334167097916,0.15307818022518072,0.08787993588374218,0.03826578950785455,0.028303638587826967,0.02334026353492124],\"yaxis\":\"y\",\"type\":\"bar\"}],                        {\"template\":{\"data\":{\"bar\":[{\"error_x\":{\"color\":\"#2a3f5f\"},\"error_y\":{\"color\":\"#2a3f5f\"},\"marker\":{\"line\":{\"color\":\"#E5ECF6\",\"width\":0.5},\"pattern\":{\"fillmode\":\"overlay\",\"size\":10,\"solidity\":0.2}},\"type\":\"bar\"}],\"barpolar\":[{\"marker\":{\"line\":{\"color\":\"#E5ECF6\",\"width\":0.5},\"pattern\":{\"fillmode\":\"overlay\",\"size\":10,\"solidity\":0.2}},\"type\":\"barpolar\"}],\"carpet\":[{\"aaxis\":{\"endlinecolor\":\"#2a3f5f\",\"gridcolor\":\"white\",\"linecolor\":\"white\",\"minorgridcolor\":\"white\",\"startlinecolor\":\"#2a3f5f\"},\"baxis\":{\"endlinecolor\":\"#2a3f5f\",\"gridcolor\":\"white\",\"linecolor\":\"white\",\"minorgridcolor\":\"white\",\"startlinecolor\":\"#2a3f5f\"},\"type\":\"carpet\"}],\"choropleth\":[{\"colorbar\":{\"outlinewidth\":0,\"ticks\":\"\"},\"type\":\"choropleth\"}],\"contour\":[{\"colorbar\":{\"outlinewidth\":0,\"ticks\":\"\"},\"colorscale\":[[0.0,\"#0d0887\"],[0.1111111111111111,\"#46039f\"],[0.2222222222222222,\"#7201a8\"],[0.3333333333333333,\"#9c179e\"],[0.4444444444444444,\"#bd3786\"],[0.5555555555555556,\"#d8576b\"],[0.6666666666666666,\"#ed7953\"],[0.7777777777777778,\"#fb9f3a\"],[0.8888888888888888,\"#fdca26\"],[1.0,\"#f0f921\"]],\"type\":\"contour\"}],\"contourcarpet\":[{\"colorbar\":{\"outlinewidth\":0,\"ticks\":\"\"},\"type\":\"contourcarpet\"}],\"heatmap\":[{\"colorbar\":{\"outlinewidth\":0,\"ticks\":\"\"},\"colorscale\":[[0.0,\"#0d0887\"],[0.1111111111111111,\"#46039f\"],[0.2222222222222222,\"#7201a8\"],[0.3333333333333333,\"#9c179e\"],[0.4444444444444444,\"#bd3786\"],[0.5555555555555556,\"#d8576b\"],[0.6666666666666666,\"#ed7953\"],[0.7777777777777778,\"#fb9f3a\"],[0.8888888888888888,\"#fdca26\"],[1.0,\"#f0f921\"]],\"type\":\"heatmap\"}],\"heatmapgl\":[{\"colorbar\":{\"outlinewidth\":0,\"ticks\":\"\"},\"colorscale\":[[0.0,\"#0d0887\"],[0.1111111111111111,\"#46039f\"],[0.2222222222222222,\"#7201a8\"],[0.3333333333333333,\"#9c179e\"],[0.4444444444444444,\"#bd3786\"],[0.5555555555555556,\"#d8576b\"],[0.6666666666666666,\"#ed7953\"],[0.7777777777777778,\"#fb9f3a\"],[0.8888888888888888,\"#fdca26\"],[1.0,\"#f0f921\"]],\"type\":\"heatmapgl\"}],\"histogram\":[{\"marker\":{\"pattern\":{\"fillmode\":\"overlay\",\"size\":10,\"solidity\":0.2}},\"type\":\"histogram\"}],\"histogram2d\":[{\"colorbar\":{\"outlinewidth\":0,\"ticks\":\"\"},\"colorscale\":[[0.0,\"#0d0887\"],[0.1111111111111111,\"#46039f\"],[0.2222222222222222,\"#7201a8\"],[0.3333333333333333,\"#9c179e\"],[0.4444444444444444,\"#bd3786\"],[0.5555555555555556,\"#d8576b\"],[0.6666666666666666,\"#ed7953\"],[0.7777777777777778,\"#fb9f3a\"],[0.8888888888888888,\"#fdca26\"],[1.0,\"#f0f921\"]],\"type\":\"histogram2d\"}],\"histogram2dcontour\":[{\"colorbar\":{\"outlinewidth\":0,\"ticks\":\"\"},\"colorscale\":[[0.0,\"#0d0887\"],[0.1111111111111111,\"#46039f\"],[0.2222222222222222,\"#7201a8\"],[0.3333333333333333,\"#9c179e\"],[0.4444444444444444,\"#bd3786\"],[0.5555555555555556,\"#d8576b\"],[0.6666666666666666,\"#ed7953\"],[0.7777777777777778,\"#fb9f3a\"],[0.8888888888888888,\"#fdca26\"],[1.0,\"#f0f921\"]],\"type\":\"histogram2dcontour\"}],\"mesh3d\":[{\"colorbar\":{\"outlinewidth\":0,\"ticks\":\"\"},\"type\":\"mesh3d\"}],\"parcoords\":[{\"line\":{\"colorbar\":{\"outlinewidth\":0,\"ticks\":\"\"}},\"type\":\"parcoords\"}],\"pie\":[{\"automargin\":true,\"type\":\"pie\"}],\"scatter\":[{\"marker\":{\"colorbar\":{\"outlinewidth\":0,\"ticks\":\"\"}},\"type\":\"scatter\"}],\"scatter3d\":[{\"line\":{\"colorbar\":{\"outlinewidth\":0,\"ticks\":\"\"}},\"marker\":{\"colorbar\":{\"outlinewidth\":0,\"ticks\":\"\"}},\"type\":\"scatter3d\"}],\"scattercarpet\":[{\"marker\":{\"colorbar\":{\"outlinewidth\":0,\"ticks\":\"\"}},\"type\":\"scattercarpet\"}],\"scattergeo\":[{\"marker\":{\"colorbar\":{\"outlinewidth\":0,\"ticks\":\"\"}},\"type\":\"scattergeo\"}],\"scattergl\":[{\"marker\":{\"colorbar\":{\"outlinewidth\":0,\"ticks\":\"\"}},\"type\":\"scattergl\"}],\"scattermapbox\":[{\"marker\":{\"colorbar\":{\"outlinewidth\":0,\"ticks\":\"\"}},\"type\":\"scattermapbox\"}],\"scatterpolar\":[{\"marker\":{\"colorbar\":{\"outlinewidth\":0,\"ticks\":\"\"}},\"type\":\"scatterpolar\"}],\"scatterpolargl\":[{\"marker\":{\"colorbar\":{\"outlinewidth\":0,\"ticks\":\"\"}},\"type\":\"scatterpolargl\"}],\"scatterternary\":[{\"marker\":{\"colorbar\":{\"outlinewidth\":0,\"ticks\":\"\"}},\"type\":\"scatterternary\"}],\"surface\":[{\"colorbar\":{\"outlinewidth\":0,\"ticks\":\"\"},\"colorscale\":[[0.0,\"#0d0887\"],[0.1111111111111111,\"#46039f\"],[0.2222222222222222,\"#7201a8\"],[0.3333333333333333,\"#9c179e\"],[0.4444444444444444,\"#bd3786\"],[0.5555555555555556,\"#d8576b\"],[0.6666666666666666,\"#ed7953\"],[0.7777777777777778,\"#fb9f3a\"],[0.8888888888888888,\"#fdca26\"],[1.0,\"#f0f921\"]],\"type\":\"surface\"}],\"table\":[{\"cells\":{\"fill\":{\"color\":\"#EBF0F8\"},\"line\":{\"color\":\"white\"}},\"header\":{\"fill\":{\"color\":\"#C8D4E3\"},\"line\":{\"color\":\"white\"}},\"type\":\"table\"}]},\"layout\":{\"annotationdefaults\":{\"arrowcolor\":\"#2a3f5f\",\"arrowhead\":0,\"arrowwidth\":1},\"autotypenumbers\":\"strict\",\"coloraxis\":{\"colorbar\":{\"outlinewidth\":0,\"ticks\":\"\"}},\"colorscale\":{\"diverging\":[[0,\"#8e0152\"],[0.1,\"#c51b7d\"],[0.2,\"#de77ae\"],[0.3,\"#f1b6da\"],[0.4,\"#fde0ef\"],[0.5,\"#f7f7f7\"],[0.6,\"#e6f5d0\"],[0.7,\"#b8e186\"],[0.8,\"#7fbc41\"],[0.9,\"#4d9221\"],[1,\"#276419\"]],\"sequential\":[[0.0,\"#0d0887\"],[0.1111111111111111,\"#46039f\"],[0.2222222222222222,\"#7201a8\"],[0.3333333333333333,\"#9c179e\"],[0.4444444444444444,\"#bd3786\"],[0.5555555555555556,\"#d8576b\"],[0.6666666666666666,\"#ed7953\"],[0.7777777777777778,\"#fb9f3a\"],[0.8888888888888888,\"#fdca26\"],[1.0,\"#f0f921\"]],\"sequentialminus\":[[0.0,\"#0d0887\"],[0.1111111111111111,\"#46039f\"],[0.2222222222222222,\"#7201a8\"],[0.3333333333333333,\"#9c179e\"],[0.4444444444444444,\"#bd3786\"],[0.5555555555555556,\"#d8576b\"],[0.6666666666666666,\"#ed7953\"],[0.7777777777777778,\"#fb9f3a\"],[0.8888888888888888,\"#fdca26\"],[1.0,\"#f0f921\"]]},\"colorway\":[\"#636efa\",\"#EF553B\",\"#00cc96\",\"#ab63fa\",\"#FFA15A\",\"#19d3f3\",\"#FF6692\",\"#B6E880\",\"#FF97FF\",\"#FECB52\"],\"font\":{\"color\":\"#2a3f5f\"},\"geo\":{\"bgcolor\":\"white\",\"lakecolor\":\"white\",\"landcolor\":\"#E5ECF6\",\"showlakes\":true,\"showland\":true,\"subunitcolor\":\"white\"},\"hoverlabel\":{\"align\":\"left\"},\"hovermode\":\"closest\",\"mapbox\":{\"style\":\"light\"},\"paper_bgcolor\":\"white\",\"plot_bgcolor\":\"#E5ECF6\",\"polar\":{\"angularaxis\":{\"gridcolor\":\"white\",\"linecolor\":\"white\",\"ticks\":\"\"},\"bgcolor\":\"#E5ECF6\",\"radialaxis\":{\"gridcolor\":\"white\",\"linecolor\":\"white\",\"ticks\":\"\"}},\"scene\":{\"xaxis\":{\"backgroundcolor\":\"#E5ECF6\",\"gridcolor\":\"white\",\"gridwidth\":2,\"linecolor\":\"white\",\"showbackground\":true,\"ticks\":\"\",\"zerolinecolor\":\"white\"},\"yaxis\":{\"backgroundcolor\":\"#E5ECF6\",\"gridcolor\":\"white\",\"gridwidth\":2,\"linecolor\":\"white\",\"showbackground\":true,\"ticks\":\"\",\"zerolinecolor\":\"white\"},\"zaxis\":{\"backgroundcolor\":\"#E5ECF6\",\"gridcolor\":\"white\",\"gridwidth\":2,\"linecolor\":\"white\",\"showbackground\":true,\"ticks\":\"\",\"zerolinecolor\":\"white\"}},\"shapedefaults\":{\"line\":{\"color\":\"#2a3f5f\"}},\"ternary\":{\"aaxis\":{\"gridcolor\":\"white\",\"linecolor\":\"white\",\"ticks\":\"\"},\"baxis\":{\"gridcolor\":\"white\",\"linecolor\":\"white\",\"ticks\":\"\"},\"bgcolor\":\"#E5ECF6\",\"caxis\":{\"gridcolor\":\"white\",\"linecolor\":\"white\",\"ticks\":\"\"}},\"title\":{\"x\":0.05},\"xaxis\":{\"automargin\":true,\"gridcolor\":\"white\",\"linecolor\":\"white\",\"ticks\":\"\",\"title\":{\"standoff\":15},\"zerolinecolor\":\"white\",\"zerolinewidth\":2},\"yaxis\":{\"automargin\":true,\"gridcolor\":\"white\",\"linecolor\":\"white\",\"ticks\":\"\",\"title\":{\"standoff\":15},\"zerolinecolor\":\"white\",\"zerolinewidth\":2}}},\"xaxis\":{\"anchor\":\"y\",\"domain\":[0.0,1.0],\"title\":{\"text\":\"PC\"}},\"yaxis\":{\"anchor\":\"x\",\"domain\":[0.0,1.0],\"title\":{\"text\":\"explained_variance\"}},\"legend\":{\"tracegroupgap\":0},\"margin\":{\"t\":60},\"barmode\":\"relative\",\"height\":400,\"width\":800},                        {\"responsive\": true}                    ).then(function(){\n",
              "                            \n",
              "var gd = document.getElementById('b004aa4c-080d-4179-b6af-6dd996e110f5');\n",
              "var x = new MutationObserver(function (mutations, observer) {{\n",
              "        var display = window.getComputedStyle(gd).display;\n",
              "        if (!display || display === 'none') {{\n",
              "            console.log([gd, 'removed!']);\n",
              "            Plotly.purge(gd);\n",
              "            observer.disconnect();\n",
              "        }}\n",
              "}});\n",
              "\n",
              "// Listen for the removal of the full notebook cells\n",
              "var notebookContainer = gd.closest('#notebook-container');\n",
              "if (notebookContainer) {{\n",
              "    x.observe(notebookContainer, {childList: true});\n",
              "}}\n",
              "\n",
              "// Listen for the clearing of the current output cell\n",
              "var outputEl = gd.closest('.output');\n",
              "if (outputEl) {{\n",
              "    x.observe(outputEl, {childList: true});\n",
              "}}\n",
              "\n",
              "                        })                };                            </script>        </div>\n",
              "</body>\n",
              "</html>"
            ]
          },
          "metadata": {}
        },
        {
          "output_type": "display_data",
          "data": {
            "text/html": [
              "<html>\n",
              "<head><meta charset=\"utf-8\" /></head>\n",
              "<body>\n",
              "    <div>            <script src=\"https://cdnjs.cloudflare.com/ajax/libs/mathjax/2.7.5/MathJax.js?config=TeX-AMS-MML_SVG\"></script><script type=\"text/javascript\">if (window.MathJax) {MathJax.Hub.Config({SVG: {font: \"STIX-Web\"}});}</script>                <script type=\"text/javascript\">window.PlotlyConfig = {MathJaxConfig: 'local'};</script>\n",
              "        <script src=\"https://cdn.plot.ly/plotly-2.8.3.min.js\"></script>                <div id=\"70051a84-3fee-41f0-a400-33d9f231d004\" class=\"plotly-graph-div\" style=\"height:600px; width:800px;\"></div>            <script type=\"text/javascript\">                                    window.PLOTLYENV=window.PLOTLYENV || {};                                    if (document.getElementById(\"70051a84-3fee-41f0-a400-33d9f231d004\")) {                    Plotly.newPlot(                        \"70051a84-3fee-41f0-a400-33d9f231d004\",                        [{\"customdata\":[[\"Tie1\",\"Tiefora\",\"resistant\",\"Burkina Faso\",\"coluzzii\"],[\"Tie2\",\"Tiefora\",\"resistant\",\"Burkina Faso\",\"coluzzii\"],[\"Tie3\",\"Tiefora\",\"resistant\",\"Burkina Faso\",\"coluzzii\"],[\"Ban1\",\"Ban\",\"resistant\",\"Burkina Faso\",\"coluzzii\"],[\"Ban2\",\"Ban\",\"resistant\",\"Burkina Faso\",\"coluzzii\"],[\"Ban3\",\"Ban\",\"resistant\",\"Burkina Faso\",\"coluzzii\"],[\"Ban4\",\"Ban\",\"resistant\",\"Burkina Faso\",\"coluzzii\"],[\"VK71\",\"VK7\",\"resistant\",\"Burkina Faso\",\"coluzzii\"],[\"VK72\",\"VK7\",\"resistant\",\"Burkina Faso\",\"coluzzii\"],[\"VK73\",\"VK7\",\"resistant\",\"Burkina Faso\",\"coluzzii\"],[\"VK74\",\"VK7\",\"resistant\",\"Burkina Faso\",\"coluzzii\"],[\"BanRe1\",\"BanRe\",\"resistant\",\"Burkina Faso\",\"coluzzii\"],[\"BanRe2\",\"BanRe\",\"resistant\",\"Burkina Faso\",\"coluzzii\"],[\"BanRe3\",\"BanRe\",\"resistant\",\"Burkina Faso\",\"coluzzii\"],[\"BanRe4\",\"BanRe\",\"resistant\",\"Burkina Faso\",\"coluzzii\"],[\"Chad1\",\"Chad\",\"resistant\",\"Chad\",\"coluzzii\"],[\"Chad2\",\"Chad\",\"resistant\",\"Chad\",\"coluzzii\"],[\"Chad3\",\"Chad\",\"resistant\",\"Chad\",\"coluzzii\"],[\"Chad4\",\"Chad\",\"resistant\",\"Chad\",\"coluzzii\"],[\"Chad5\",\"Chad\",\"resistant\",\"Chad\",\"coluzzii\"],[\"Chad6\",\"Chad\",\"resistant\",\"Chad\",\"coluzzii\"],[\"Nigeria1\",\"Nigeria\",\"resistant\",\"Nigeria\",\"coluzzii\"],[\"Nigeria2\",\"Nigeria\",\"resistant\",\"Nigeria\",\"coluzzii\"],[\"Nigeria3\",\"Nigeria\",\"resistant\",\"Nigeria\",\"coluzzii\"],[\"Nigeria4\",\"Nigeria\",\"resistant\",\"Nigeria\",\"coluzzii\"],[\"Nigeria5\",\"Nigeria\",\"resistant\",\"Nigeria\",\"coluzzii\"],[\"Nigeria6\",\"Nigeria\",\"resistant\",\"Nigeria\",\"coluzzii\"],[\"Cameroon1\",\"Cameroon\",\"resistant\",\"Cameroon\",\"coluzzii\"],[\"Cameroon2\",\"Cameroon\",\"resistant\",\"Cameroon\",\"coluzzii\"],[\"Cameroon3\",\"Cameroon\",\"resistant\",\"Cameroon\",\"coluzzii\"],[\"Cameroon4\",\"Cameroon\",\"resistant\",\"Cameroon\",\"coluzzii\"],[\"Cameroon5\",\"Cameroon\",\"resistant\",\"Cameroon\",\"coluzzii\"],[\"Niger1\",\"Niger\",\"resistant\",\"Niger\",\"coluzzii\"],[\"Niger2\",\"Niger\",\"resistant\",\"Niger\",\"coluzzii\"],[\"Niger3\",\"Niger\",\"resistant\",\"Niger\",\"coluzzii\"],[\"Niger4\",\"Niger\",\"resistant\",\"Niger\",\"coluzzii\"],[\"Niger5\",\"Niger\",\"resistant\",\"Niger\",\"coluzzii\"],[\"Niger6\",\"Niger\",\"resistant\",\"Niger\",\"coluzzii\"],[\"NG_Jess1\",\"Ngousso\",\"susceptible\",\"Cameroon\",\"coluzzii\"],[\"NG_Jess2\",\"Ngousso\",\"susceptible\",\"Cameroon\",\"coluzzii\"],[\"NG_Jess3\",\"Ngousso\",\"susceptible\",\"Cameroon\",\"coluzzii\"],[\"BanS1\",\"BanS\",\"susceptible\",\"BanS\",\"coluzzii\"],[\"BanS2\",\"BanS\",\"susceptible\",\"BanS\",\"coluzzii\"],[\"BanS3\",\"BanS\",\"susceptible\",\"BanS\",\"coluzzii\"],[\"BanS4\",\"BanS\",\"susceptible\",\"BanS\",\"coluzzii\"],[\"NG_Crete1\",\"Ngousso\",\"susceptible\",\"Cameroon\",\"coluzzii\"],[\"NG_Crete2\",\"Ngousso\",\"susceptible\",\"Cameroon\",\"coluzzii\"],[\"NG_Crete3\",\"Ngousso\",\"susceptible\",\"Cameroon\",\"coluzzii\"],[\"NG_Sul1\",\"Ngousso\",\"susceptible\",\"Cameroon\",\"coluzzii\"],[\"NG_Sul2\",\"Ngousso\",\"susceptible\",\"Cameroon\",\"coluzzii\"],[\"NG_Sul3\",\"Ngousso\",\"susceptible\",\"Cameroon\",\"coluzzii\"],[\"Agboville1\",\"Agboville\",\"resistant\",\"Cote d'Ivoire\",\"coluzzii\"],[\"Agboville2\",\"Agboville\",\"resistant\",\"Cote d'Ivoire\",\"coluzzii\"],[\"Agboville3\",\"Agboville\",\"resistant\",\"Cote d'Ivoire\",\"coluzzii\"],[\"Agboville4\",\"Agboville\",\"resistant\",\"Cote d'Ivoire\",\"coluzzii\"],[\"Agboville5\",\"Agboville\",\"resistant\",\"Cote d'Ivoire\",\"coluzzii\"],[\"Agboville6\",\"Agboville\",\"resistant\",\"Cote d'Ivoire\",\"coluzzii\"],[\"Agboville7\",\"Agboville\",\"resistant\",\"Cote d'Ivoire\",\"coluzzii\"],[\"Agboville8\",\"Agboville\",\"resistant\",\"Cote d'Ivoire\",\"coluzzii\"],[\"Agboville9\",\"Agboville\",\"resistant\",\"Cote d'Ivoire\",\"coluzzii\"],[\"Dabou1\",\"Dabou\",\"resistant\",\"Cote d'Ivoire\",\"coluzzii\"],[\"Dabou2\",\"Dabou\",\"resistant\",\"Cote d'Ivoire\",\"coluzzii\"],[\"Dabou3\",\"Dabou\",\"resistant\",\"Cote d'Ivoire\",\"coluzzii\"],[\"Dabou4\",\"Dabou\",\"resistant\",\"Cote d'Ivoire\",\"coluzzii\"],[\"Dabou5\",\"Dabou\",\"resistant\",\"Cote d'Ivoire\",\"coluzzii\"],[\"Dabou6\",\"Dabou\",\"resistant\",\"Cote d'Ivoire\",\"coluzzii\"],[\"Dabou7\",\"Dabou\",\"resistant\",\"Cote d'Ivoire\",\"coluzzii\"],[\"Dabou8\",\"Dabou\",\"resistant\",\"Cote d'Ivoire\",\"coluzzii\"],[\"Dabou9\",\"Dabou\",\"resistant\",\"Cote d'Ivoire\",\"coluzzii\"],[\"Dabou10\",\"Dabou\",\"resistant\",\"Cote d'Ivoire\",\"coluzzii\"],[\"Tiassale1\",\"Tiassale\",\"resistant\",\"Cote d'Ivoire\",\"coluzzii\"],[\"Tiassale2\",\"Tiassale\",\"resistant\",\"Cote d'Ivoire\",\"coluzzii\"],[\"Tiassale3\",\"Tiassale\",\"resistant\",\"Cote d'Ivoire\",\"coluzzii\"],[\"Tiassale4\",\"Tiassale\",\"resistant\",\"Cote d'Ivoire\",\"coluzzii\"],[\"Tiassale5\",\"Tiassale\",\"resistant\",\"Cote d'Ivoire\",\"coluzzii\"],[\"Tiassale6\",\"Tiassale\",\"resistant\",\"Cote d'Ivoire\",\"coluzzii\"],[\"Tiassale7\",\"Tiassale\",\"resistant\",\"Cote d'Ivoire\",\"coluzzii\"],[\"Tiassale8\",\"Tiassale\",\"resistant\",\"Cote d'Ivoire\",\"coluzzii\"],[\"Tiassale9\",\"Tiassale\",\"resistant\",\"Cote d'Ivoire\",\"coluzzii\"],[\"Tiassale10\",\"Tiassale\",\"resistant\",\"Cote d'Ivoire\",\"coluzzii\"],[\"Ngousso_Wipf1\",\"Ngousso\",\"susceptible\",\"Cameroon\",\"coluzzii\"],[\"Ngousso_Wipf2\",\"Ngousso\",\"susceptible\",\"Cameroon\",\"coluzzii\"],[\"Ngousso_Wipf3\",\"Ngousso\",\"susceptible\",\"Cameroon\",\"coluzzii\"],[\"Ngousso_Wipf4\",\"Ngousso\",\"susceptible\",\"Cameroon\",\"coluzzii\"],[\"Ngousso_Wipf5\",\"Ngousso\",\"susceptible\",\"Cameroon\",\"coluzzii\"],[\"Mali1\",\"Mali\",\"susceptible\",\"Mali\",\"coluzzii\"],[\"Mali2\",\"Mali\",\"susceptible\",\"Mali\",\"coluzzii\"],[\"Mali3\",\"Mali\",\"susceptible\",\"Mali\",\"coluzzii\"],[\"Mali4\",\"Mali\",\"susceptible\",\"Mali\",\"coluzzii\"],[\"Mali5\",\"Mali\",\"susceptible\",\"Mali\",\"coluzzii\"],[\"Bouake_colu_unexp1\",\"Bouake_colu_unexp\",\"resistant\",\"Cote d'Ivoire\",\"coluzzii\"],[\"Bouake_colu_unexp2\",\"Bouake_colu_unexp\",\"resistant\",\"Cote d'Ivoire\",\"coluzzii\"],[\"Bouake_colu_unexp3\",\"Bouake_colu_unexp\",\"resistant\",\"Cote d'Ivoire\",\"coluzzii\"],[\"Bouake_colu_unexp4\",\"Bouake_colu_unexp\",\"resistant\",\"Cote d'Ivoire\",\"coluzzii\"],[\"Bouake_Ngousso1\",\"Ngousso\",\"susceptible\",\"Cameroon\",\"coluzzii\"],[\"Bouake_Ngousso2\",\"Ngousso\",\"susceptible\",\"Cameroon\",\"coluzzii\"],[\"Bouake_Ngousso3\",\"Ngousso\",\"susceptible\",\"Cameroon\",\"coluzzii\"],[\"Bouake_Ngousso4\",\"Ngousso\",\"susceptible\",\"Cameroon\",\"coluzzii\"]],\"hovertemplate\":\"species=%{customdata[4]}<br>PC1=%{x}<br>PC2=%{y}<br>sampleID=%{customdata[0]}<br>condition=%{customdata[1]}<br>resistance=%{customdata[2]}<br>country=%{customdata[3]}<extra></extra>\",\"legendgroup\":\"coluzzii\",\"marker\":{\"color\":\"#F8766D\",\"symbol\":\"circle\"},\"mode\":\"markers\",\"name\":\"coluzzii\",\"orientation\":\"v\",\"showlegend\":true,\"x\":[-8.845058206572777,-7.446192966501732,-8.690566999632594,-18.674080130320455,-16.469738933545095,-15.73022905079145,-17.71352302995537,-11.66985499912959,-9.68715415013101,-9.360922811702604,-8.460132355185833,-20.107522362551506,-18.29642269032929,-17.594019154390953,-20.070710794952397,-36.43827549739267,-38.93453571515298,-36.16966759874936,-37.23620768148104,-32.060784617827416,-32.47871313047013,-37.34778790730862,-46.317358181825924,-48.42936313710955,-58.810655658117675,-55.70932004067159,-51.69550742009652,-42.89275465184095,-37.314650451752314,-37.276015607452514,-41.63485422971876,-40.857219336650104,-53.8565311735119,-43.97410336566428,-56.128494920287345,-43.259549118287104,-33.263529038526016,-48.806663665926834,-11.049971396773064,-10.358914853589663,-11.772133430860617,-11.81170643621779,-13.38251084959337,-13.568967477648275,-17.569279856994246,-7.274561857286047,-6.480157557408691,-7.939223806778021,-34.651203509585685,-54.07703222481201,-34.65554608617481,-72.14539091583406,-70.17359773758307,-84.43306637204974,-74.16053694910839,-76.29282544330754,-75.24361238295481,-78.97574702969139,-79.04057154571342,-71.86821573145495,-77.97700918196404,-70.97280533436997,-89.64372151052527,-74.44917858964605,-73.30922312854521,-87.91785814828303,-78.84681218230054,-68.19572460044053,-80.7970990892548,-77.51954210135888,-88.31125290138387,-84.5622088555321,-83.23622493322938,-85.75078733243488,-79.98926381203863,-74.39926572698712,-74.76968590521277,-86.0792234722946,-86.22079519417866,-80.67844836982631,-71.4141479035136,-65.09639610372227,-69.7967701915172,-46.71989148221238,-51.6961057236998,-51.31916195345233,-78.98155646635789,-52.50391247181461,-52.145248205040424,-54.226410557653956,-10.859079770984005,-31.634689717663385,-13.436925348296795,-12.371738481662813,-13.803490958845588,-8.599922539649265,-12.938392352606854,-15.12686496589865],\"xaxis\":\"x\",\"y\":[67.56929349490404,68.44488058663636,67.97533233183394,43.13111357782096,51.882764114210886,52.96415013194414,50.14660235664131,60.4260427303953,60.046531675875585,57.00078088349591,62.95258250521663,44.26508862795809,48.04908149618048,48.048447511027774,47.45379841479025,-4.276557883113537,-9.117954523285295,-5.541857259606189,6.052998170931986,12.00292692707557,10.784840953809745,-14.806781786248266,-7.664530064617481,-4.121454335699437,-17.455265328837474,-15.779957980283344,-13.642120545400099,5.708101380268283,1.5434949612216102,8.393065890916612,7.282724044807997,5.454115790564571,-12.651964708159346,-12.304215945443266,-16.647549778301528,-15.488785826920848,-8.651578925953602,-15.006079721248176,60.46740954987414,59.72319034504279,63.837077476896205,47.428764580926874,51.44379336682444,55.06696292199435,41.936121489928176,54.46006888044412,53.3996861271055,57.730179346550536,-4.318028711163592,-4.569898575533224,4.190952318481016,-44.5583062708412,-48.672767922972376,-52.87776612275598,-45.553909633666805,-43.77473645028378,-43.15386515115676,-44.686875626151675,-47.152702526834304,-37.37961354639891,-49.38828981513187,-45.67617166031736,-52.99943170213309,-44.65274858448296,-45.32432142984865,-57.924262161134315,-55.983538744973096,-44.18256329812005,-61.775953884124455,-41.941289293395926,-56.56786286393949,-55.663163236969844,-54.155365942117356,-51.57408489078177,-48.66543088533152,-43.47553658192206,-44.44590823966828,-55.47606819378709,-53.269228680987574,-44.78620114346454,-27.299715002317775,-24.40966357008713,-26.578319423410644,-8.870599019476405,-10.709000199926855,-29.606578576399464,-44.52918822684852,-35.509113890934174,-33.646704153069585,-28.016897749399,53.840854785994075,46.47677119776016,52.34189888791389,49.30407141438051,56.38307400148862,61.184572016135526,55.12405272830854,59.13300515980759],\"yaxis\":\"y\",\"type\":\"scatter\"},{\"customdata\":[[\"Bak1\",\"Bak\",\"resistant\",\"Burkina Faso\",\"gambiae\"],[\"Bak2\",\"Bak\",\"resistant\",\"Burkina Faso\",\"gambiae\"],[\"Bak3\",\"Bak\",\"resistant\",\"Burkina Faso\",\"gambiae\"],[\"Bak4\",\"Bak\",\"resistant\",\"Burkina Faso\",\"gambiae\"],[\"Kis1\",\"Kisumu\",\"susceptible\",\"Kenya\",\"gambiae\"],[\"Kis2\",\"Kisumu\",\"susceptible\",\"Kenya\",\"gambiae\"],[\"Kis3\",\"Kisumu\",\"susceptible\",\"Kenya\",\"gambiae\"],[\"Kis4\",\"Kisumu\",\"susceptible\",\"Kenya\",\"gambiae\"],[\"Bouake_Kisumu1\",\"Kisumu\",\"susceptible\",\"Kenya\",\"gambiae\"],[\"Bouake_Kisumu2\",\"Kisumu\",\"susceptible\",\"Kenya\",\"gambiae\"],[\"Bouake_Kisumu3\",\"Kisumu\",\"susceptible\",\"Kenya\",\"gambiae\"],[\"Bouake_Kisumu4\",\"Kisumu\",\"susceptible\",\"Kenya\",\"gambiae\"],[\"Bouake_gamb_unexp1\",\"Bouake_gamb_unexp\",\"resistant\",\"Cote d'Ivoire\",\"gambiae\"],[\"Bouake_gamb_unexp2\",\"Bouake_gamb_unexp\",\"resistant\",\"Cote d'Ivoire\",\"gambiae\"],[\"Bouake_gamb_unexp3\",\"Bouake_gamb_unexp\",\"resistant\",\"Cote d'Ivoire\",\"gambiae\"],[\"Bouake_gamb_unexp4\",\"Bouake_gamb_unexp\",\"resistant\",\"Cote d'Ivoire\",\"gambiae\"],[\"BusiaSurvivors1\",\"BusiaSurvivors\",\"resistant\",\"Uganda\",\"gambiae\"],[\"BusiaSurvivors2\",\"BusiaSurvivors\",\"resistant\",\"Uganda\",\"gambiae\"],[\"BusiaSurvivors3\",\"BusiaSurvivors\",\"resistant\",\"Uganda\",\"gambiae\"],[\"BusiaSurvivors4\",\"BusiaSurvivors\",\"resistant\",\"Uganda\",\"gambiae\"],[\"BusiaSurvivors5\",\"BusiaSurvivors\",\"resistant\",\"Uganda\",\"gambiae\"],[\"BusiaSurvivors6\",\"BusiaSurvivors\",\"resistant\",\"Uganda\",\"gambiae\"],[\"Kisumu1\",\"Kisumu\",\"susceptible\",\"Kenya\",\"gambiae\"],[\"Kisumu2\",\"Kisumu\",\"susceptible\",\"Kenya\",\"gambiae\"],[\"Kisumu3\",\"Kisumu\",\"susceptible\",\"Kenya\",\"gambiae\"],[\"Kisumu4\",\"Kisumu\",\"susceptible\",\"Kenya\",\"gambiae\"]],\"hovertemplate\":\"species=%{customdata[4]}<br>PC1=%{x}<br>PC2=%{y}<br>sampleID=%{customdata[0]}<br>condition=%{customdata[1]}<br>resistance=%{customdata[2]}<br>country=%{customdata[3]}<extra></extra>\",\"legendgroup\":\"gambiae\",\"marker\":{\"color\":\"#A3A500\",\"symbol\":\"circle\"},\"mode\":\"markers\",\"name\":\"gambiae\",\"orientation\":\"v\",\"showlegend\":true,\"x\":[-7.94778585556377,-7.235248631692372,-7.401675168312537,-3.933901185506386,-8.833962459351199,-6.890483084968236,-8.154339375674876,-4.701643006578155,-14.075415355435304,-15.991123721884371,-12.816206793217859,-20.348618627119457,-9.659122506345344,-11.132310437317933,-31.29524815479128,-12.68058932533201,-17.753287802264527,-12.428598591941922,-19.92589177975537,-13.536716003834178,-8.67402598466739,-7.841719333473451,-12.260332129179279,-10.6118418967192,-14.134608501131165,-8.156829524983134],\"xaxis\":\"x\",\"y\":[54.39425030619307,57.29000804397171,60.18765753881331,60.874590729308096,65.37323493474965,66.82403565568188,68.75054440304226,64.6156113047696,56.346810175038144,55.72025234693117,58.61961018848651,52.48293827428299,56.094321506954465,56.144694157861665,45.444889857953704,49.44131106518278,48.14539317218262,55.52900768627386,44.10643950877727,49.1743712888242,57.38787171660249,58.356016651694766,47.91533723864352,48.23733631189261,48.151164656468204,50.298029909225825],\"yaxis\":\"y\",\"type\":\"scatter\"},{\"customdata\":[[\"Asendabo_ara1\",\"Asendabo\",\"resistant\",\"Ethiopia\",\"arabiensis\"],[\"Asendabo_ara2\",\"Asendabo\",\"resistant\",\"Ethiopia\",\"arabiensis\"],[\"Asendabo_ara3\",\"Asendabo\",\"resistant\",\"Ethiopia\",\"arabiensis\"],[\"Asendabo_ara4\",\"Asendabo\",\"resistant\",\"Ethiopia\",\"arabiensis\"],[\"Chewaka_ara1\",\"Chewaka\",\"resistant\",\"Ethiopia\",\"arabiensis\"],[\"Chewaka_ara2\",\"Chewaka\",\"resistant\",\"Ethiopia\",\"arabiensis\"],[\"Chewaka_ara3\",\"Chewaka\",\"resistant\",\"Ethiopia\",\"arabiensis\"],[\"Chewaka_ara4\",\"Chewaka\",\"resistant\",\"Ethiopia\",\"arabiensis\"],[\"Moz_VanLeeuwen1\",\"Moz\",\"susceptible\",\"Mozambique\",\"arabiensis\"],[\"Moz_VanLeeuwen2\",\"Moz\",\"susceptible\",\"Mozambique\",\"arabiensis\"],[\"Moz_VanLeeuwen3\",\"Moz\",\"susceptible\",\"Mozambique\",\"arabiensis\"],[\"Moz_VanLeeuwen4\",\"Moz\",\"susceptible\",\"Mozambique\",\"arabiensis\"],[\"Tolay1\",\"Tolay\",\"resistant\",\"Ethiopia\",\"arabiensis\"],[\"Tolay2\",\"Tolay\",\"resistant\",\"Ethiopia\",\"arabiensis\"],[\"Tolay3\",\"Tolay\",\"resistant\",\"Ethiopia\",\"arabiensis\"],[\"Tolay4\",\"Tolay\",\"resistant\",\"Ethiopia\",\"arabiensis\"],[\"Dongola1\",\"Dongola\",\"susceptible\",\"Sudan\",\"arabiensis\"],[\"Dongola2\",\"Dongola\",\"susceptible\",\"Sudan\",\"arabiensis\"],[\"Dongola3\",\"Dongola\",\"susceptible\",\"Sudan\",\"arabiensis\"],[\"Ethiopia1\",\"Ethiopia\",\"resistant\",\"Ethiopia\",\"arabiensis\"],[\"Ethiopia2\",\"Ethiopia\",\"resistant\",\"Ethiopia\",\"arabiensis\"],[\"Ethiopia3\",\"Ethiopia\",\"resistant\",\"Ethiopia\",\"arabiensis\"],[\"Gou1\",\"Gou\",\"resistant\",\"Burkina Faso\",\"arabiensis\"],[\"Gou2\",\"Gou\",\"resistant\",\"Burkina Faso\",\"arabiensis\"],[\"Gou3\",\"Gou\",\"resistant\",\"Burkina Faso\",\"arabiensis\"],[\"Moz_Ranson1\",\"Moz\",\"susceptible\",\"Mozambique\",\"arabiensis\"],[\"Moz_Ranson2\",\"Moz\",\"susceptible\",\"Mozambique\",\"arabiensis\"],[\"Moz_Ranson3\",\"Moz\",\"susceptible\",\"Mozambique\",\"arabiensis\"]],\"hovertemplate\":\"species=%{customdata[4]}<br>PC1=%{x}<br>PC2=%{y}<br>sampleID=%{customdata[0]}<br>condition=%{customdata[1]}<br>resistance=%{customdata[2]}<br>country=%{customdata[3]}<extra></extra>\",\"legendgroup\":\"arabiensis\",\"marker\":{\"color\":\"#00BF7D\",\"symbol\":\"circle\"},\"mode\":\"markers\",\"name\":\"arabiensis\",\"orientation\":\"v\",\"showlegend\":true,\"x\":[-38.21206275523093,-39.75248998100915,-38.19690296295631,-29.654076736907903,-36.09526988167083,-34.6152104769074,-33.57005983147607,-36.885488362181725,-32.54971763113545,-27.903045056105366,-36.249763390160886,-35.39991591273921,-35.05582728892543,-37.9532888964711,-35.44190340665422,-32.06544380710449,38.55022516423905,48.828829567732264,47.76798264371329,32.000589836535745,42.387424762324976,24.29533206094792,-11.616943560898312,-11.22263084553974,-11.613119168861006,-17.784586518741882,-17.879630319967987,-20.279413248944405],\"xaxis\":\"x\",\"y\":[-42.74758256955364,-48.50962184247339,-47.23234928639329,-40.60144122324761,-42.9413883955497,-41.71944669619004,-49.46437407679759,-39.166776914036774,-32.2454812236024,-24.977601639304677,-39.321667370886246,-31.77166036638565,-55.97326658324011,-51.403175582963534,-45.06672375168628,-43.13254808893209,-6.364757861428455,4.896702505001527,5.312140294660569,-18.25544025560776,-10.29287056122802,-22.86875754618556,45.35607219062477,47.106415177656835,46.294455625137964,55.382701992740095,60.811431064994046,54.03741793718717],\"yaxis\":\"y\",\"type\":\"scatter\"},{\"customdata\":[[\"Cameroon_fun1\",\"Cam_fun\",\"resistant\",\"Cameroon\",\"funestus\"],[\"Cameroon_fun2\",\"Cam_fun\",\"resistant\",\"Cameroon\",\"funestus\"],[\"Cameroon_fun3\",\"Cam_fun\",\"resistant\",\"Cameroon\",\"funestus\"],[\"Cameroon_fun4\",\"Cam_fun\",\"resistant\",\"Cameroon\",\"funestus\"],[\"Cameroon_fun5\",\"Cam_fun\",\"resistant\",\"Cameroon\",\"funestus\"],[\"Cameroon_fun6\",\"Cam_fun\",\"resistant\",\"Cameroon\",\"funestus\"],[\"Cameroon_fun7\",\"Cam_fun\",\"resistant\",\"Cameroon\",\"funestus\"],[\"Cameroon_fun8\",\"Cam_fun\",\"resistant\",\"Cameroon\",\"funestus\"],[\"Cameroon_fun9\",\"Cam_fun\",\"resistant\",\"Cameroon\",\"funestus\"],[\"Fang1\",\"Fang\",\"susceptible\",\"Angola\",\"funestus\"],[\"Fang2\",\"Fang\",\"susceptible\",\"Angola\",\"funestus\"],[\"Fang3\",\"Fang\",\"susceptible\",\"Angola\",\"funestus\"],[\"Fumoz1\",\"Fumoz\",\"resistant\",\"Mozambique\",\"funestus\"],[\"Fumoz2\",\"Fumoz\",\"resistant\",\"Mozambique\",\"funestus\"],[\"Fumoz3\",\"Fumoz\",\"resistant\",\"Mozambique\",\"funestus\"],[\"Fumoz4\",\"Fumoz\",\"resistant\",\"Mozambique\",\"funestus\"],[\"Fumoz5\",\"Fumoz\",\"resistant\",\"Mozambique\",\"funestus\"],[\"Ghana_fun1\",\"Ghana_fun\",\"resistant\",\"Ghana\",\"funestus\"],[\"Ghana_fun2\",\"Ghana_fun\",\"resistant\",\"Ghana\",\"funestus\"],[\"Ghana_fun3\",\"Ghana_fun\",\"resistant\",\"Ghana\",\"funestus\"],[\"Ghana_fun4\",\"Ghana_fun\",\"resistant\",\"Ghana\",\"funestus\"],[\"Ghana_fun5\",\"Ghana_fun\",\"resistant\",\"Ghana\",\"funestus\"],[\"Ghana_fun6\",\"Ghana_fun\",\"resistant\",\"Ghana\",\"funestus\"],[\"Ghana_fun7\",\"Ghana_fun\",\"resistant\",\"Ghana\",\"funestus\"],[\"Ghana_fun8\",\"Ghana_fun\",\"resistant\",\"Ghana\",\"funestus\"],[\"Ghana_fun9\",\"Ghana_fun\",\"resistant\",\"Ghana\",\"funestus\"],[\"Ghana_fun10\",\"Ghana_fun\",\"resistant\",\"Ghana\",\"funestus\"],[\"Malawi_fun1\",\"Malawi_fun\",\"resistant\",\"Malawi\",\"funestus\"],[\"Malawi_fun2\",\"Malawi_fun\",\"resistant\",\"Malawi\",\"funestus\"],[\"Malawi_fun3\",\"Malawi_fun\",\"resistant\",\"Malawi\",\"funestus\"],[\"Malawi_fun4\",\"Malawi_fun\",\"resistant\",\"Malawi\",\"funestus\"],[\"Malawi_fun5\",\"Malawi_fun\",\"resistant\",\"Malawi\",\"funestus\"],[\"Malawi_fun6\",\"Malawi_fun\",\"resistant\",\"Malawi\",\"funestus\"],[\"Malawi_fun7\",\"Malawi_fun\",\"resistant\",\"Malawi\",\"funestus\"],[\"Malawi_fun8\",\"Malawi_fun\",\"resistant\",\"Malawi\",\"funestus\"],[\"Malawi_fun9\",\"Malawi_fun\",\"resistant\",\"Malawi\",\"funestus\"],[\"Malawi_fun10\",\"Malawi_fun\",\"resistant\",\"Malawi\",\"funestus\"],[\"Uganda_fun1\",\"Uganda_fun\",\"resistant\",\"Uganda\",\"funestus\"],[\"Uganda_fun2\",\"Uganda_fun\",\"resistant\",\"Uganda\",\"funestus\"],[\"Uganda_fun3\",\"Uganda_fun\",\"resistant\",\"Uganda\",\"funestus\"],[\"Uganda_fun4\",\"Uganda_fun\",\"resistant\",\"Uganda\",\"funestus\"],[\"Uganda_fun5\",\"Uganda_fun\",\"resistant\",\"Uganda\",\"funestus\"],[\"Uganda_fun6\",\"Uganda_fun\",\"resistant\",\"Uganda\",\"funestus\"],[\"Uganda_fun7\",\"Uganda_fun\",\"resistant\",\"Uganda\",\"funestus\"],[\"Uganda_fun8\",\"Uganda_fun\",\"resistant\",\"Uganda\",\"funestus\"],[\"Uganda_fun9\",\"Uganda_fun\",\"resistant\",\"Uganda\",\"funestus\"]],\"hovertemplate\":\"species=%{customdata[4]}<br>PC1=%{x}<br>PC2=%{y}<br>sampleID=%{customdata[0]}<br>condition=%{customdata[1]}<br>resistance=%{customdata[2]}<br>country=%{customdata[3]}<extra></extra>\",\"legendgroup\":\"funestus\",\"marker\":{\"color\":\"#00B0F6\",\"symbol\":\"circle\"},\"mode\":\"markers\",\"name\":\"funestus\",\"orientation\":\"v\",\"showlegend\":true,\"x\":[102.1075419374691,110.79076539453456,105.04768452712217,115.6507001254878,109.49107992742717,106.01117633706218,107.28643896750857,110.51404464471314,107.26160269322767,102.07715717450434,104.21636525901624,112.90435183226636,105.33687858191549,109.9593634329163,109.86662468632882,106.98567069937894,116.88473390151977,111.7892563368181,131.10045723255732,119.89633240053085,116.14945503405055,110.81201681363954,112.62330020620439,109.82940295757714,109.57371999386528,100.40433924099071,106.50455417352597,116.28244838135663,102.2527890364055,97.9473282475511,129.15546687598157,123.05796736660916,104.25839485424315,104.43904292259828,118.40694682712714,123.34338868837449,111.08273514285197,131.37855548420484,123.7991695269869,127.76143734151262,127.93584090910323,97.27387852332936,126.66393218713094,106.74350273418635,105.98300685391995,108.6773646238378],\"xaxis\":\"x\",\"y\":[-21.543326103118524,-23.008407109013543,-28.570083063548473,-20.821679872977757,-21.106324507966306,-25.964897242326558,-21.399242976525766,-22.187519605910083,-24.590106299172966,-30.095237459930132,-22.66228059830259,-19.363684442541423,-24.639257428441553,-23.552736201347763,-21.859716776857955,-22.34172159913087,-21.43557530144287,-20.32584720919827,-28.574834622616976,-21.49641569396588,-17.053346052366727,-18.520597808962464,-15.637198733041254,-13.866732478227796,-22.91132404369746,-32.28689231558914,-30.591674747368398,-16.898816396154906,-23.240614227908146,-29.888673894372772,-33.77546480858278,-40.71240659311608,-24.91289551140663,-24.648970002669824,-14.754498115369545,-19.743574025917436,-17.47739602464606,-6.171478250814312,-7.640492248535067,-10.969813555726539,-6.887640577617397,-34.75157142321385,-5.883465236042373,-31.80651495895409,-30.39145762607011,-28.176668770417262],\"yaxis\":\"y\",\"type\":\"scatter\"}],                        {\"template\":{\"data\":{\"barpolar\":[{\"marker\":{\"line\":{\"color\":\"rgb(237,237,237)\",\"width\":0.5},\"pattern\":{\"fillmode\":\"overlay\",\"size\":10,\"solidity\":0.2}},\"type\":\"barpolar\"}],\"bar\":[{\"error_x\":{\"color\":\"rgb(51,51,51)\"},\"error_y\":{\"color\":\"rgb(51,51,51)\"},\"marker\":{\"line\":{\"color\":\"rgb(237,237,237)\",\"width\":0.5},\"pattern\":{\"fillmode\":\"overlay\",\"size\":10,\"solidity\":0.2}},\"type\":\"bar\"}],\"carpet\":[{\"aaxis\":{\"endlinecolor\":\"rgb(51,51,51)\",\"gridcolor\":\"white\",\"linecolor\":\"white\",\"minorgridcolor\":\"white\",\"startlinecolor\":\"rgb(51,51,51)\"},\"baxis\":{\"endlinecolor\":\"rgb(51,51,51)\",\"gridcolor\":\"white\",\"linecolor\":\"white\",\"minorgridcolor\":\"white\",\"startlinecolor\":\"rgb(51,51,51)\"},\"type\":\"carpet\"}],\"choropleth\":[{\"colorbar\":{\"outlinewidth\":0,\"tickcolor\":\"rgb(237,237,237)\",\"ticklen\":6,\"ticks\":\"inside\"},\"type\":\"choropleth\"}],\"contourcarpet\":[{\"colorbar\":{\"outlinewidth\":0,\"tickcolor\":\"rgb(237,237,237)\",\"ticklen\":6,\"ticks\":\"inside\"},\"type\":\"contourcarpet\"}],\"contour\":[{\"colorbar\":{\"outlinewidth\":0,\"tickcolor\":\"rgb(237,237,237)\",\"ticklen\":6,\"ticks\":\"inside\"},\"colorscale\":[[0,\"rgb(20,44,66)\"],[1,\"rgb(90,179,244)\"]],\"type\":\"contour\"}],\"heatmapgl\":[{\"colorbar\":{\"outlinewidth\":0,\"tickcolor\":\"rgb(237,237,237)\",\"ticklen\":6,\"ticks\":\"inside\"},\"colorscale\":[[0,\"rgb(20,44,66)\"],[1,\"rgb(90,179,244)\"]],\"type\":\"heatmapgl\"}],\"heatmap\":[{\"colorbar\":{\"outlinewidth\":0,\"tickcolor\":\"rgb(237,237,237)\",\"ticklen\":6,\"ticks\":\"inside\"},\"colorscale\":[[0,\"rgb(20,44,66)\"],[1,\"rgb(90,179,244)\"]],\"type\":\"heatmap\"}],\"histogram2dcontour\":[{\"colorbar\":{\"outlinewidth\":0,\"tickcolor\":\"rgb(237,237,237)\",\"ticklen\":6,\"ticks\":\"inside\"},\"colorscale\":[[0,\"rgb(20,44,66)\"],[1,\"rgb(90,179,244)\"]],\"type\":\"histogram2dcontour\"}],\"histogram2d\":[{\"colorbar\":{\"outlinewidth\":0,\"tickcolor\":\"rgb(237,237,237)\",\"ticklen\":6,\"ticks\":\"inside\"},\"colorscale\":[[0,\"rgb(20,44,66)\"],[1,\"rgb(90,179,244)\"]],\"type\":\"histogram2d\"}],\"histogram\":[{\"marker\":{\"pattern\":{\"fillmode\":\"overlay\",\"size\":10,\"solidity\":0.2}},\"type\":\"histogram\"}],\"mesh3d\":[{\"colorbar\":{\"outlinewidth\":0,\"tickcolor\":\"rgb(237,237,237)\",\"ticklen\":6,\"ticks\":\"inside\"},\"type\":\"mesh3d\"}],\"parcoords\":[{\"line\":{\"colorbar\":{\"outlinewidth\":0,\"tickcolor\":\"rgb(237,237,237)\",\"ticklen\":6,\"ticks\":\"inside\"}},\"type\":\"parcoords\"}],\"pie\":[{\"automargin\":true,\"type\":\"pie\"}],\"scatter3d\":[{\"line\":{\"colorbar\":{\"outlinewidth\":0,\"tickcolor\":\"rgb(237,237,237)\",\"ticklen\":6,\"ticks\":\"inside\"}},\"marker\":{\"colorbar\":{\"outlinewidth\":0,\"tickcolor\":\"rgb(237,237,237)\",\"ticklen\":6,\"ticks\":\"inside\"}},\"type\":\"scatter3d\"}],\"scattercarpet\":[{\"marker\":{\"colorbar\":{\"outlinewidth\":0,\"tickcolor\":\"rgb(237,237,237)\",\"ticklen\":6,\"ticks\":\"inside\"}},\"type\":\"scattercarpet\"}],\"scattergeo\":[{\"marker\":{\"colorbar\":{\"outlinewidth\":0,\"tickcolor\":\"rgb(237,237,237)\",\"ticklen\":6,\"ticks\":\"inside\"}},\"type\":\"scattergeo\"}],\"scattergl\":[{\"marker\":{\"colorbar\":{\"outlinewidth\":0,\"tickcolor\":\"rgb(237,237,237)\",\"ticklen\":6,\"ticks\":\"inside\"}},\"type\":\"scattergl\"}],\"scattermapbox\":[{\"marker\":{\"colorbar\":{\"outlinewidth\":0,\"tickcolor\":\"rgb(237,237,237)\",\"ticklen\":6,\"ticks\":\"inside\"}},\"type\":\"scattermapbox\"}],\"scatterpolargl\":[{\"marker\":{\"colorbar\":{\"outlinewidth\":0,\"tickcolor\":\"rgb(237,237,237)\",\"ticklen\":6,\"ticks\":\"inside\"}},\"type\":\"scatterpolargl\"}],\"scatterpolar\":[{\"marker\":{\"colorbar\":{\"outlinewidth\":0,\"tickcolor\":\"rgb(237,237,237)\",\"ticklen\":6,\"ticks\":\"inside\"}},\"type\":\"scatterpolar\"}],\"scatter\":[{\"marker\":{\"colorbar\":{\"outlinewidth\":0,\"tickcolor\":\"rgb(237,237,237)\",\"ticklen\":6,\"ticks\":\"inside\"}},\"type\":\"scatter\"}],\"scatterternary\":[{\"marker\":{\"colorbar\":{\"outlinewidth\":0,\"tickcolor\":\"rgb(237,237,237)\",\"ticklen\":6,\"ticks\":\"inside\"}},\"type\":\"scatterternary\"}],\"surface\":[{\"colorbar\":{\"outlinewidth\":0,\"tickcolor\":\"rgb(237,237,237)\",\"ticklen\":6,\"ticks\":\"inside\"},\"colorscale\":[[0,\"rgb(20,44,66)\"],[1,\"rgb(90,179,244)\"]],\"type\":\"surface\"}],\"table\":[{\"cells\":{\"fill\":{\"color\":\"rgb(237,237,237)\"},\"line\":{\"color\":\"white\"}},\"header\":{\"fill\":{\"color\":\"rgb(217,217,217)\"},\"line\":{\"color\":\"white\"}},\"type\":\"table\"}]},\"layout\":{\"annotationdefaults\":{\"arrowhead\":0,\"arrowwidth\":1},\"autotypenumbers\":\"strict\",\"coloraxis\":{\"colorbar\":{\"outlinewidth\":0,\"tickcolor\":\"rgb(237,237,237)\",\"ticklen\":6,\"ticks\":\"inside\"}},\"colorscale\":{\"sequential\":[[0,\"rgb(20,44,66)\"],[1,\"rgb(90,179,244)\"]],\"sequentialminus\":[[0,\"rgb(20,44,66)\"],[1,\"rgb(90,179,244)\"]]},\"colorway\":[\"#F8766D\",\"#A3A500\",\"#00BF7D\",\"#00B0F6\",\"#E76BF3\"],\"font\":{\"color\":\"rgb(51,51,51)\"},\"geo\":{\"bgcolor\":\"white\",\"lakecolor\":\"white\",\"landcolor\":\"rgb(237,237,237)\",\"showlakes\":true,\"showland\":true,\"subunitcolor\":\"white\"},\"hoverlabel\":{\"align\":\"left\"},\"hovermode\":\"closest\",\"paper_bgcolor\":\"white\",\"plot_bgcolor\":\"rgb(237,237,237)\",\"polar\":{\"angularaxis\":{\"gridcolor\":\"white\",\"linecolor\":\"white\",\"showgrid\":true,\"tickcolor\":\"rgb(51,51,51)\",\"ticks\":\"outside\"},\"bgcolor\":\"rgb(237,237,237)\",\"radialaxis\":{\"gridcolor\":\"white\",\"linecolor\":\"white\",\"showgrid\":true,\"tickcolor\":\"rgb(51,51,51)\",\"ticks\":\"outside\"}},\"scene\":{\"xaxis\":{\"backgroundcolor\":\"rgb(237,237,237)\",\"gridcolor\":\"white\",\"gridwidth\":2,\"linecolor\":\"white\",\"showbackground\":true,\"showgrid\":true,\"tickcolor\":\"rgb(51,51,51)\",\"ticks\":\"outside\",\"zerolinecolor\":\"white\"},\"yaxis\":{\"backgroundcolor\":\"rgb(237,237,237)\",\"gridcolor\":\"white\",\"gridwidth\":2,\"linecolor\":\"white\",\"showbackground\":true,\"showgrid\":true,\"tickcolor\":\"rgb(51,51,51)\",\"ticks\":\"outside\",\"zerolinecolor\":\"white\"},\"zaxis\":{\"backgroundcolor\":\"rgb(237,237,237)\",\"gridcolor\":\"white\",\"gridwidth\":2,\"linecolor\":\"white\",\"showbackground\":true,\"showgrid\":true,\"tickcolor\":\"rgb(51,51,51)\",\"ticks\":\"outside\",\"zerolinecolor\":\"white\"}},\"shapedefaults\":{\"fillcolor\":\"black\",\"line\":{\"width\":0},\"opacity\":0.3},\"ternary\":{\"aaxis\":{\"gridcolor\":\"white\",\"linecolor\":\"white\",\"showgrid\":true,\"tickcolor\":\"rgb(51,51,51)\",\"ticks\":\"outside\"},\"baxis\":{\"gridcolor\":\"white\",\"linecolor\":\"white\",\"showgrid\":true,\"tickcolor\":\"rgb(51,51,51)\",\"ticks\":\"outside\"},\"bgcolor\":\"rgb(237,237,237)\",\"caxis\":{\"gridcolor\":\"white\",\"linecolor\":\"white\",\"showgrid\":true,\"tickcolor\":\"rgb(51,51,51)\",\"ticks\":\"outside\"}},\"xaxis\":{\"automargin\":true,\"gridcolor\":\"white\",\"linecolor\":\"white\",\"showgrid\":true,\"tickcolor\":\"rgb(51,51,51)\",\"ticks\":\"outside\",\"title\":{\"standoff\":15},\"zerolinecolor\":\"white\"},\"yaxis\":{\"automargin\":true,\"gridcolor\":\"white\",\"linecolor\":\"white\",\"showgrid\":true,\"tickcolor\":\"rgb(51,51,51)\",\"ticks\":\"outside\",\"title\":{\"standoff\":15},\"zerolinecolor\":\"white\"}}},\"xaxis\":{\"anchor\":\"y\",\"domain\":[0.0,1.0],\"title\":{\"text\":\"PC1\"}},\"yaxis\":{\"anchor\":\"x\",\"domain\":[0.0,1.0],\"title\":{\"text\":\"PC2\"}},\"legend\":{\"title\":{\"text\":\"species\"},\"tracegroupgap\":0},\"margin\":{\"t\":60},\"height\":600,\"width\":800},                        {\"responsive\": true}                    ).then(function(){\n",
              "                            \n",
              "var gd = document.getElementById('70051a84-3fee-41f0-a400-33d9f231d004');\n",
              "var x = new MutationObserver(function (mutations, observer) {{\n",
              "        var display = window.getComputedStyle(gd).display;\n",
              "        if (!display || display === 'none') {{\n",
              "            console.log([gd, 'removed!']);\n",
              "            Plotly.purge(gd);\n",
              "            observer.disconnect();\n",
              "        }}\n",
              "}});\n",
              "\n",
              "// Listen for the removal of the full notebook cells\n",
              "var notebookContainer = gd.closest('#notebook-container');\n",
              "if (notebookContainer) {{\n",
              "    x.observe(notebookContainer, {childList: true});\n",
              "}}\n",
              "\n",
              "// Listen for the clearing of the current output cell\n",
              "var outputEl = gd.closest('.output');\n",
              "if (outputEl) {{\n",
              "    x.observe(outputEl, {childList: true});\n",
              "}}\n",
              "\n",
              "                        })                };                            </script>        </div>\n",
              "</body>\n",
              "</html>"
            ]
          },
          "metadata": {}
        }
      ]
    },
    {
      "cell_type": "markdown",
      "source": [
        "### PC3 vc PC4"
      ],
      "metadata": {
        "id": "TWqLAFZGwxGA"
      }
    },
    {
      "cell_type": "code",
      "source": [
        "pca(analysis='gamb_colu_arab_fun', x='PC3', y=\"PC4\")"
      ],
      "metadata": {
        "colab": {
          "base_uri": "https://localhost:8080/",
          "height": 1000
        },
        "id": "Z5LHyOFDwqux",
        "outputId": "3ae13a63-7fdd-44d6-b1e7-d4418198f57b"
      },
      "execution_count": null,
      "outputs": [
        {
          "output_type": "display_data",
          "data": {
            "text/html": [
              "<html>\n",
              "<head><meta charset=\"utf-8\" /></head>\n",
              "<body>\n",
              "    <div>            <script src=\"https://cdnjs.cloudflare.com/ajax/libs/mathjax/2.7.5/MathJax.js?config=TeX-AMS-MML_SVG\"></script><script type=\"text/javascript\">if (window.MathJax) {MathJax.Hub.Config({SVG: {font: \"STIX-Web\"}});}</script>                <script type=\"text/javascript\">window.PlotlyConfig = {MathJaxConfig: 'local'};</script>\n",
              "        <script src=\"https://cdn.plot.ly/plotly-2.8.3.min.js\"></script>                <div id=\"f0e6e9f5-28f7-41a3-a8f2-f4da3e44fb32\" class=\"plotly-graph-div\" style=\"height:400px; width:800px;\"></div>            <script type=\"text/javascript\">                                    window.PLOTLYENV=window.PLOTLYENV || {};                                    if (document.getElementById(\"f0e6e9f5-28f7-41a3-a8f2-f4da3e44fb32\")) {                    Plotly.newPlot(                        \"f0e6e9f5-28f7-41a3-a8f2-f4da3e44fb32\",                        [{\"alignmentgroup\":\"True\",\"hovertemplate\":\"PC=%{x}<br>explained_variance=%{y}<extra></extra>\",\"legendgroup\":\"\",\"marker\":{\"color\":\"#636efa\",\"pattern\":{\"shape\":\"\"}},\"name\":\"\",\"offsetgroup\":\"\",\"orientation\":\"v\",\"showlegend\":false,\"textposition\":\"auto\",\"x\":[\"PC1\",\"PC2\",\"PC3\",\"PC4\",\"PC5\",\"PC6\"],\"xaxis\":\"x\",\"y\":[0.407543341670979,0.1530781802251806,0.0878799358837424,0.03826578950785919,0.028303638588327087,0.02334026353914835],\"yaxis\":\"y\",\"type\":\"bar\"}],                        {\"template\":{\"data\":{\"bar\":[{\"error_x\":{\"color\":\"#2a3f5f\"},\"error_y\":{\"color\":\"#2a3f5f\"},\"marker\":{\"line\":{\"color\":\"#E5ECF6\",\"width\":0.5},\"pattern\":{\"fillmode\":\"overlay\",\"size\":10,\"solidity\":0.2}},\"type\":\"bar\"}],\"barpolar\":[{\"marker\":{\"line\":{\"color\":\"#E5ECF6\",\"width\":0.5},\"pattern\":{\"fillmode\":\"overlay\",\"size\":10,\"solidity\":0.2}},\"type\":\"barpolar\"}],\"carpet\":[{\"aaxis\":{\"endlinecolor\":\"#2a3f5f\",\"gridcolor\":\"white\",\"linecolor\":\"white\",\"minorgridcolor\":\"white\",\"startlinecolor\":\"#2a3f5f\"},\"baxis\":{\"endlinecolor\":\"#2a3f5f\",\"gridcolor\":\"white\",\"linecolor\":\"white\",\"minorgridcolor\":\"white\",\"startlinecolor\":\"#2a3f5f\"},\"type\":\"carpet\"}],\"choropleth\":[{\"colorbar\":{\"outlinewidth\":0,\"ticks\":\"\"},\"type\":\"choropleth\"}],\"contour\":[{\"colorbar\":{\"outlinewidth\":0,\"ticks\":\"\"},\"colorscale\":[[0.0,\"#0d0887\"],[0.1111111111111111,\"#46039f\"],[0.2222222222222222,\"#7201a8\"],[0.3333333333333333,\"#9c179e\"],[0.4444444444444444,\"#bd3786\"],[0.5555555555555556,\"#d8576b\"],[0.6666666666666666,\"#ed7953\"],[0.7777777777777778,\"#fb9f3a\"],[0.8888888888888888,\"#fdca26\"],[1.0,\"#f0f921\"]],\"type\":\"contour\"}],\"contourcarpet\":[{\"colorbar\":{\"outlinewidth\":0,\"ticks\":\"\"},\"type\":\"contourcarpet\"}],\"heatmap\":[{\"colorbar\":{\"outlinewidth\":0,\"ticks\":\"\"},\"colorscale\":[[0.0,\"#0d0887\"],[0.1111111111111111,\"#46039f\"],[0.2222222222222222,\"#7201a8\"],[0.3333333333333333,\"#9c179e\"],[0.4444444444444444,\"#bd3786\"],[0.5555555555555556,\"#d8576b\"],[0.6666666666666666,\"#ed7953\"],[0.7777777777777778,\"#fb9f3a\"],[0.8888888888888888,\"#fdca26\"],[1.0,\"#f0f921\"]],\"type\":\"heatmap\"}],\"heatmapgl\":[{\"colorbar\":{\"outlinewidth\":0,\"ticks\":\"\"},\"colorscale\":[[0.0,\"#0d0887\"],[0.1111111111111111,\"#46039f\"],[0.2222222222222222,\"#7201a8\"],[0.3333333333333333,\"#9c179e\"],[0.4444444444444444,\"#bd3786\"],[0.5555555555555556,\"#d8576b\"],[0.6666666666666666,\"#ed7953\"],[0.7777777777777778,\"#fb9f3a\"],[0.8888888888888888,\"#fdca26\"],[1.0,\"#f0f921\"]],\"type\":\"heatmapgl\"}],\"histogram\":[{\"marker\":{\"pattern\":{\"fillmode\":\"overlay\",\"size\":10,\"solidity\":0.2}},\"type\":\"histogram\"}],\"histogram2d\":[{\"colorbar\":{\"outlinewidth\":0,\"ticks\":\"\"},\"colorscale\":[[0.0,\"#0d0887\"],[0.1111111111111111,\"#46039f\"],[0.2222222222222222,\"#7201a8\"],[0.3333333333333333,\"#9c179e\"],[0.4444444444444444,\"#bd3786\"],[0.5555555555555556,\"#d8576b\"],[0.6666666666666666,\"#ed7953\"],[0.7777777777777778,\"#fb9f3a\"],[0.8888888888888888,\"#fdca26\"],[1.0,\"#f0f921\"]],\"type\":\"histogram2d\"}],\"histogram2dcontour\":[{\"colorbar\":{\"outlinewidth\":0,\"ticks\":\"\"},\"colorscale\":[[0.0,\"#0d0887\"],[0.1111111111111111,\"#46039f\"],[0.2222222222222222,\"#7201a8\"],[0.3333333333333333,\"#9c179e\"],[0.4444444444444444,\"#bd3786\"],[0.5555555555555556,\"#d8576b\"],[0.6666666666666666,\"#ed7953\"],[0.7777777777777778,\"#fb9f3a\"],[0.8888888888888888,\"#fdca26\"],[1.0,\"#f0f921\"]],\"type\":\"histogram2dcontour\"}],\"mesh3d\":[{\"colorbar\":{\"outlinewidth\":0,\"ticks\":\"\"},\"type\":\"mesh3d\"}],\"parcoords\":[{\"line\":{\"colorbar\":{\"outlinewidth\":0,\"ticks\":\"\"}},\"type\":\"parcoords\"}],\"pie\":[{\"automargin\":true,\"type\":\"pie\"}],\"scatter\":[{\"marker\":{\"colorbar\":{\"outlinewidth\":0,\"ticks\":\"\"}},\"type\":\"scatter\"}],\"scatter3d\":[{\"line\":{\"colorbar\":{\"outlinewidth\":0,\"ticks\":\"\"}},\"marker\":{\"colorbar\":{\"outlinewidth\":0,\"ticks\":\"\"}},\"type\":\"scatter3d\"}],\"scattercarpet\":[{\"marker\":{\"colorbar\":{\"outlinewidth\":0,\"ticks\":\"\"}},\"type\":\"scattercarpet\"}],\"scattergeo\":[{\"marker\":{\"colorbar\":{\"outlinewidth\":0,\"ticks\":\"\"}},\"type\":\"scattergeo\"}],\"scattergl\":[{\"marker\":{\"colorbar\":{\"outlinewidth\":0,\"ticks\":\"\"}},\"type\":\"scattergl\"}],\"scattermapbox\":[{\"marker\":{\"colorbar\":{\"outlinewidth\":0,\"ticks\":\"\"}},\"type\":\"scattermapbox\"}],\"scatterpolar\":[{\"marker\":{\"colorbar\":{\"outlinewidth\":0,\"ticks\":\"\"}},\"type\":\"scatterpolar\"}],\"scatterpolargl\":[{\"marker\":{\"colorbar\":{\"outlinewidth\":0,\"ticks\":\"\"}},\"type\":\"scatterpolargl\"}],\"scatterternary\":[{\"marker\":{\"colorbar\":{\"outlinewidth\":0,\"ticks\":\"\"}},\"type\":\"scatterternary\"}],\"surface\":[{\"colorbar\":{\"outlinewidth\":0,\"ticks\":\"\"},\"colorscale\":[[0.0,\"#0d0887\"],[0.1111111111111111,\"#46039f\"],[0.2222222222222222,\"#7201a8\"],[0.3333333333333333,\"#9c179e\"],[0.4444444444444444,\"#bd3786\"],[0.5555555555555556,\"#d8576b\"],[0.6666666666666666,\"#ed7953\"],[0.7777777777777778,\"#fb9f3a\"],[0.8888888888888888,\"#fdca26\"],[1.0,\"#f0f921\"]],\"type\":\"surface\"}],\"table\":[{\"cells\":{\"fill\":{\"color\":\"#EBF0F8\"},\"line\":{\"color\":\"white\"}},\"header\":{\"fill\":{\"color\":\"#C8D4E3\"},\"line\":{\"color\":\"white\"}},\"type\":\"table\"}]},\"layout\":{\"annotationdefaults\":{\"arrowcolor\":\"#2a3f5f\",\"arrowhead\":0,\"arrowwidth\":1},\"autotypenumbers\":\"strict\",\"coloraxis\":{\"colorbar\":{\"outlinewidth\":0,\"ticks\":\"\"}},\"colorscale\":{\"diverging\":[[0,\"#8e0152\"],[0.1,\"#c51b7d\"],[0.2,\"#de77ae\"],[0.3,\"#f1b6da\"],[0.4,\"#fde0ef\"],[0.5,\"#f7f7f7\"],[0.6,\"#e6f5d0\"],[0.7,\"#b8e186\"],[0.8,\"#7fbc41\"],[0.9,\"#4d9221\"],[1,\"#276419\"]],\"sequential\":[[0.0,\"#0d0887\"],[0.1111111111111111,\"#46039f\"],[0.2222222222222222,\"#7201a8\"],[0.3333333333333333,\"#9c179e\"],[0.4444444444444444,\"#bd3786\"],[0.5555555555555556,\"#d8576b\"],[0.6666666666666666,\"#ed7953\"],[0.7777777777777778,\"#fb9f3a\"],[0.8888888888888888,\"#fdca26\"],[1.0,\"#f0f921\"]],\"sequentialminus\":[[0.0,\"#0d0887\"],[0.1111111111111111,\"#46039f\"],[0.2222222222222222,\"#7201a8\"],[0.3333333333333333,\"#9c179e\"],[0.4444444444444444,\"#bd3786\"],[0.5555555555555556,\"#d8576b\"],[0.6666666666666666,\"#ed7953\"],[0.7777777777777778,\"#fb9f3a\"],[0.8888888888888888,\"#fdca26\"],[1.0,\"#f0f921\"]]},\"colorway\":[\"#636efa\",\"#EF553B\",\"#00cc96\",\"#ab63fa\",\"#FFA15A\",\"#19d3f3\",\"#FF6692\",\"#B6E880\",\"#FF97FF\",\"#FECB52\"],\"font\":{\"color\":\"#2a3f5f\"},\"geo\":{\"bgcolor\":\"white\",\"lakecolor\":\"white\",\"landcolor\":\"#E5ECF6\",\"showlakes\":true,\"showland\":true,\"subunitcolor\":\"white\"},\"hoverlabel\":{\"align\":\"left\"},\"hovermode\":\"closest\",\"mapbox\":{\"style\":\"light\"},\"paper_bgcolor\":\"white\",\"plot_bgcolor\":\"#E5ECF6\",\"polar\":{\"angularaxis\":{\"gridcolor\":\"white\",\"linecolor\":\"white\",\"ticks\":\"\"},\"bgcolor\":\"#E5ECF6\",\"radialaxis\":{\"gridcolor\":\"white\",\"linecolor\":\"white\",\"ticks\":\"\"}},\"scene\":{\"xaxis\":{\"backgroundcolor\":\"#E5ECF6\",\"gridcolor\":\"white\",\"gridwidth\":2,\"linecolor\":\"white\",\"showbackground\":true,\"ticks\":\"\",\"zerolinecolor\":\"white\"},\"yaxis\":{\"backgroundcolor\":\"#E5ECF6\",\"gridcolor\":\"white\",\"gridwidth\":2,\"linecolor\":\"white\",\"showbackground\":true,\"ticks\":\"\",\"zerolinecolor\":\"white\"},\"zaxis\":{\"backgroundcolor\":\"#E5ECF6\",\"gridcolor\":\"white\",\"gridwidth\":2,\"linecolor\":\"white\",\"showbackground\":true,\"ticks\":\"\",\"zerolinecolor\":\"white\"}},\"shapedefaults\":{\"line\":{\"color\":\"#2a3f5f\"}},\"ternary\":{\"aaxis\":{\"gridcolor\":\"white\",\"linecolor\":\"white\",\"ticks\":\"\"},\"baxis\":{\"gridcolor\":\"white\",\"linecolor\":\"white\",\"ticks\":\"\"},\"bgcolor\":\"#E5ECF6\",\"caxis\":{\"gridcolor\":\"white\",\"linecolor\":\"white\",\"ticks\":\"\"}},\"title\":{\"x\":0.05},\"xaxis\":{\"automargin\":true,\"gridcolor\":\"white\",\"linecolor\":\"white\",\"ticks\":\"\",\"title\":{\"standoff\":15},\"zerolinecolor\":\"white\",\"zerolinewidth\":2},\"yaxis\":{\"automargin\":true,\"gridcolor\":\"white\",\"linecolor\":\"white\",\"ticks\":\"\",\"title\":{\"standoff\":15},\"zerolinecolor\":\"white\",\"zerolinewidth\":2}}},\"xaxis\":{\"anchor\":\"y\",\"domain\":[0.0,1.0],\"title\":{\"text\":\"PC\"}},\"yaxis\":{\"anchor\":\"x\",\"domain\":[0.0,1.0],\"title\":{\"text\":\"explained_variance\"}},\"legend\":{\"tracegroupgap\":0},\"margin\":{\"t\":60},\"barmode\":\"relative\",\"height\":400,\"width\":800},                        {\"responsive\": true}                    ).then(function(){\n",
              "                            \n",
              "var gd = document.getElementById('f0e6e9f5-28f7-41a3-a8f2-f4da3e44fb32');\n",
              "var x = new MutationObserver(function (mutations, observer) {{\n",
              "        var display = window.getComputedStyle(gd).display;\n",
              "        if (!display || display === 'none') {{\n",
              "            console.log([gd, 'removed!']);\n",
              "            Plotly.purge(gd);\n",
              "            observer.disconnect();\n",
              "        }}\n",
              "}});\n",
              "\n",
              "// Listen for the removal of the full notebook cells\n",
              "var notebookContainer = gd.closest('#notebook-container');\n",
              "if (notebookContainer) {{\n",
              "    x.observe(notebookContainer, {childList: true});\n",
              "}}\n",
              "\n",
              "// Listen for the clearing of the current output cell\n",
              "var outputEl = gd.closest('.output');\n",
              "if (outputEl) {{\n",
              "    x.observe(outputEl, {childList: true});\n",
              "}}\n",
              "\n",
              "                        })                };                            </script>        </div>\n",
              "</body>\n",
              "</html>"
            ]
          },
          "metadata": {}
        },
        {
          "output_type": "display_data",
          "data": {
            "text/html": [
              "<html>\n",
              "<head><meta charset=\"utf-8\" /></head>\n",
              "<body>\n",
              "    <div>            <script src=\"https://cdnjs.cloudflare.com/ajax/libs/mathjax/2.7.5/MathJax.js?config=TeX-AMS-MML_SVG\"></script><script type=\"text/javascript\">if (window.MathJax) {MathJax.Hub.Config({SVG: {font: \"STIX-Web\"}});}</script>                <script type=\"text/javascript\">window.PlotlyConfig = {MathJaxConfig: 'local'};</script>\n",
              "        <script src=\"https://cdn.plot.ly/plotly-2.8.3.min.js\"></script>                <div id=\"5a646e40-0d43-4374-b3e8-4ad9eff4a5db\" class=\"plotly-graph-div\" style=\"height:600px; width:800px;\"></div>            <script type=\"text/javascript\">                                    window.PLOTLYENV=window.PLOTLYENV || {};                                    if (document.getElementById(\"5a646e40-0d43-4374-b3e8-4ad9eff4a5db\")) {                    Plotly.newPlot(                        \"5a646e40-0d43-4374-b3e8-4ad9eff4a5db\",                        [{\"customdata\":[[\"Tiefora\",\"resistant\"],[\"Tiefora\",\"resistant\"],[\"Tiefora\",\"resistant\"],[\"Ban\",\"resistant\"],[\"Ban\",\"resistant\"],[\"Ban\",\"resistant\"],[\"Ban\",\"resistant\"],[\"VK7\",\"resistant\"],[\"VK7\",\"resistant\"],[\"VK7\",\"resistant\"],[\"VK7\",\"resistant\"],[\"BanRe\",\"resistant\"],[\"BanRe\",\"resistant\"],[\"BanRe\",\"resistant\"],[\"BanRe\",\"resistant\"],[\"Chad\",\"resistant\"],[\"Chad\",\"resistant\"],[\"Chad\",\"resistant\"],[\"Chad\",\"resistant\"],[\"Chad\",\"resistant\"],[\"Chad\",\"resistant\"],[\"Nigeria\",\"resistant\"],[\"Nigeria\",\"resistant\"],[\"Nigeria\",\"resistant\"],[\"Nigeria\",\"resistant\"],[\"Nigeria\",\"resistant\"],[\"Nigeria\",\"resistant\"],[\"Cameroon\",\"resistant\"],[\"Cameroon\",\"resistant\"],[\"Cameroon\",\"resistant\"],[\"Cameroon\",\"resistant\"],[\"Cameroon\",\"resistant\"],[\"Niger\",\"resistant\"],[\"Niger\",\"resistant\"],[\"Niger\",\"resistant\"],[\"Niger\",\"resistant\"],[\"Niger\",\"resistant\"],[\"Niger\",\"resistant\"],[\"Ngousso\",\"susceptible\"],[\"Ngousso\",\"susceptible\"],[\"Ngousso\",\"susceptible\"],[\"BanS\",\"susceptible\"],[\"BanS\",\"susceptible\"],[\"BanS\",\"susceptible\"],[\"BanS\",\"susceptible\"],[\"Ngousso\",\"susceptible\"],[\"Ngousso\",\"susceptible\"],[\"Ngousso\",\"susceptible\"],[\"Ngousso\",\"susceptible\"],[\"Ngousso\",\"susceptible\"],[\"Ngousso\",\"susceptible\"],[\"Agboville\",\"resistant\"],[\"Agboville\",\"resistant\"],[\"Agboville\",\"resistant\"],[\"Agboville\",\"resistant\"],[\"Agboville\",\"resistant\"],[\"Agboville\",\"resistant\"],[\"Agboville\",\"resistant\"],[\"Agboville\",\"resistant\"],[\"Agboville\",\"resistant\"],[\"Dabou\",\"resistant\"],[\"Dabou\",\"resistant\"],[\"Dabou\",\"resistant\"],[\"Dabou\",\"resistant\"],[\"Dabou\",\"resistant\"],[\"Dabou\",\"resistant\"],[\"Dabou\",\"resistant\"],[\"Dabou\",\"resistant\"],[\"Dabou\",\"resistant\"],[\"Dabou\",\"resistant\"],[\"Tiassale\",\"resistant\"],[\"Tiassale\",\"resistant\"],[\"Tiassale\",\"resistant\"],[\"Tiassale\",\"resistant\"],[\"Tiassale\",\"resistant\"],[\"Tiassale\",\"resistant\"],[\"Tiassale\",\"resistant\"],[\"Tiassale\",\"resistant\"],[\"Tiassale\",\"resistant\"],[\"Tiassale\",\"resistant\"],[\"Ngousso\",\"susceptible\"],[\"Ngousso\",\"susceptible\"],[\"Ngousso\",\"susceptible\"],[\"Ngousso\",\"susceptible\"],[\"Ngousso\",\"susceptible\"],[\"Mali\",\"susceptible\"],[\"Mali\",\"susceptible\"],[\"Mali\",\"susceptible\"],[\"Mali\",\"susceptible\"],[\"Mali\",\"susceptible\"],[\"Bouake_colu_unexp\",\"resistant\"],[\"Bouake_colu_unexp\",\"resistant\"],[\"Bouake_colu_unexp\",\"resistant\"],[\"Bouake_colu_unexp\",\"resistant\"],[\"Ngousso\",\"susceptible\"],[\"Ngousso\",\"susceptible\"],[\"Ngousso\",\"susceptible\"],[\"Ngousso\",\"susceptible\"]],\"hovertemplate\":\"species=coluzzii<br>PC3=%{x}<br>PC4=%{y}<br>condition=%{customdata[0]}<br>resistance=%{customdata[1]}<extra></extra>\",\"legendgroup\":\"coluzzii\",\"marker\":{\"color\":\"#F8766D\",\"symbol\":\"circle\"},\"mode\":\"markers\",\"name\":\"coluzzii\",\"orientation\":\"v\",\"showlegend\":true,\"x\":[-4.466644916852448,-3.2006975148916594,-6.57634407489343,0.35789627271307867,-8.891760482510712,-9.839380464373885,-8.129920821770549,-9.62103632037081,-9.977633778761742,-13.226919195346415,-10.17365705121347,8.342686554028823,5.517919231155195,8.227906821672516,7.39463402169683,3.4813914504256274,0.4736532489496954,1.9167016801274808,7.239860056456601,1.3407396862657552,6.130673334408777,9.439605629481727,8.255153517259652,4.38719171697786,6.53974403596306,8.289530687690895,6.345685381724646,-4.944674571795092,-5.565176900894958,-10.03427027730491,-9.100430977106287,-11.443579120169957,10.902937182601914,9.261903992036965,10.043887798953994,-2.2382487940036357,3.5571398816821063,6.383031181752142,2.0421314795038943,2.9408922580399013,1.0019729222319007,-7.406425089366877,-6.302993417337877,-5.935849784191337,-2.2404362360578753,8.88019871648003,9.737443925126556,7.7068265505437274,-9.682062653529371,-6.6422037051536975,-8.70990995523941,-23.062807497509407,-35.95604487881127,-39.58903941651074,-25.730667004893085,-30.897661497628143,-23.919097269005384,-32.494116858613104,-34.21813501613433,-32.14289171969399,-33.3616508333931,-38.78248922717712,-38.41386182225254,-24.166498204912443,-25.89460889894151,-39.353034280841975,-35.38576040705841,-34.524342935072546,-39.5104696361131,-31.491169751310117,-26.854945889728388,-34.31733463423738,-47.02420829502161,-41.12505624403803,-31.31485015433677,-53.20535761405983,-32.56459893239286,-33.5205849563858,-34.889931722080384,-32.21924264801992,-20.293837787101694,-21.391460053628375,-23.40287338785174,-13.302338561057041,-11.851005821447153,-22.471341429522774,-24.522787396765867,-28.495458897519327,-27.604732391649158,-23.54204639827287,-2.759713223082902,0.202049514316981,-2.388530866875065,-4.980300803605142,4.3766497199684835,-0.12449728344453359,1.4862719254483183,1.1986550402302232],\"xaxis\":\"x\",\"y\":[6.574080721708732,11.272814653224655,8.045551236816726,-14.11136740429975,-16.21465462901332,-13.194260407294536,-13.323441513800452,2.0012878162941705,0.3809303308797874,-8.465633313441867,4.163342858613262,4.2001656768161855,1.1556135950413158,6.6834466000290735,4.17819477422955,-39.4024084336335,-49.882260931366964,-39.35748270549968,-22.101358846502155,-18.244937882093367,-14.71826775231028,-50.11643350574272,-39.16439311570367,-35.53737466587682,-38.65602033854286,-45.751004945141425,-44.086928519641184,-24.738856983094344,-35.81830712267393,-17.635379966876496,-20.86002464128619,-29.298949541108183,-38.163835846486265,-45.82720150432962,-49.32687756997518,-50.69323309877576,-42.68437104830953,-41.47985415223752,17.441832094609055,19.04700932078928,21.296488051494617,-8.063879790900721,-2.8272266156872186,1.547557306762451,-8.160313902423194,20.3923984597574,22.760232725492408,24.516542282811574,-36.80378857222047,-27.220170712523302,-27.355246127735967,14.915059437206034,1.5537578216551984,6.217955101434736,29.340127111518882,22.038266162827334,16.521057459487157,16.399217412642443,19.556019614512913,28.746893303565578,16.231515266463678,3.6335064207532213,7.464272810386116,8.498450517877835,-0.8220710059522122,16.287612663282758,8.430515770701177,12.62218476222443,-7.148187896255866,5.11162679470904,9.175080292410415,5.218600521809813,12.969395630961921,10.665618032048833,16.99476104879527,-10.870451295511845,8.20997444001184,12.64458231487833,17.05050140753675,20.142965759412597,45.190244052154846,46.35503950233101,34.782244950512286,47.19507068331182,46.952163830702965,21.18248614025053,14.104986710061459,19.17939841471854,19.424963105263522,14.358226143268714,2.3137477633216452,2.2569297004212667,0.027623623597994418,-6.8826649794009125,12.542620124749387,9.680269147469776,5.930049703647198,12.360456712241625],\"yaxis\":\"y\",\"type\":\"scatter\"},{\"customdata\":[[\"Bak\",\"resistant\"],[\"Bak\",\"resistant\"],[\"Bak\",\"resistant\"],[\"Bak\",\"resistant\"],[\"Kisumu\",\"susceptible\"],[\"Kisumu\",\"susceptible\"],[\"Kisumu\",\"susceptible\"],[\"Kisumu\",\"susceptible\"],[\"Kisumu\",\"susceptible\"],[\"Kisumu\",\"susceptible\"],[\"Kisumu\",\"susceptible\"],[\"Kisumu\",\"susceptible\"],[\"Bouake_gamb_unexp\",\"resistant\"],[\"Bouake_gamb_unexp\",\"resistant\"],[\"Bouake_gamb_unexp\",\"resistant\"],[\"Bouake_gamb_unexp\",\"resistant\"],[\"BusiaSurvivors\",\"resistant\"],[\"BusiaSurvivors\",\"resistant\"],[\"BusiaSurvivors\",\"resistant\"],[\"BusiaSurvivors\",\"resistant\"],[\"BusiaSurvivors\",\"resistant\"],[\"BusiaSurvivors\",\"resistant\"],[\"Kisumu\",\"susceptible\"],[\"Kisumu\",\"susceptible\"],[\"Kisumu\",\"susceptible\"],[\"Kisumu\",\"susceptible\"]],\"hovertemplate\":\"species=gambiae<br>PC3=%{x}<br>PC4=%{y}<br>condition=%{customdata[0]}<br>resistance=%{customdata[1]}<extra></extra>\",\"legendgroup\":\"gambiae\",\"marker\":{\"color\":\"#A3A500\",\"symbol\":\"circle\"},\"mode\":\"markers\",\"name\":\"gambiae\",\"orientation\":\"v\",\"showlegend\":true,\"x\":[-10.346962748148853,-10.680435910099515,-12.616590222093507,-12.864550492814676,-5.239848570430691,-7.3253620956377405,-7.326718502729956,-7.152857629310902,5.00770150506762,5.774744405432227,4.978270906707495,7.146959851919543,-4.875005349296647,-1.647853248909865,3.214405427407145,-1.8618895531091075,4.962273518476296,4.482059047970478,9.083863823869045,7.841695481857905,5.977545742933101,4.126677573678357,-4.902209496017118,-6.103600414582834,-5.869547575110135,-6.24552936534582],\"xaxis\":\"x\",\"y\":[-7.66880074811319,-3.249625593127636,-3.8383866125438173,-1.6351693427905003,-0.3817988593509985,0.4221898596429802,-0.48992712828810125,1.5401612396094633,4.142468915013748,5.432695414703165,5.773882237961797,1.5403307173005083,-1.358320457772243,3.0465487744224364,-0.5259607298302716,-5.0676013352506,3.0664322174224368,8.217019761788356,5.81046179307621,6.1488443273873115,14.820307251969242,10.289634132050924,-21.60274826077263,-24.4118748773513,-22.73913947508777,-21.354624617461386],\"yaxis\":\"y\",\"type\":\"scatter\"},{\"customdata\":[[\"Asendabo\",\"resistant\"],[\"Asendabo\",\"resistant\"],[\"Asendabo\",\"resistant\"],[\"Asendabo\",\"resistant\"],[\"Chewaka\",\"resistant\"],[\"Chewaka\",\"resistant\"],[\"Chewaka\",\"resistant\"],[\"Chewaka\",\"resistant\"],[\"Moz\",\"susceptible\"],[\"Moz\",\"susceptible\"],[\"Moz\",\"susceptible\"],[\"Moz\",\"susceptible\"],[\"Tolay\",\"resistant\"],[\"Tolay\",\"resistant\"],[\"Tolay\",\"resistant\"],[\"Tolay\",\"resistant\"],[\"Dongola\",\"susceptible\"],[\"Dongola\",\"susceptible\"],[\"Dongola\",\"susceptible\"],[\"Ethiopia\",\"resistant\"],[\"Ethiopia\",\"resistant\"],[\"Ethiopia\",\"resistant\"],[\"Gou\",\"resistant\"],[\"Gou\",\"resistant\"],[\"Gou\",\"resistant\"],[\"Moz\",\"susceptible\"],[\"Moz\",\"susceptible\"],[\"Moz\",\"susceptible\"]],\"hovertemplate\":\"species=arabiensis<br>PC3=%{x}<br>PC4=%{y}<br>condition=%{customdata[0]}<br>resistance=%{customdata[1]}<extra></extra>\",\"legendgroup\":\"arabiensis\",\"marker\":{\"color\":\"#00BF7D\",\"symbol\":\"circle\"},\"mode\":\"markers\",\"name\":\"arabiensis\",\"orientation\":\"v\",\"showlegend\":true,\"x\":[87.21213473565551,89.02690021115401,90.08367145353266,87.85993697759966,82.27948753970786,82.1743879744272,79.37507676488114,79.82065987391574,75.12388797824734,74.82951359422138,74.6663636631567,73.85918316919609,84.20536886815394,88.03580875366099,87.712028771148,84.94399302802464,71.50939357256277,66.01913804984292,70.00651948967125,75.99333549057636,73.715689009861,80.18004455400035,3.1141963284828877,3.752067026118129,-0.050113478616597054,0.8806384418365208,2.699734281465963,5.422053615930739],\"xaxis\":\"x\",\"y\":[-4.479935256748644,-11.489771336516705,-7.743891006617764,-4.998502659997779,2.7780174042324246,3.6230032718093206,-9.306411537377205,8.952868871867741,5.39717918252937,11.691930346092944,-1.4409924132145087,6.876159813610059,-32.20223916053388,-14.707687671538743,-9.46059031056021,-7.098793908405711,48.0903819084257,49.22530773956117,58.57518675282065,39.86894912350178,44.87594790787172,38.819194030173676,1.950675892036955,3.2667661565372272,-2.9037769403458755,13.803766052949694,22.683644458421192,15.749250112372954],\"yaxis\":\"y\",\"type\":\"scatter\"},{\"customdata\":[[\"Cam_fun\",\"resistant\"],[\"Cam_fun\",\"resistant\"],[\"Cam_fun\",\"resistant\"],[\"Cam_fun\",\"resistant\"],[\"Cam_fun\",\"resistant\"],[\"Cam_fun\",\"resistant\"],[\"Cam_fun\",\"resistant\"],[\"Cam_fun\",\"resistant\"],[\"Cam_fun\",\"resistant\"],[\"Fang\",\"susceptible\"],[\"Fang\",\"susceptible\"],[\"Fang\",\"susceptible\"],[\"Fumoz\",\"resistant\"],[\"Fumoz\",\"resistant\"],[\"Fumoz\",\"resistant\"],[\"Fumoz\",\"resistant\"],[\"Fumoz\",\"resistant\"],[\"Ghana_fun\",\"resistant\"],[\"Ghana_fun\",\"resistant\"],[\"Ghana_fun\",\"resistant\"],[\"Ghana_fun\",\"resistant\"],[\"Ghana_fun\",\"resistant\"],[\"Ghana_fun\",\"resistant\"],[\"Ghana_fun\",\"resistant\"],[\"Ghana_fun\",\"resistant\"],[\"Ghana_fun\",\"resistant\"],[\"Ghana_fun\",\"resistant\"],[\"Malawi_fun\",\"resistant\"],[\"Malawi_fun\",\"resistant\"],[\"Malawi_fun\",\"resistant\"],[\"Malawi_fun\",\"resistant\"],[\"Malawi_fun\",\"resistant\"],[\"Malawi_fun\",\"resistant\"],[\"Malawi_fun\",\"resistant\"],[\"Malawi_fun\",\"resistant\"],[\"Malawi_fun\",\"resistant\"],[\"Malawi_fun\",\"resistant\"],[\"Uganda_fun\",\"resistant\"],[\"Uganda_fun\",\"resistant\"],[\"Uganda_fun\",\"resistant\"],[\"Uganda_fun\",\"resistant\"],[\"Uganda_fun\",\"resistant\"],[\"Uganda_fun\",\"resistant\"],[\"Uganda_fun\",\"resistant\"],[\"Uganda_fun\",\"resistant\"],[\"Uganda_fun\",\"resistant\"]],\"hovertemplate\":\"species=funestus<br>PC3=%{x}<br>PC4=%{y}<br>condition=%{customdata[0]}<br>resistance=%{customdata[1]}<extra></extra>\",\"legendgroup\":\"funestus\",\"marker\":{\"color\":\"#00B0F6\",\"symbol\":\"circle\"},\"mode\":\"markers\",\"name\":\"funestus\",\"orientation\":\"v\",\"showlegend\":true,\"x\":[-6.212329512464482,-10.746973005247812,-8.842655407631922,-11.587695111138672,-7.651737687726683,-7.420648279469984,-8.373505754986583,-12.66426271766997,-10.917700979822795,-9.271997710140875,-4.848556791431738,-12.12075846581142,-4.294935229676689,-11.633838291343512,-11.039272671665767,-9.17254238016903,-13.269272152685513,-9.487648726361844,-20.532478121867975,-14.24120512712976,-12.149505442245644,-7.9947256682829435,-9.986622338084288,-9.001254999419368,-9.749300510534566,-6.720272489678209,-12.116687668677935,-11.930176307623336,-6.224796060064301,-8.432584719371523,-21.871872779185757,-20.463782721499122,-6.836522093623865,-8.737043808564888,-13.587779470238875,-16.523569358086572,-11.969305590386615,-16.654194166338407,-14.117859077785967,-16.23989186776503,-14.98511048380052,-5.786403259423915,-15.585811756313145,-12.152981897631529,-10.286601527782471,-13.544992428026982],\"xaxis\":\"x\",\"y\":[11.585459339026166,-0.09353156944066018,-1.8228251486114773,5.444196908206394,7.636010664625296,4.413151931185808,0.6559017202545095,3.416197758714008,2.6510106792361587,-16.533945650006437,2.5338237761665026,-8.413327976453935,-12.882282361682767,1.6791028150721399,6.600180720463663,9.658663618826347,-4.246087231006656,0.1436505168453004,-36.45182902688158,-9.991673020383805,-1.6735392137594745,1.8310544124370582,5.392616815120498,11.075923883311331,-3.560637896342477,-9.006543363471248,-7.517482238079375,4.365280118582771,10.907783147611573,-0.09610002513410976,-36.22433481742308,-38.121487249166485,4.9977561547159315,1.3882929534205943,8.522927196559221,-4.642685755063716,6.303288481218118,10.468677112666594,10.696715490864442,0.2919179545505223,12.951771030796474,-13.597243916732884,14.368618744968318,-10.628599671054143,-3.933279175606365,-7.989579475550944],\"yaxis\":\"y\",\"type\":\"scatter\"}],                        {\"template\":{\"data\":{\"barpolar\":[{\"marker\":{\"line\":{\"color\":\"rgb(237,237,237)\",\"width\":0.5},\"pattern\":{\"fillmode\":\"overlay\",\"size\":10,\"solidity\":0.2}},\"type\":\"barpolar\"}],\"bar\":[{\"error_x\":{\"color\":\"rgb(51,51,51)\"},\"error_y\":{\"color\":\"rgb(51,51,51)\"},\"marker\":{\"line\":{\"color\":\"rgb(237,237,237)\",\"width\":0.5},\"pattern\":{\"fillmode\":\"overlay\",\"size\":10,\"solidity\":0.2}},\"type\":\"bar\"}],\"carpet\":[{\"aaxis\":{\"endlinecolor\":\"rgb(51,51,51)\",\"gridcolor\":\"white\",\"linecolor\":\"white\",\"minorgridcolor\":\"white\",\"startlinecolor\":\"rgb(51,51,51)\"},\"baxis\":{\"endlinecolor\":\"rgb(51,51,51)\",\"gridcolor\":\"white\",\"linecolor\":\"white\",\"minorgridcolor\":\"white\",\"startlinecolor\":\"rgb(51,51,51)\"},\"type\":\"carpet\"}],\"choropleth\":[{\"colorbar\":{\"outlinewidth\":0,\"tickcolor\":\"rgb(237,237,237)\",\"ticklen\":6,\"ticks\":\"inside\"},\"type\":\"choropleth\"}],\"contourcarpet\":[{\"colorbar\":{\"outlinewidth\":0,\"tickcolor\":\"rgb(237,237,237)\",\"ticklen\":6,\"ticks\":\"inside\"},\"type\":\"contourcarpet\"}],\"contour\":[{\"colorbar\":{\"outlinewidth\":0,\"tickcolor\":\"rgb(237,237,237)\",\"ticklen\":6,\"ticks\":\"inside\"},\"colorscale\":[[0,\"rgb(20,44,66)\"],[1,\"rgb(90,179,244)\"]],\"type\":\"contour\"}],\"heatmapgl\":[{\"colorbar\":{\"outlinewidth\":0,\"tickcolor\":\"rgb(237,237,237)\",\"ticklen\":6,\"ticks\":\"inside\"},\"colorscale\":[[0,\"rgb(20,44,66)\"],[1,\"rgb(90,179,244)\"]],\"type\":\"heatmapgl\"}],\"heatmap\":[{\"colorbar\":{\"outlinewidth\":0,\"tickcolor\":\"rgb(237,237,237)\",\"ticklen\":6,\"ticks\":\"inside\"},\"colorscale\":[[0,\"rgb(20,44,66)\"],[1,\"rgb(90,179,244)\"]],\"type\":\"heatmap\"}],\"histogram2dcontour\":[{\"colorbar\":{\"outlinewidth\":0,\"tickcolor\":\"rgb(237,237,237)\",\"ticklen\":6,\"ticks\":\"inside\"},\"colorscale\":[[0,\"rgb(20,44,66)\"],[1,\"rgb(90,179,244)\"]],\"type\":\"histogram2dcontour\"}],\"histogram2d\":[{\"colorbar\":{\"outlinewidth\":0,\"tickcolor\":\"rgb(237,237,237)\",\"ticklen\":6,\"ticks\":\"inside\"},\"colorscale\":[[0,\"rgb(20,44,66)\"],[1,\"rgb(90,179,244)\"]],\"type\":\"histogram2d\"}],\"histogram\":[{\"marker\":{\"pattern\":{\"fillmode\":\"overlay\",\"size\":10,\"solidity\":0.2}},\"type\":\"histogram\"}],\"mesh3d\":[{\"colorbar\":{\"outlinewidth\":0,\"tickcolor\":\"rgb(237,237,237)\",\"ticklen\":6,\"ticks\":\"inside\"},\"type\":\"mesh3d\"}],\"parcoords\":[{\"line\":{\"colorbar\":{\"outlinewidth\":0,\"tickcolor\":\"rgb(237,237,237)\",\"ticklen\":6,\"ticks\":\"inside\"}},\"type\":\"parcoords\"}],\"pie\":[{\"automargin\":true,\"type\":\"pie\"}],\"scatter3d\":[{\"line\":{\"colorbar\":{\"outlinewidth\":0,\"tickcolor\":\"rgb(237,237,237)\",\"ticklen\":6,\"ticks\":\"inside\"}},\"marker\":{\"colorbar\":{\"outlinewidth\":0,\"tickcolor\":\"rgb(237,237,237)\",\"ticklen\":6,\"ticks\":\"inside\"}},\"type\":\"scatter3d\"}],\"scattercarpet\":[{\"marker\":{\"colorbar\":{\"outlinewidth\":0,\"tickcolor\":\"rgb(237,237,237)\",\"ticklen\":6,\"ticks\":\"inside\"}},\"type\":\"scattercarpet\"}],\"scattergeo\":[{\"marker\":{\"colorbar\":{\"outlinewidth\":0,\"tickcolor\":\"rgb(237,237,237)\",\"ticklen\":6,\"ticks\":\"inside\"}},\"type\":\"scattergeo\"}],\"scattergl\":[{\"marker\":{\"colorbar\":{\"outlinewidth\":0,\"tickcolor\":\"rgb(237,237,237)\",\"ticklen\":6,\"ticks\":\"inside\"}},\"type\":\"scattergl\"}],\"scattermapbox\":[{\"marker\":{\"colorbar\":{\"outlinewidth\":0,\"tickcolor\":\"rgb(237,237,237)\",\"ticklen\":6,\"ticks\":\"inside\"}},\"type\":\"scattermapbox\"}],\"scatterpolargl\":[{\"marker\":{\"colorbar\":{\"outlinewidth\":0,\"tickcolor\":\"rgb(237,237,237)\",\"ticklen\":6,\"ticks\":\"inside\"}},\"type\":\"scatterpolargl\"}],\"scatterpolar\":[{\"marker\":{\"colorbar\":{\"outlinewidth\":0,\"tickcolor\":\"rgb(237,237,237)\",\"ticklen\":6,\"ticks\":\"inside\"}},\"type\":\"scatterpolar\"}],\"scatter\":[{\"marker\":{\"colorbar\":{\"outlinewidth\":0,\"tickcolor\":\"rgb(237,237,237)\",\"ticklen\":6,\"ticks\":\"inside\"}},\"type\":\"scatter\"}],\"scatterternary\":[{\"marker\":{\"colorbar\":{\"outlinewidth\":0,\"tickcolor\":\"rgb(237,237,237)\",\"ticklen\":6,\"ticks\":\"inside\"}},\"type\":\"scatterternary\"}],\"surface\":[{\"colorbar\":{\"outlinewidth\":0,\"tickcolor\":\"rgb(237,237,237)\",\"ticklen\":6,\"ticks\":\"inside\"},\"colorscale\":[[0,\"rgb(20,44,66)\"],[1,\"rgb(90,179,244)\"]],\"type\":\"surface\"}],\"table\":[{\"cells\":{\"fill\":{\"color\":\"rgb(237,237,237)\"},\"line\":{\"color\":\"white\"}},\"header\":{\"fill\":{\"color\":\"rgb(217,217,217)\"},\"line\":{\"color\":\"white\"}},\"type\":\"table\"}]},\"layout\":{\"annotationdefaults\":{\"arrowhead\":0,\"arrowwidth\":1},\"autotypenumbers\":\"strict\",\"coloraxis\":{\"colorbar\":{\"outlinewidth\":0,\"tickcolor\":\"rgb(237,237,237)\",\"ticklen\":6,\"ticks\":\"inside\"}},\"colorscale\":{\"sequential\":[[0,\"rgb(20,44,66)\"],[1,\"rgb(90,179,244)\"]],\"sequentialminus\":[[0,\"rgb(20,44,66)\"],[1,\"rgb(90,179,244)\"]]},\"colorway\":[\"#F8766D\",\"#A3A500\",\"#00BF7D\",\"#00B0F6\",\"#E76BF3\"],\"font\":{\"color\":\"rgb(51,51,51)\"},\"geo\":{\"bgcolor\":\"white\",\"lakecolor\":\"white\",\"landcolor\":\"rgb(237,237,237)\",\"showlakes\":true,\"showland\":true,\"subunitcolor\":\"white\"},\"hoverlabel\":{\"align\":\"left\"},\"hovermode\":\"closest\",\"paper_bgcolor\":\"white\",\"plot_bgcolor\":\"rgb(237,237,237)\",\"polar\":{\"angularaxis\":{\"gridcolor\":\"white\",\"linecolor\":\"white\",\"showgrid\":true,\"tickcolor\":\"rgb(51,51,51)\",\"ticks\":\"outside\"},\"bgcolor\":\"rgb(237,237,237)\",\"radialaxis\":{\"gridcolor\":\"white\",\"linecolor\":\"white\",\"showgrid\":true,\"tickcolor\":\"rgb(51,51,51)\",\"ticks\":\"outside\"}},\"scene\":{\"xaxis\":{\"backgroundcolor\":\"rgb(237,237,237)\",\"gridcolor\":\"white\",\"gridwidth\":2,\"linecolor\":\"white\",\"showbackground\":true,\"showgrid\":true,\"tickcolor\":\"rgb(51,51,51)\",\"ticks\":\"outside\",\"zerolinecolor\":\"white\"},\"yaxis\":{\"backgroundcolor\":\"rgb(237,237,237)\",\"gridcolor\":\"white\",\"gridwidth\":2,\"linecolor\":\"white\",\"showbackground\":true,\"showgrid\":true,\"tickcolor\":\"rgb(51,51,51)\",\"ticks\":\"outside\",\"zerolinecolor\":\"white\"},\"zaxis\":{\"backgroundcolor\":\"rgb(237,237,237)\",\"gridcolor\":\"white\",\"gridwidth\":2,\"linecolor\":\"white\",\"showbackground\":true,\"showgrid\":true,\"tickcolor\":\"rgb(51,51,51)\",\"ticks\":\"outside\",\"zerolinecolor\":\"white\"}},\"shapedefaults\":{\"fillcolor\":\"black\",\"line\":{\"width\":0},\"opacity\":0.3},\"ternary\":{\"aaxis\":{\"gridcolor\":\"white\",\"linecolor\":\"white\",\"showgrid\":true,\"tickcolor\":\"rgb(51,51,51)\",\"ticks\":\"outside\"},\"baxis\":{\"gridcolor\":\"white\",\"linecolor\":\"white\",\"showgrid\":true,\"tickcolor\":\"rgb(51,51,51)\",\"ticks\":\"outside\"},\"bgcolor\":\"rgb(237,237,237)\",\"caxis\":{\"gridcolor\":\"white\",\"linecolor\":\"white\",\"showgrid\":true,\"tickcolor\":\"rgb(51,51,51)\",\"ticks\":\"outside\"}},\"xaxis\":{\"automargin\":true,\"gridcolor\":\"white\",\"linecolor\":\"white\",\"showgrid\":true,\"tickcolor\":\"rgb(51,51,51)\",\"ticks\":\"outside\",\"title\":{\"standoff\":15},\"zerolinecolor\":\"white\"},\"yaxis\":{\"automargin\":true,\"gridcolor\":\"white\",\"linecolor\":\"white\",\"showgrid\":true,\"tickcolor\":\"rgb(51,51,51)\",\"ticks\":\"outside\",\"title\":{\"standoff\":15},\"zerolinecolor\":\"white\"}}},\"xaxis\":{\"anchor\":\"y\",\"domain\":[0.0,1.0],\"title\":{\"text\":\"PC3\"}},\"yaxis\":{\"anchor\":\"x\",\"domain\":[0.0,1.0],\"title\":{\"text\":\"PC4\"}},\"legend\":{\"title\":{\"text\":\"species\"},\"tracegroupgap\":0},\"margin\":{\"t\":60},\"height\":600,\"width\":800},                        {\"responsive\": true}                    ).then(function(){\n",
              "                            \n",
              "var gd = document.getElementById('5a646e40-0d43-4374-b3e8-4ad9eff4a5db');\n",
              "var x = new MutationObserver(function (mutations, observer) {{\n",
              "        var display = window.getComputedStyle(gd).display;\n",
              "        if (!display || display === 'none') {{\n",
              "            console.log([gd, 'removed!']);\n",
              "            Plotly.purge(gd);\n",
              "            observer.disconnect();\n",
              "        }}\n",
              "}});\n",
              "\n",
              "// Listen for the removal of the full notebook cells\n",
              "var notebookContainer = gd.closest('#notebook-container');\n",
              "if (notebookContainer) {{\n",
              "    x.observe(notebookContainer, {childList: true});\n",
              "}}\n",
              "\n",
              "// Listen for the clearing of the current output cell\n",
              "var outputEl = gd.closest('.output');\n",
              "if (outputEl) {{\n",
              "    x.observe(outputEl, {childList: true});\n",
              "}}\n",
              "\n",
              "                        })                };                            </script>        </div>\n",
              "</body>\n",
              "</html>"
            ]
          },
          "metadata": {}
        }
      ]
    },
    {
      "cell_type": "code",
      "source": [],
      "metadata": {
        "id": "Zqzae4nY4Llo"
      },
      "execution_count": null,
      "outputs": []
    }
  ]
}