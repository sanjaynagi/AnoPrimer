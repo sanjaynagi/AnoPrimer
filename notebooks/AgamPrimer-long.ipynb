{
 "cells": [
  {
   "cell_type": "markdown",
   "id": "f39435c9",
   "metadata": {
    "colab_type": "text",
    "id": "view-in-github"
   },
   "source": [
    "<a href=\"https://colab.research.google.com/github/sanjaynagi/AgamPrimer/blob/main/notebooks/AgamPrimer-long.ipynb\" target=\"_parent\"><img src=\"https://colab.research.google.com/assets/colab-badge.svg\" alt=\"Open In Colab\"/></a>"
   ]
  },
  {
   "cell_type": "code",
   "execution_count": null,
   "id": "AM9EeHef6tAD",
   "metadata": {
    "id": "AM9EeHef6tAD"
   },
   "outputs": [],
   "source": [
    "# First, install some packages we require\n",
    "! pip install AgamPrimer -q "
   ]
  },
  {
   "cell_type": "code",
   "execution_count": 5,
   "id": "528ae85d",
   "metadata": {
    "id": "528ae85d"
   },
   "outputs": [
    {
     "data": {
      "application/javascript": "(function(root) {\n  function now() {\n    return new Date();\n  }\n\n  const force = true;\n\n  if (typeof root._bokeh_onload_callbacks === \"undefined\" || force === true) {\n    root._bokeh_onload_callbacks = [];\n    root._bokeh_is_loading = undefined;\n  }\n\nconst JS_MIME_TYPE = 'application/javascript';\n  const HTML_MIME_TYPE = 'text/html';\n  const EXEC_MIME_TYPE = 'application/vnd.bokehjs_exec.v0+json';\n  const CLASS_NAME = 'output_bokeh rendered_html';\n\n  /**\n   * Render data to the DOM node\n   */\n  function render(props, node) {\n    const script = document.createElement(\"script\");\n    node.appendChild(script);\n  }\n\n  /**\n   * Handle when an output is cleared or removed\n   */\n  function handleClearOutput(event, handle) {\n    const cell = handle.cell;\n\n    const id = cell.output_area._bokeh_element_id;\n    const server_id = cell.output_area._bokeh_server_id;\n    // Clean up Bokeh references\n    if (id != null && id in Bokeh.index) {\n      Bokeh.index[id].model.document.clear();\n      delete Bokeh.index[id];\n    }\n\n    if (server_id !== undefined) {\n      // Clean up Bokeh references\n      const cmd_clean = \"from bokeh.io.state import curstate; print(curstate().uuid_to_server['\" + server_id + \"'].get_sessions()[0].document.roots[0]._id)\";\n      cell.notebook.kernel.execute(cmd_clean, {\n        iopub: {\n          output: function(msg) {\n            const id = msg.content.text.trim();\n            if (id in Bokeh.index) {\n              Bokeh.index[id].model.document.clear();\n              delete Bokeh.index[id];\n            }\n          }\n        }\n      });\n      // Destroy server and session\n      const cmd_destroy = \"import bokeh.io.notebook as ion; ion.destroy_server('\" + server_id + \"')\";\n      cell.notebook.kernel.execute(cmd_destroy);\n    }\n  }\n\n  /**\n   * Handle when a new output is added\n   */\n  function handleAddOutput(event, handle) {\n    const output_area = handle.output_area;\n    const output = handle.output;\n\n    // limit handleAddOutput to display_data with EXEC_MIME_TYPE content only\n    if ((output.output_type != \"display_data\") || (!Object.prototype.hasOwnProperty.call(output.data, EXEC_MIME_TYPE))) {\n      return\n    }\n\n    const toinsert = output_area.element.find(\".\" + CLASS_NAME.split(' ')[0]);\n\n    if (output.metadata[EXEC_MIME_TYPE][\"id\"] !== undefined) {\n      toinsert[toinsert.length - 1].firstChild.textContent = output.data[JS_MIME_TYPE];\n      // store reference to embed id on output_area\n      output_area._bokeh_element_id = output.metadata[EXEC_MIME_TYPE][\"id\"];\n    }\n    if (output.metadata[EXEC_MIME_TYPE][\"server_id\"] !== undefined) {\n      const bk_div = document.createElement(\"div\");\n      bk_div.innerHTML = output.data[HTML_MIME_TYPE];\n      const script_attrs = bk_div.children[0].attributes;\n      for (let i = 0; i < script_attrs.length; i++) {\n        toinsert[toinsert.length - 1].firstChild.setAttribute(script_attrs[i].name, script_attrs[i].value);\n        toinsert[toinsert.length - 1].firstChild.textContent = bk_div.children[0].textContent\n      }\n      // store reference to server id on output_area\n      output_area._bokeh_server_id = output.metadata[EXEC_MIME_TYPE][\"server_id\"];\n    }\n  }\n\n  function register_renderer(events, OutputArea) {\n\n    function append_mime(data, metadata, element) {\n      // create a DOM node to render to\n      const toinsert = this.create_output_subarea(\n        metadata,\n        CLASS_NAME,\n        EXEC_MIME_TYPE\n      );\n      this.keyboard_manager.register_events(toinsert);\n      // Render to node\n      const props = {data: data, metadata: metadata[EXEC_MIME_TYPE]};\n      render(props, toinsert[toinsert.length - 1]);\n      element.append(toinsert);\n      return toinsert\n    }\n\n    /* Handle when an output is cleared or removed */\n    events.on('clear_output.CodeCell', handleClearOutput);\n    events.on('delete.Cell', handleClearOutput);\n\n    /* Handle when a new output is added */\n    events.on('output_added.OutputArea', handleAddOutput);\n\n    /**\n     * Register the mime type and append_mime function with output_area\n     */\n    OutputArea.prototype.register_mime_type(EXEC_MIME_TYPE, append_mime, {\n      /* Is output safe? */\n      safe: true,\n      /* Index of renderer in `output_area.display_order` */\n      index: 0\n    });\n  }\n\n  // register the mime type if in Jupyter Notebook environment and previously unregistered\n  if (root.Jupyter !== undefined) {\n    const events = require('base/js/events');\n    const OutputArea = require('notebook/js/outputarea').OutputArea;\n\n    if (OutputArea.prototype.mime_types().indexOf(EXEC_MIME_TYPE) == -1) {\n      register_renderer(events, OutputArea);\n    }\n  }\n  if (typeof (root._bokeh_timeout) === \"undefined\" || force === true) {\n    root._bokeh_timeout = Date.now() + 5000;\n    root._bokeh_failed_load = false;\n  }\n\n  const NB_LOAD_WARNING = {'data': {'text/html':\n     \"<div style='background-color: #fdd'>\\n\"+\n     \"<p>\\n\"+\n     \"BokehJS does not appear to have successfully loaded. If loading BokehJS from CDN, this \\n\"+\n     \"may be due to a slow or bad network connection. Possible fixes:\\n\"+\n     \"</p>\\n\"+\n     \"<ul>\\n\"+\n     \"<li>re-rerun `output_notebook()` to attempt to load from CDN again, or</li>\\n\"+\n     \"<li>use INLINE resources instead, as so:</li>\\n\"+\n     \"</ul>\\n\"+\n     \"<code>\\n\"+\n     \"from bokeh.resources import INLINE\\n\"+\n     \"output_notebook(resources=INLINE)\\n\"+\n     \"</code>\\n\"+\n     \"</div>\"}};\n\n  function display_loaded() {\n    const el = document.getElementById(null);\n    if (el != null) {\n      el.textContent = \"BokehJS is loading...\";\n    }\n    if (root.Bokeh !== undefined) {\n      if (el != null) {\n        el.textContent = \"BokehJS \" + root.Bokeh.version + \" successfully loaded.\";\n      }\n    } else if (Date.now() < root._bokeh_timeout) {\n      setTimeout(display_loaded, 100)\n    }\n  }\n\n  function run_callbacks() {\n    try {\n      root._bokeh_onload_callbacks.forEach(function(callback) {\n        if (callback != null)\n          callback();\n      });\n    } finally {\n      delete root._bokeh_onload_callbacks\n    }\n    console.debug(\"Bokeh: all callbacks have finished\");\n  }\n\n  function load_libs(css_urls, js_urls, callback) {\n    if (css_urls == null) css_urls = [];\n    if (js_urls == null) js_urls = [];\n\n    root._bokeh_onload_callbacks.push(callback);\n    if (root._bokeh_is_loading > 0) {\n      console.debug(\"Bokeh: BokehJS is being loaded, scheduling callback at\", now());\n      return null;\n    }\n    if (js_urls == null || js_urls.length === 0) {\n      run_callbacks();\n      return null;\n    }\n    console.debug(\"Bokeh: BokehJS not loaded, scheduling load and callback at\", now());\n    root._bokeh_is_loading = css_urls.length + js_urls.length;\n\n    function on_load() {\n      root._bokeh_is_loading--;\n      if (root._bokeh_is_loading === 0) {\n        console.debug(\"Bokeh: all BokehJS libraries/stylesheets loaded\");\n        run_callbacks()\n      }\n    }\n\n    function on_error(url) {\n      console.error(\"failed to load \" + url);\n    }\n\n    for (let i = 0; i < css_urls.length; i++) {\n      const url = css_urls[i];\n      const element = document.createElement(\"link\");\n      element.onload = on_load;\n      element.onerror = on_error.bind(null, url);\n      element.rel = \"stylesheet\";\n      element.type = \"text/css\";\n      element.href = url;\n      console.debug(\"Bokeh: injecting link tag for BokehJS stylesheet: \", url);\n      document.body.appendChild(element);\n    }\n\n    for (let i = 0; i < js_urls.length; i++) {\n      const url = js_urls[i];\n      const element = document.createElement('script');\n      element.onload = on_load;\n      element.onerror = on_error.bind(null, url);\n      element.async = false;\n      element.src = url;\n      console.debug(\"Bokeh: injecting script tag for BokehJS library: \", url);\n      document.head.appendChild(element);\n    }\n  };\n\n  function inject_raw_css(css) {\n    const element = document.createElement(\"style\");\n    element.appendChild(document.createTextNode(css));\n    document.body.appendChild(element);\n  }\n\n  const js_urls = [\"https://cdn.bokeh.org/bokeh/release/bokeh-2.4.3.min.js\", \"https://cdn.bokeh.org/bokeh/release/bokeh-gl-2.4.3.min.js\", \"https://cdn.bokeh.org/bokeh/release/bokeh-widgets-2.4.3.min.js\", \"https://cdn.bokeh.org/bokeh/release/bokeh-tables-2.4.3.min.js\", \"https://cdn.bokeh.org/bokeh/release/bokeh-mathjax-2.4.3.min.js\"];\n  const css_urls = [];\n\n  const inline_js = [    function(Bokeh) {\n      Bokeh.set_log_level(\"info\");\n    },\nfunction(Bokeh) {\n    }\n  ];\n\n  function run_inline_js() {\n    if (root.Bokeh !== undefined || force === true) {\n          for (let i = 0; i < inline_js.length; i++) {\n      inline_js[i].call(root, root.Bokeh);\n    }\n} else if (Date.now() < root._bokeh_timeout) {\n      setTimeout(run_inline_js, 100);\n    } else if (!root._bokeh_failed_load) {\n      console.log(\"Bokeh: BokehJS failed to load within specified timeout.\");\n      root._bokeh_failed_load = true;\n    } else if (force !== true) {\n      const cell = $(document.getElementById(null)).parents('.cell').data().cell;\n      cell.output_area.append_execute_result(NB_LOAD_WARNING)\n    }\n  }\n\n  if (root._bokeh_is_loading === 0) {\n    console.debug(\"Bokeh: BokehJS loaded, going straight to plotting\");\n    run_inline_js();\n  } else {\n    load_libs(css_urls, js_urls, function() {\n      console.debug(\"Bokeh: BokehJS plotting callback run at\", now());\n      run_inline_js();\n    });\n  }\n}(window));",
      "application/vnd.bokehjs_load.v0+json": ""
     },
     "metadata": {},
     "output_type": "display_data"
    }
   ],
   "source": [
    "# Import libraries \n",
    "import AgamPrimer\n",
    "import malariagen_data\n",
    "import primer3\n",
    "import pandas as pd\n",
    "import numpy as np"
   ]
  },
  {
   "cell_type": "markdown",
   "id": "47bde61a",
   "metadata": {
    "id": "47bde61a"
   },
   "source": [
    "##**[AgamPrimer](https://github.com/sanjaynagi/AgamPrimer): Primer design considering genetic variation in *Anopheles gambiae***\n",
    "**Author**: [Sanjay Curtis Nagi](https://sanjaynagi.github.io/)    \n",
    "**Email**: sanjay.nagi@lstmed.ac.uk  \n",
    "\n",
    "Welcome to the AgamPrimer notebook. This is the long version of the notebook which designs primers in steps. Alternatively, there is a all-in-one function in a [short version of the notebook](https://colab.research.google.com/github/sanjaynagi/AgamPrimer/blob/main/notebooks/AgamPrimer-short.ipynb).\n",
    "\n",
    "We would like to design primers for PCR applications, such as genotyping or gene expression (qPCR). However, single nucleotide polymorphisms (SNPs) in primer binding sites can result in differences or failures in PCR amplification, referred to as null alleles. \n",
    "\n",
    "In general, mismatches caused by SNPs are more of a problem as you move towards the 3' end. I recommend reading a really good article on this topic on the IDT website - [Consider SNPs when designing PCR and qPCR assays](https://eu.idtdna.com/pages/education/decoded/article/considering-snps-when-designing-pcr-and-qpcr-assays). In *An. gambiae s.l*, there is a [huge amount of genetic variation](https://genome.cshlp.org/content/30/10/1533.full); a SNP found approximately every 1.9 bases (!), which makes considering SNPs even more important when designing molecular assays. Thanks to primer3-py and the fantastic malariagen_data package, we can do all of this in the cloud, hosted by google!\n",
    "\n",
    "\\\n",
    "\n",
    "####**Google Colab**\n",
    "\n",
    "If you are unfamiliar with iPython notebooks and google colab, I encourage you to read the [FAQ](https://research.google.com/colaboratory/faq.html) and watch the following [introduction](https://www.youtube.com/watch?v=inN8seMm7UI). In general, the cells contain python code, and can be run by pressing the play button next to each cell, and should be run in order.\n",
    "\n",
    "You may want to save a copy of the notebook into your google drive (`file -> save a copy in Drive`)."
   ]
  },
  {
   "cell_type": "code",
   "execution_count": 2,
   "id": "SV03ewwc9de8",
   "metadata": {
    "cellView": "form",
    "id": "SV03ewwc9de8",
    "tags": [
     "parameters"
    ]
   },
   "outputs": [
    {
     "name": "stdout",
     "output_type": "stream",
     "text": [
      "2L 28545767\n"
     ]
    }
   ],
   "source": [
    "#@title **Selecting Primer Parameters** { run: \"auto\" }\n",
    "#@markdown In the below cells, replace the values with those desired for your primers.\n",
    "\n",
    "assay_type = 'gDNA primers'           #@param [\"gDNA primers\", \"gDNA primers + probe\", \"probe\", \"cDNA primers\"]\n",
    "assay_name = 'coeae1f-e477v'        #@param {type:\"string\"}\n",
    "min_amplicon_size = 60        #@param {type:\"integer\"}\n",
    "max_amplicon_size = 120      #@param {type:\"integer\"}\n",
    "amplicon_size_range = [[min_amplicon_size, max_amplicon_size]]\n",
    "n_primer_pairs = 6            #@param {type:\"slider\", min:1, max:20, step:1}\n",
    "cDNA_exon_junction=True #ignore\n",
    "\n",
    "#@markdown    \n",
    "#@markdown target should be a region string ('2L:28545767') for gDNA primers and probes, and an AGAP transcript identifier for cDNA primers.\n",
    "\n",
    "target = '2L:28545767'      #@param {type:\"string\"} "
   ]
  },
  {
   "cell_type": "markdown",
   "id": "aa733775",
   "metadata": {
    "id": "aa733775"
   },
   "source": [
    "Load sequence data for chromosomal arm of choice, using the [malariagen_data API](https://malariagen.github.io/vector-data/ag3/api.html):"
   ]
  },
  {
   "cell_type": "code",
   "execution_count": 9,
   "id": "5fa0be8d",
   "metadata": {
    "id": "5fa0be8d"
   },
   "outputs": [
    {
     "data": {
      "application/javascript": "(function(root) {\n  function now() {\n    return new Date();\n  }\n\n  const force = true;\n\n  if (typeof root._bokeh_onload_callbacks === \"undefined\" || force === true) {\n    root._bokeh_onload_callbacks = [];\n    root._bokeh_is_loading = undefined;\n  }\n\nconst JS_MIME_TYPE = 'application/javascript';\n  const HTML_MIME_TYPE = 'text/html';\n  const EXEC_MIME_TYPE = 'application/vnd.bokehjs_exec.v0+json';\n  const CLASS_NAME = 'output_bokeh rendered_html';\n\n  /**\n   * Render data to the DOM node\n   */\n  function render(props, node) {\n    const script = document.createElement(\"script\");\n    node.appendChild(script);\n  }\n\n  /**\n   * Handle when an output is cleared or removed\n   */\n  function handleClearOutput(event, handle) {\n    const cell = handle.cell;\n\n    const id = cell.output_area._bokeh_element_id;\n    const server_id = cell.output_area._bokeh_server_id;\n    // Clean up Bokeh references\n    if (id != null && id in Bokeh.index) {\n      Bokeh.index[id].model.document.clear();\n      delete Bokeh.index[id];\n    }\n\n    if (server_id !== undefined) {\n      // Clean up Bokeh references\n      const cmd_clean = \"from bokeh.io.state import curstate; print(curstate().uuid_to_server['\" + server_id + \"'].get_sessions()[0].document.roots[0]._id)\";\n      cell.notebook.kernel.execute(cmd_clean, {\n        iopub: {\n          output: function(msg) {\n            const id = msg.content.text.trim();\n            if (id in Bokeh.index) {\n              Bokeh.index[id].model.document.clear();\n              delete Bokeh.index[id];\n            }\n          }\n        }\n      });\n      // Destroy server and session\n      const cmd_destroy = \"import bokeh.io.notebook as ion; ion.destroy_server('\" + server_id + \"')\";\n      cell.notebook.kernel.execute(cmd_destroy);\n    }\n  }\n\n  /**\n   * Handle when a new output is added\n   */\n  function handleAddOutput(event, handle) {\n    const output_area = handle.output_area;\n    const output = handle.output;\n\n    // limit handleAddOutput to display_data with EXEC_MIME_TYPE content only\n    if ((output.output_type != \"display_data\") || (!Object.prototype.hasOwnProperty.call(output.data, EXEC_MIME_TYPE))) {\n      return\n    }\n\n    const toinsert = output_area.element.find(\".\" + CLASS_NAME.split(' ')[0]);\n\n    if (output.metadata[EXEC_MIME_TYPE][\"id\"] !== undefined) {\n      toinsert[toinsert.length - 1].firstChild.textContent = output.data[JS_MIME_TYPE];\n      // store reference to embed id on output_area\n      output_area._bokeh_element_id = output.metadata[EXEC_MIME_TYPE][\"id\"];\n    }\n    if (output.metadata[EXEC_MIME_TYPE][\"server_id\"] !== undefined) {\n      const bk_div = document.createElement(\"div\");\n      bk_div.innerHTML = output.data[HTML_MIME_TYPE];\n      const script_attrs = bk_div.children[0].attributes;\n      for (let i = 0; i < script_attrs.length; i++) {\n        toinsert[toinsert.length - 1].firstChild.setAttribute(script_attrs[i].name, script_attrs[i].value);\n        toinsert[toinsert.length - 1].firstChild.textContent = bk_div.children[0].textContent\n      }\n      // store reference to server id on output_area\n      output_area._bokeh_server_id = output.metadata[EXEC_MIME_TYPE][\"server_id\"];\n    }\n  }\n\n  function register_renderer(events, OutputArea) {\n\n    function append_mime(data, metadata, element) {\n      // create a DOM node to render to\n      const toinsert = this.create_output_subarea(\n        metadata,\n        CLASS_NAME,\n        EXEC_MIME_TYPE\n      );\n      this.keyboard_manager.register_events(toinsert);\n      // Render to node\n      const props = {data: data, metadata: metadata[EXEC_MIME_TYPE]};\n      render(props, toinsert[toinsert.length - 1]);\n      element.append(toinsert);\n      return toinsert\n    }\n\n    /* Handle when an output is cleared or removed */\n    events.on('clear_output.CodeCell', handleClearOutput);\n    events.on('delete.Cell', handleClearOutput);\n\n    /* Handle when a new output is added */\n    events.on('output_added.OutputArea', handleAddOutput);\n\n    /**\n     * Register the mime type and append_mime function with output_area\n     */\n    OutputArea.prototype.register_mime_type(EXEC_MIME_TYPE, append_mime, {\n      /* Is output safe? */\n      safe: true,\n      /* Index of renderer in `output_area.display_order` */\n      index: 0\n    });\n  }\n\n  // register the mime type if in Jupyter Notebook environment and previously unregistered\n  if (root.Jupyter !== undefined) {\n    const events = require('base/js/events');\n    const OutputArea = require('notebook/js/outputarea').OutputArea;\n\n    if (OutputArea.prototype.mime_types().indexOf(EXEC_MIME_TYPE) == -1) {\n      register_renderer(events, OutputArea);\n    }\n  }\n  if (typeof (root._bokeh_timeout) === \"undefined\" || force === true) {\n    root._bokeh_timeout = Date.now() + 5000;\n    root._bokeh_failed_load = false;\n  }\n\n  const NB_LOAD_WARNING = {'data': {'text/html':\n     \"<div style='background-color: #fdd'>\\n\"+\n     \"<p>\\n\"+\n     \"BokehJS does not appear to have successfully loaded. If loading BokehJS from CDN, this \\n\"+\n     \"may be due to a slow or bad network connection. Possible fixes:\\n\"+\n     \"</p>\\n\"+\n     \"<ul>\\n\"+\n     \"<li>re-rerun `output_notebook()` to attempt to load from CDN again, or</li>\\n\"+\n     \"<li>use INLINE resources instead, as so:</li>\\n\"+\n     \"</ul>\\n\"+\n     \"<code>\\n\"+\n     \"from bokeh.resources import INLINE\\n\"+\n     \"output_notebook(resources=INLINE)\\n\"+\n     \"</code>\\n\"+\n     \"</div>\"}};\n\n  function display_loaded() {\n    const el = document.getElementById(null);\n    if (el != null) {\n      el.textContent = \"BokehJS is loading...\";\n    }\n    if (root.Bokeh !== undefined) {\n      if (el != null) {\n        el.textContent = \"BokehJS \" + root.Bokeh.version + \" successfully loaded.\";\n      }\n    } else if (Date.now() < root._bokeh_timeout) {\n      setTimeout(display_loaded, 100)\n    }\n  }\n\n  function run_callbacks() {\n    try {\n      root._bokeh_onload_callbacks.forEach(function(callback) {\n        if (callback != null)\n          callback();\n      });\n    } finally {\n      delete root._bokeh_onload_callbacks\n    }\n    console.debug(\"Bokeh: all callbacks have finished\");\n  }\n\n  function load_libs(css_urls, js_urls, callback) {\n    if (css_urls == null) css_urls = [];\n    if (js_urls == null) js_urls = [];\n\n    root._bokeh_onload_callbacks.push(callback);\n    if (root._bokeh_is_loading > 0) {\n      console.debug(\"Bokeh: BokehJS is being loaded, scheduling callback at\", now());\n      return null;\n    }\n    if (js_urls == null || js_urls.length === 0) {\n      run_callbacks();\n      return null;\n    }\n    console.debug(\"Bokeh: BokehJS not loaded, scheduling load and callback at\", now());\n    root._bokeh_is_loading = css_urls.length + js_urls.length;\n\n    function on_load() {\n      root._bokeh_is_loading--;\n      if (root._bokeh_is_loading === 0) {\n        console.debug(\"Bokeh: all BokehJS libraries/stylesheets loaded\");\n        run_callbacks()\n      }\n    }\n\n    function on_error(url) {\n      console.error(\"failed to load \" + url);\n    }\n\n    for (let i = 0; i < css_urls.length; i++) {\n      const url = css_urls[i];\n      const element = document.createElement(\"link\");\n      element.onload = on_load;\n      element.onerror = on_error.bind(null, url);\n      element.rel = \"stylesheet\";\n      element.type = \"text/css\";\n      element.href = url;\n      console.debug(\"Bokeh: injecting link tag for BokehJS stylesheet: \", url);\n      document.body.appendChild(element);\n    }\n\n    for (let i = 0; i < js_urls.length; i++) {\n      const url = js_urls[i];\n      const element = document.createElement('script');\n      element.onload = on_load;\n      element.onerror = on_error.bind(null, url);\n      element.async = false;\n      element.src = url;\n      console.debug(\"Bokeh: injecting script tag for BokehJS library: \", url);\n      document.head.appendChild(element);\n    }\n  };\n\n  function inject_raw_css(css) {\n    const element = document.createElement(\"style\");\n    element.appendChild(document.createTextNode(css));\n    document.body.appendChild(element);\n  }\n\n  const js_urls = [\"https://cdn.bokeh.org/bokeh/release/bokeh-2.4.3.min.js\", \"https://cdn.bokeh.org/bokeh/release/bokeh-gl-2.4.3.min.js\", \"https://cdn.bokeh.org/bokeh/release/bokeh-widgets-2.4.3.min.js\", \"https://cdn.bokeh.org/bokeh/release/bokeh-tables-2.4.3.min.js\", \"https://cdn.bokeh.org/bokeh/release/bokeh-mathjax-2.4.3.min.js\"];\n  const css_urls = [];\n\n  const inline_js = [    function(Bokeh) {\n      Bokeh.set_log_level(\"info\");\n    },\nfunction(Bokeh) {\n    }\n  ];\n\n  function run_inline_js() {\n    if (root.Bokeh !== undefined || force === true) {\n          for (let i = 0; i < inline_js.length; i++) {\n      inline_js[i].call(root, root.Bokeh);\n    }\n} else if (Date.now() < root._bokeh_timeout) {\n      setTimeout(run_inline_js, 100);\n    } else if (!root._bokeh_failed_load) {\n      console.log(\"Bokeh: BokehJS failed to load within specified timeout.\");\n      root._bokeh_failed_load = true;\n    } else if (force !== true) {\n      const cell = $(document.getElementById(null)).parents('.cell').data().cell;\n      cell.output_area.append_execute_result(NB_LOAD_WARNING)\n    }\n  }\n\n  if (root._bokeh_is_loading === 0) {\n    console.debug(\"Bokeh: BokehJS loaded, going straight to plotting\");\n    run_inline_js();\n  } else {\n    load_libs(css_urls, js_urls, function() {\n      console.debug(\"Bokeh: BokehJS plotting callback run at\", now());\n      run_inline_js();\n    });\n  }\n}(window));",
      "application/vnd.bokehjs_load.v0+json": ""
     },
     "metadata": {},
     "output_type": "display_data"
    },
    {
     "name": "stdout",
     "output_type": "stream",
     "text": [
      "Our genome sequence for 2L is 49364325 bp long\n"
     ]
    }
   ],
   "source": [
    "# Connect to the malariagen_data ag3 API\n",
    "ag3 = malariagen_data.Ag3(url='gs://vo_agam_release/')\n",
    "contig, target = AgamPrimer.check_and_split_target(target=target, assay_type=assay_type)\n",
    "genome_seq = ag3.genome_sequence(region=contig)\n",
    "print(f\"Our genome sequence for {contig} is {genome_seq.shape[0]} bp long\")"
   ]
  },
  {
   "cell_type": "markdown",
   "id": "144a37ce",
   "metadata": {
    "id": "144a37ce"
   },
   "source": [
    "Now we need to extract the bit of sequence we need. We will use functions in the [AgamPrimer](https://pypi.org/project/AgamPrimer/) package."
   ]
  },
  {
   "cell_type": "code",
   "execution_count": 10,
   "id": "R0CkEd38VXGY",
   "metadata": {
    "id": "R0CkEd38VXGY"
   },
   "outputs": [
    {
     "name": "stdout",
     "output_type": "stream",
     "text": [
      "The target sequence is 239 bases long\n",
      "the target snp is 119 bp into our target sequence\n"
     ]
    }
   ],
   "source": [
    "target_sequence, gdna_pos, seq_parameters = AgamPrimer.prepare_sequence(\n",
    "                                                                target=target,\n",
    "                                                                assay_type=assay_type,\n",
    "                                                                assay_name=assay_name,\n",
    "                                                                genome_seq=genome_seq,\n",
    "                                                                amplicon_size_range=amplicon_size_range,\n",
    "                                                                cDNA_exon_junction=cDNA_exon_junction,\n",
    "                                                                )"
   ]
  },
  {
   "cell_type": "markdown",
   "id": "_aaCJGAXUCSx",
   "metadata": {
    "id": "_aaCJGAXUCSx"
   },
   "source": [
    "Now we have our target sequence. Lets take a look..."
   ]
  },
  {
   "cell_type": "code",
   "execution_count": null,
   "id": "nDaWXq7f9hyA",
   "metadata": {
    "id": "nDaWXq7f9hyA"
   },
   "outputs": [],
   "source": [
    "target_sequence"
   ]
  },
  {
   "cell_type": "markdown",
   "id": "38fe2530",
   "metadata": {
    "id": "38fe2530"
   },
   "source": [
    "We need to set up some python dictionaries containing our sequence and primer parameters, this will be our input to primer3. In the below cell, you can modify or add primer3 parameters, such as optimal TM, GC content etc etc. A full list of possible parameters and their functions can be found in the [primer3 manual](https://primer3.org/manual.html)."
   ]
  },
  {
   "cell_type": "code",
   "execution_count": null,
   "id": "622ac6d9",
   "metadata": {
    "id": "622ac6d9"
   },
   "outputs": [],
   "source": [
    "primer_parameters  =  {\n",
    "        'PRIMER_OPT_SIZE': 20,\n",
    "        'PRIMER_TASK':'generic',\n",
    "        'PRIMER_MIN_SIZE': 17,\n",
    "        'PRIMER_MAX_SIZE': 24,\n",
    "        'PRIMER_OPT_TM': 60.0,\n",
    "        'PRIMER_MIN_TM': 57.0,\n",
    "        'PRIMER_MAX_TM': 63.0,\n",
    "        'PRIMER_MIN_GC': 35.0,\n",
    "        'PRIMER_MAX_GC': 75.0,\n",
    "        'PRIMER_MIN_THREE_PRIME_DISTANCE':3,          # this parameter is the minimum distance between successive pairs. If 1, it means successive primer pairs could be identical bar one base shift\n",
    "        'PRIMER_INTERNAL_OPT_SIZE': 16,               # Probe size preferences if selected, otherwise ignored\n",
    "        'PRIMER_INTERNAL_MIN_SIZE': 10,\n",
    "        'PRIMER_INTERNAL_MAX_SIZE': 22,\n",
    "        'PRIMER_INTERNAL_MIN_TM': 45,\n",
    "        'PRIMER_INTERNAL_MAX_TM': 65,                # Probe considerations are quite relaxed, assumed that LNAs will be used later to affect TM\n",
    "        # Extra primer3 parameters can go here\n",
    "        # In the same format as above                       \n",
    "    }\n",
    "\n",
    "primer_parameters = AgamPrimer.primer_params(primer_parameters=primer_parameters, assay_type=assay_type, n_primer_pairs=n_primer_pairs, amplicon_size_range=amplicon_size_range) ## adds some parameters depending on assay type"
   ]
  },
  {
   "cell_type": "markdown",
   "id": "0819ba76",
   "metadata": {
    "id": "0819ba76"
   },
   "source": [
    "#### **Run the primer3 algorithm!**"
   ]
  },
  {
   "cell_type": "code",
   "execution_count": null,
   "id": "ae6e7525",
   "metadata": {
    "id": "ae6e7525",
    "scrolled": false
   },
   "outputs": [],
   "source": [
    "primer_dict = primer3.designPrimers(seq_args=seq_parameters, global_args=primer_parameters)"
   ]
  },
  {
   "cell_type": "markdown",
   "id": "56945ca6",
   "metadata": {
    "id": "56945ca6"
   },
   "source": [
    "It should be *fast*. The output, which we call 'primer_dict', is a python dictionary containing the full results from primer3. We will turn this into a pandas dataframe (i.e a useful, pretty table), containing just the necessary bits of information. First, we'll print some information from the primer3 run."
   ]
  },
  {
   "cell_type": "code",
   "execution_count": null,
   "id": "1bb40846",
   "metadata": {
    "id": "1bb40846"
   },
   "outputs": [],
   "source": [
    "AgamPrimer.primer3_run_statistics(primer_dict, assay_type)"
   ]
  },
  {
   "cell_type": "markdown",
   "id": "CbVMwOdCrNMf",
   "metadata": {
    "id": "CbVMwOdCrNMf"
   },
   "source": [
    "Now lets wrangle this into an easy to look at table."
   ]
  },
  {
   "cell_type": "code",
   "execution_count": null,
   "id": "bf8c5970",
   "metadata": {
    "id": "bf8c5970"
   },
   "outputs": [],
   "source": [
    "primer_df = AgamPrimer.primer3_to_pandas(primer_dict=primer_dict, assay_type=assay_type)\n",
    "primer_df"
   ]
  },
  {
   "cell_type": "markdown",
   "id": "Lf0CeEVrtaxP",
   "metadata": {
    "id": "Lf0CeEVrtaxP"
   },
   "source": [
    "\n",
    "We can write this to .tsv and excel files, which can be explored in other editors. To download a file from colab to your local computer, click the folder panel on the left-hand sidebar, the three dots next your primers.tsv/.xlsx file, and download."
   ]
  },
  {
   "cell_type": "code",
   "execution_count": null,
   "id": "09eQYSeT7lHG",
   "metadata": {
    "id": "09eQYSeT7lHG"
   },
   "outputs": [],
   "source": [
    "primer_df.to_csv(f\"{assay_name}.{assay_type}.tsv\", sep=\"\\t\")\n",
    "primer_df.to_excel(f\"{assay_name}.{assay_type}.xlsx\")"
   ]
  },
  {
   "cell_type": "markdown",
   "id": "b4a9776c",
   "metadata": {
    "id": "b4a9776c"
   },
   "source": [
    "##**Looking for variation using the ag1000g resource and malariagen API**\n",
    "\n",
    "In Ag3, samples are organised into sample sets. We can load any sample set from the Ag3 resource, but there are quite a few! Lets look at what each sample set contains, breaking it down by species, year and country. "
   ]
  },
  {
   "cell_type": "code",
   "execution_count": null,
   "id": "61286685",
   "metadata": {
    "id": "61286685"
   },
   "outputs": [],
   "source": [
    "metadata = ag3.sample_metadata()"
   ]
  },
  {
   "cell_type": "code",
   "execution_count": null,
   "id": "iSTRbVpxD3oy",
   "metadata": {
    "id": "iSTRbVpxD3oy"
   },
   "outputs": [],
   "source": [
    "pivot_country_year_taxon = (\n",
    "    metadata\n",
    "    .pivot_table(\n",
    "        index=[\"sample_set\", \"year\", \"country\"], \n",
    "        columns=[\"taxon\"], \n",
    "        values=\"sample_id\",\n",
    "        aggfunc=\"count\",\n",
    "        fill_value=0\n",
    "    )\n",
    ")\n",
    "\n",
    "pivot_country_year_taxon"
   ]
  },
  {
   "cell_type": "markdown",
   "id": "BLwvXBT28NYE",
   "metadata": {
    "id": "BLwvXBT28NYE"
   },
   "source": [
    "Here, we can see the breakdown by sample set for country, species and year. For the purposes of this notebook, let's use the Ghana sample set. If we wanted to use all sample sets, we could supply '3.0' instead of a sample set, which will load all samples from the ag3.0 release."
   ]
  },
  {
   "cell_type": "code",
   "execution_count": null,
   "id": "49ca7f2b",
   "metadata": {
    "id": "49ca7f2b"
   },
   "outputs": [],
   "source": [
    "sample_sets = 'AG1000G-GH'          # sample_set = '3.0' .you can also supply lists with multiple sample sets e.g ['AG1000G-GH', 'AG1000G-CI', 'AG1000G-BF-A']\n",
    "sample_query = \"taxon == 'coluzzii'\"                # here we can subset to specific values in the metadata e.g :     \"taxon == 'gambiae'\" , or \"taxon == 'arabiensis'\"          "
   ]
  },
  {
   "cell_type": "markdown",
   "id": "67coxQKoo82x",
   "metadata": {
    "id": "67coxQKoo82x"
   },
   "source": [
    "### **Plot allele frequencies in primers locations**\n",
    "\n",
    "Now we can plot the primers pairs, and the frequency of any alternate alleles in the Ag1000g sample set of choice. When calculating allele frequencies, we will take the sum of all alternate alleles, as we are interested here in any mutations which are different from the reference genome. We can see the frequencies of specific alleles by hovering over the points of the plot - in some cases it may be preferable to design degenerate primers rather than avoid a primer pair completely.\n",
    "\n",
    "We will also plot the primer Tm, GC and genomic spans of each primer binding site. We can use this plot to identify primers pairs and probes which may be suitable, particularly trying to avoid SNPs in the 3' end. "
   ]
  },
  {
   "cell_type": "code",
   "execution_count": null,
   "id": "shXKBpG49LSU",
   "metadata": {
    "id": "shXKBpG49LSU"
   },
   "outputs": [],
   "source": [
    "results_dict = AgamPrimer.plot_primer_ag3_frequencies(\n",
    "    primer_df=primer_df,\n",
    "    gdna_pos=gdna_pos,\n",
    "    contig=contig,\n",
    "    sample_sets=sample_sets, \n",
    "    sample_query=sample_query,\n",
    "    assay_type=assay_type,\n",
    "    seq_parameters=seq_parameters,\n",
    "    out_dir=\".\"\n",
    ")"
   ]
  },
  {
   "cell_type": "markdown",
   "id": "aCVuE1CiAR4h",
   "metadata": {
    "id": "aCVuE1CiAR4h"
   },
   "source": [
    "Now lets plot these primer pairs across the genome, highlighting where they are in relation to any nearby exons..."
   ]
  },
  {
   "cell_type": "code",
   "execution_count": null,
   "id": "cAacbw-q8Sgm",
   "metadata": {
    "id": "cAacbw-q8Sgm"
   },
   "outputs": [],
   "source": [
    "AgamPrimer.plot_primer_locs(\n",
    "    primer_df=primer_df, \n",
    "    primer_res_dict=results_dict,\n",
    "    assay_type=assay_type, \n",
    "    contig=contig, \n",
    "    seq_parameters=seq_parameters, \n",
    "    legend_loc='lower left',\n",
    "    out_dir=\".\",\n",
    ")"
   ]
  },
  {
   "cell_type": "code",
   "execution_count": null,
   "id": "0JA92ApBcxLo",
   "metadata": {
    "id": "0JA92ApBcxLo"
   },
   "outputs": [],
   "source": [
    "primer_df"
   ]
  },
  {
   "cell_type": "markdown",
   "id": "-aIy4IyoBc7-",
   "metadata": {
    "id": "-aIy4IyoBc7-"
   },
   "source": [
    "### **Checking our primers for specificity to the *Anopheles gambiae* genome**\n",
    "\n",
    "We can use a cool new python package, [gget](https://github.com/pachterlab/gget), to rapidly search our primers against the AgamP3 genome, to ensure they will not amplify any other regions of the genome. gget rapidly queries large databases - in this case we can use the program BLAT to align primer sequences. Unfortunately as the lengths of primer sequences are so short, it is at the limit of BLATs sensitivity, and in some cases, matches are not returned. gget can also currently only query the older AgamP3 assembly. Therefore, it is also recommended run a more exhaustive search in [Primer-BLAST](https://www.ncbi.nlm.nih.gov/tools/primer-blast/)."
   ]
  },
  {
   "cell_type": "code",
   "execution_count": null,
   "id": "zP4LB2bQBgGg",
   "metadata": {
    "id": "zP4LB2bQBgGg"
   },
   "outputs": [],
   "source": [
    "blat_result_df = AgamPrimer.gget_blat_genome(\n",
    "    primer_df, \n",
    "    assay_type, \n",
    "    assembly='anoGam3'\n",
    ")\n",
    "\n",
    "blat_result_df"
   ]
  },
  {
   "cell_type": "markdown",
   "id": "dRflsODz83tW",
   "metadata": {
    "id": "dRflsODz83tW"
   },
   "source": [
    "### **Alternative all-in-one function**"
   ]
  },
  {
   "cell_type": "code",
   "execution_count": 13,
   "id": "5ea12dd4",
   "metadata": {},
   "outputs": [],
   "source": [
    "#view help for function\n",
    "AgamPrimer.designPrimers?"
   ]
  },
  {
   "cell_type": "code",
   "execution_count": null,
   "id": "fiakkk2m7RsS",
   "metadata": {
    "id": "fiakkk2m7RsS"
   },
   "outputs": [],
   "source": [
    "primer_df, blat_df = AgamPrimer.designPrimers(assay_type='gDNA primers + probe',\n",
    "                                   target='2L:2422652' ,\n",
    "                                   assay_name='chrom_x_region',\n",
    "                                   n_primer_pairs=5,\n",
    "                                   min_amplicon_size=60,\n",
    "                                   max_amplicon_size=120,\n",
    "                                   primer_parameters=\"default\",\n",
    "                                   sample_sets=['AG1000G-BF-A', 'AG1000G-GH', 'AG1000G-GN-A'],\n",
    "                                   out_dir=\".\")"
   ]
  },
  {
   "cell_type": "markdown",
   "id": "g4r9sQectXxx",
   "metadata": {
    "id": "g4r9sQectXxx"
   },
   "source": [
    "####**We may now have designed suitable primers. However, there are some further considerations...**\n",
    "\n",
    "\n",
    "- Primers **must** be run in [**NCBI Blast**](https://blast.ncbi.nlm.nih.gov/Blast.cgi), to ensure specificity against the host organism, and specificity for the genomic location of interest. I would recommend both doing a general blast and also specifically against *An. gambiae* (TaxonID = 7165).\n",
    "\n",
    "- If in multiplexed use with other primers or probes, primers must not interact with each other. This can be investigated on a one by one basis using the IDT tool [oligoanalyzer](https://eu.idtdna.com/calc/analyzer), though higher throughput algorithms may be required.\n",
    "\n",
    "- If designing Locked Nucleic Acid (LNA) probes for SNP detection, you will want to play around with the placement of LNAs in the oligo sequence, which can allow short probes (~10-14 bases) to bind with high affinity and discriminate between SNPs. IDT have a tool for this which allow you to check the binding affinity between mismatches, though it requires a log in https://eu.idtdna.com/calc/analyzer/lna. \n",
    "\n",
    "- Many more considerations.... [IDT - How to design primers and probes for PCR and qPCR](https://eu.idtdna.com/pages/education/decoded/article/designing-pcr-primers-and-probes)   \n",
    "\n",
    "\\\n",
    "  \n",
    "\n",
    "####**Future development**\n",
    "\n",
    "Any contributions or suggestions on how we can improve this notebook are more than welcome. Please [email](mailto:sanjay.nagi@lstmed.ac.uk) or log an [issue on github](https://github.com/sanjaynagi/primerDesignAg/issues). This notebook and source code for AgamPrimer are located here - https://github.com/sanjaynagi/AgamPrimer/    \n",
    "\n",
    "\\\n",
    "####**References**\n",
    "\n",
    "The Anopheles gambiae 1000 Genomes Consortium (2020). **Genome variation and population structure among 1142 mosquitoes of the African malaria vector species *Anopheles gambiae* and *Anopheles coluzzii***. *Genome Research*, **30**: 1533-1546. \n",
    "https://genome.cshlp.org/content/early/2020/09/25/gr.262790.120\n",
    "\n",
    "Untergasser A, Cutcutache I, Koressaar T, Ye J, Faircloth BC, Remm M and Rozen SG (2012). **Primer3--new capabilities and interfaces**. *Nucleic Acids Research*. 40(15):e115."
   ]
  }
 ],
 "metadata": {
  "colab": {
   "include_colab_link": true,
   "name": "Primer Design in Anopheles gambiae.ipynb",
   "provenance": []
  },
  "kernelspec": {
   "display_name": "Python 3 (ipykernel)",
   "language": "python",
   "name": "python3"
  },
  "language_info": {
   "codemirror_mode": {
    "name": "ipython",
    "version": 3
   },
   "file_extension": ".py",
   "mimetype": "text/x-python",
   "name": "python",
   "nbconvert_exporter": "python",
   "pygments_lexer": "ipython3",
   "version": "3.7.13"
  },
  "vscode": {
   "interpreter": {
    "hash": "ce681de973941d5edd9bd94c9a2926b7fe65e17e578a68317f38265a230b8ca7"
   }
  }
 },
 "nbformat": 4,
 "nbformat_minor": 5
}
