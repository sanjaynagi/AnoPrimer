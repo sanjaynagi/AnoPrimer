{
 "cells": [
  {
   "cell_type": "markdown",
   "metadata": {
    "colab_type": "text",
    "id": "view-in-github"
   },
   "source": [
    "<a href=\"https://colab.research.google.com/github/sanjaynagi/AgamPrimer/blob/main/notebooks/AgamPrimer-short.ipynb\" target=\"_parent\"><img src=\"https://colab.research.google.com/assets/colab-badge.svg\" alt=\"Open In Colab\"/></a>"
   ]
  },
  {
   "cell_type": "code",
   "execution_count": null,
   "metadata": {
    "id": "GuOxQA1kQOdc"
   },
   "outputs": [],
   "source": [
    "# First, install some packages we require\n",
    "!pip install AgamPrimer -q "
   ]
  },
  {
   "cell_type": "code",
   "execution_count": null,
   "metadata": {
    "id": "3md9Z9mRQRJn"
   },
   "outputs": [],
   "source": [
    "import AgamPrimer\n",
    "import pandas as pd"
   ]
  },
  {
   "cell_type": "markdown",
   "metadata": {
    "id": "aygnIeKqQbUR"
   },
   "source": [
    "##**[AgamPrimer](https://github.com/sanjaynagi/AgamPrimer): Primer design considering genetic variation in *Anopheles gambiae***\n",
    "**Author**: [Sanjay Curtis Nagi](https://sanjaynagi.github.io/)    \n",
    "**Email**: sanjay.nagi@lstmed.ac.uk  \n",
    "\n",
    "This notebook allows users to run AgamPrimer, without running the full, extended colaboratory [notebook](https://colab.research.google.com/github/sanjaynagi/AgamPrimer/blob/main/notebooks/AgamPrimer-long.ipynb)."
   ]
  },
  {
   "cell_type": "code",
   "execution_count": null,
   "metadata": {
    "id": "NCEovYA6RrH4"
   },
   "outputs": [],
   "source": [
    "primer_parameters  =  {\n",
    "        'PRIMER_OPT_SIZE': 20,\n",
    "        'PRIMER_TASK':'generic',\n",
    "        'PRIMER_MIN_SIZE': 17,\n",
    "        'PRIMER_MAX_SIZE': 24,\n",
    "        'PRIMER_OPT_TM': 60.0,\n",
    "        'PRIMER_MIN_TM': 57.0,\n",
    "        'PRIMER_MAX_TM': 63.0,\n",
    "        'PRIMER_MIN_GC': 35.0,\n",
    "        'PRIMER_MAX_GC': 75.0,\n",
    "        'PRIMER_MIN_THREE_PRIME_DISTANCE':3,          # this parameter is the minimum distance between successive pairs. If 1, it means successive primer pairs could be identical bar one base shift\n",
    "        'PRIMER_INTERNAL_OPT_SIZE': 16,               # Probe size preferences if selected, otherwise ignored\n",
    "        'PRIMER_INTERNAL_MIN_SIZE': 10,\n",
    "        'PRIMER_INTERNAL_MAX_SIZE': 22,\n",
    "        'PRIMER_INTERNAL_MIN_TM': 45,\n",
    "        'PRIMER_INTERNAL_MAX_TM': 65,                # Probe considerations are quite relaxed, assumed that LNAs will be used later to affect TM\n",
    "        # Extra primer3 parameters can go here\n",
    "        # In the same format as above                       \n",
    "    }"
   ]
  },
  {
   "cell_type": "markdown",
   "metadata": {
    "id": "eZH4YGmhR6lK"
   },
   "source": [
    "Run the `AgamPrimer.designPrimers()` function to design primers. primer_parameters can either be \"default\", or we can pass `primer_parameters` from the above cell. Here's the [primer3 manual](https://primer3.org/manual.html). "
   ]
  },
  {
   "cell_type": "code",
   "execution_count": null,
   "metadata": {
    "id": "dfOtlN0IQb4p",
    "scrolled": false
   },
   "outputs": [],
   "source": [
    "primer_df, blat_df = AgamPrimer.designPrimers(assay_type='gDNA primers + probe',  # assay_type options are: 'cDNA primers', 'gDNA primers', 'gDNA primers + probe', 'probe'\n",
    "                                   target='2L:2422652',                               #'AGAP000818-RA' target should be an AGAP transcript identifier for qPCR, otherwise should be a contig:integer string in genome, such as '2L:28545767'\n",
    "                                   assay_name='vgsc-995f',\n",
    "                                   n_primer_pairs=5,\n",
    "                                   min_amplicon_size=60,\n",
    "                                   max_amplicon_size=120,\n",
    "                                   primer_parameters=\"default\",\n",
    "                                   sample_sets=['AG1000G-BF-A', 'AG1000G-GH', 'AG1000G-GN-A'],\n",
    "                                   out_dir=\".\")"
   ]
  }
 ],
 "metadata": {
  "colab": {
   "include_colab_link": true,
   "provenance": []
  },
  "kernelspec": {
   "display_name": "Python 3 (ipykernel)",
   "language": "python",
   "name": "python3"
  },
  "language_info": {
   "codemirror_mode": {
    "name": "ipython",
    "version": 3
   },
   "file_extension": ".py",
   "mimetype": "text/x-python",
   "name": "python",
   "nbconvert_exporter": "python",
   "pygments_lexer": "ipython3",
   "version": "3.7.13"
  }
 },
 "nbformat": 4,
 "nbformat_minor": 1
}
