{
  "cells": [
    {
      "cell_type": "markdown",
      "metadata": {
        "id": "view-in-github",
        "colab_type": "text"
      },
      "source": [
        "<a href=\"https://colab.research.google.com/github/sanjaynagi/AnoPrimer/blob/main/notebooks/AnoPrimer-short.ipynb\" target=\"_parent\"><img src=\"https://colab.research.google.com/assets/colab-badge.svg\" alt=\"Open In Colab\"/></a>"
      ]
    },
    {
      "cell_type": "code",
      "execution_count": null,
      "metadata": {
        "id": "GuOxQA1kQOdc"
      },
      "outputs": [],
      "source": [
        "# First, install AnoPrimer into the Google Colab environment\n",
        "%pip install AnoPrimer -q"
      ]
    },
    {
      "cell_type": "code",
      "execution_count": null,
      "metadata": {
        "id": "3md9Z9mRQRJn"
      },
      "outputs": [],
      "source": [
        "import AnoPrimer"
      ]
    },
    {
      "cell_type": "markdown",
      "metadata": {
        "id": "aygnIeKqQbUR"
      },
      "source": [
        "## **[AnoPrimer](https://github.com/sanjaynagi/AnoPrimer): Primer design considering genetic variation in *Anopheles gambiae* and *Anopheles funestus***\n",
        "\n",
        "Nagi SC, Ashraf F, Miles A and Donnelly MJ. **[AnoPrimer](https://github.com/sanjaynagi/AnoPrimer): Primer Design in malaria vectors informed by range-wide genomic variation** [version 1; peer review: 4 approved]. Wellcome Open Res 2024, 9:255 (https://doi.org/10.12688/wellcomeopenres.20998.1)  \n",
        "\n",
        "**Email**: sanjay.nagi@lstmed.ac.uk  \n",
        "\n",
        "---\n",
        "\n",
        "This notebook allows users to run AnoPrimer, without running the full, extended colaboratory [notebook](https://colab.research.google.com/github/sanjaynagi/AnoPrimer/blob/main/notebooks/AnoPrimer-long.ipynb). Note that [access to the malariagen_data resource](https://malariagen.github.io/vector-data/vobs/vobs-data-access.html) is necessary to use AnoPrimer."
      ]
    },
    {
      "cell_type": "code",
      "execution_count": null,
      "metadata": {
        "id": "NCEovYA6RrH4",
        "cellView": "form"
      },
      "outputs": [],
      "source": [
        "#@title **Selecting Primer Parameters** { run: \"auto\" }\n",
        "#@markdown In the below cells, replace the values with those desired for your primers and ensure to press the play button (top left) to run the cell and design primers with AnoPrimer.\n",
        "\n",
        "species = 'gambiae_sl' #@param [\"gambiae_sl\", \"funestus\"]\n",
        "assay_type = 'cDNA primers'           #@param [\"gDNA primers\", \"gDNA primers + probe\", \"probe\", \"cDNA primers\"]\n",
        "assay_name = 'Cyp6p3'        #@param {type:\"string\"}\n",
        "min_amplicon_size = 60        #@param {type:\"integer\"}\n",
        "max_amplicon_size = 120      #@param {type:\"integer\"}\n",
        "amplicon_size_range = [[min_amplicon_size, max_amplicon_size]]\n",
        "n_primer_pairs = 6            #@param {type:\"slider\", min:1, max:20, step:1}\n",
        "cDNA_exon_junction=True #ignore\n",
        "\n",
        "#@markdown\n",
        "#@markdown primer_target should be a region string ('2L:28545767') for gDNA primers and probes, and an AGAP transcript identifier for cDNA primers.\n",
        "\n",
        "primer_target = 'AGAP002865-RA'      #@param {type:\"string\"}"
      ]
    },
    {
      "cell_type": "code",
      "execution_count": null,
      "metadata": {
        "id": "o5KZNxTk9Gwq"
      },
      "outputs": [],
      "source": [
        "primers = AnoPrimer.design_primers(\n",
        "                                species=species,\n",
        "                                assay_type=assay_type,  # assay_type options are: 'cDNA primers', 'gDNA primers', 'gDNA primers + probe', 'probe'\n",
        "                                target=primer_target,                               #'AGAP000818-RA' target should be an AGAP/AFUN transcript identifier for qPCR, otherwise should be a contig:integer string in genome, such as '2L:28545767'\n",
        "                                assay_name=assay_name,\n",
        "                                n_primer_pairs=n_primer_pairs,\n",
        "                                min_amplicon_size=min_amplicon_size,\n",
        "                                max_amplicon_size=max_amplicon_size,\n",
        "                                primer_parameters=\"default\",\n",
        "                                )\n",
        "\n",
        "primers"
      ]
    },
    {
      "cell_type": "markdown",
      "source": [
        "Lets look at the designed primers as a dataframe:"
      ],
      "metadata": {
        "id": "R-Zeb7U8-SAw"
      }
    },
    {
      "cell_type": "code",
      "execution_count": null,
      "metadata": {
        "id": "OY8Fe2Dq9Gwq"
      },
      "outputs": [],
      "source": [
        "primers.df"
      ]
    },
    {
      "cell_type": "markdown",
      "source": [
        "Finally, lets evaluate our primers, by looking for SNPs in the primer binding sites, plotting the primer locations in contrast to any nearby genes and exons, and in the case of *An. gambiae s.l*, checking for specificity by aligning to the *An. gambiae* genome."
      ],
      "metadata": {
        "id": "4Sq8x55m-sDI"
      }
    },
    {
      "cell_type": "code",
      "execution_count": null,
      "metadata": {
        "id": "28HfC_uJ9Gwr"
      },
      "outputs": [],
      "source": [
        "primers.evaluate_primers(sample_sets='3.0', sample_query=None, out_dir=\"./\")"
      ]
    }
  ],
  "metadata": {
    "colab": {
      "provenance": [],
      "include_colab_link": true
    },
    "kernelspec": {
      "display_name": "Python 3 (ipykernel)",
      "language": "python",
      "name": "python3"
    },
    "language_info": {
      "codemirror_mode": {
        "name": "ipython",
        "version": 3
      },
      "file_extension": ".py",
      "mimetype": "text/x-python",
      "name": "python",
      "nbconvert_exporter": "python",
      "pygments_lexer": "ipython3",
      "version": "3.11.0"
    }
  },
  "nbformat": 4,
  "nbformat_minor": 0
}